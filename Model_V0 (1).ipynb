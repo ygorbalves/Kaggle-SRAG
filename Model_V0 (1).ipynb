{
 "cells": [
  {
   "cell_type": "code",
   "execution_count": 1,
   "id": "5cf5788f-3f92-41b0-82ad-56a074b4d1ec",
   "metadata": {
    "tags": []
   },
   "outputs": [],
   "source": [
    "# Importing Libraries used in the Project\n",
    "import pandas as pd\n",
    "import numpy as np\n",
    "import warnings\n",
    "warnings.filterwarnings(\"ignore\")"
   ]
  },
  {
   "cell_type": "markdown",
   "id": "3f661786-166a-45e3-bffe-f7b81a61b3c3",
   "metadata": {},
   "source": [
    "**CAMPO OBRIGATÓRIO** é aquele cuja ausência de dado impossibilita a inclusão do registro no sistema.\n",
    "\n",
    "**CAMPO ESSENCIAL** é aquele que, apesar de não ser obrigatório, registra dado necessário à investigação do caso ou ao cálculo de indicador epidemiológico ou operacional.\n",
    "\n",
    "**CAMPO INTERNO** é aquele que apesar de não constar na ficha e não aparecer no display da tela, é preenchido automaticamente pelo sistema.\n",
    "\n",
    "**CAMPO OPCIONAL** é aquele que só deve ser preenchido caso seja necessário, aparece no display da tela e consta no banco de dados"
   ]
  },
  {
   "cell_type": "code",
   "execution_count": 2,
   "id": "a8ef4bc0-d3b8-4f90-89b9-88889bf25010",
   "metadata": {
    "tags": []
   },
   "outputs": [],
   "source": [
    "df_train = pd.read_csv('../data/train.csv',low_memory=True)"
   ]
  },
  {
   "cell_type": "code",
   "execution_count": 3,
   "id": "61059100-b733-4ebe-9ed7-748a04ce7d01",
   "metadata": {
    "tags": []
   },
   "outputs": [
    {
     "data": {
      "text/html": [
       "<div>\n",
       "<style scoped>\n",
       "    .dataframe tbody tr th:only-of-type {\n",
       "        vertical-align: middle;\n",
       "    }\n",
       "\n",
       "    .dataframe tbody tr th {\n",
       "        vertical-align: top;\n",
       "    }\n",
       "\n",
       "    .dataframe thead th {\n",
       "        text-align: right;\n",
       "    }\n",
       "</style>\n",
       "<table border=\"1\" class=\"dataframe\">\n",
       "  <thead>\n",
       "    <tr style=\"text-align: right;\">\n",
       "      <th></th>\n",
       "      <th>SEM_NOT</th>\n",
       "      <th>SEM_PRI</th>\n",
       "      <th>SG_UF_NOT</th>\n",
       "      <th>ID_REGIONA</th>\n",
       "      <th>CO_REGIONA</th>\n",
       "      <th>ID_MUNICIP</th>\n",
       "      <th>CO_MUN_NOT</th>\n",
       "      <th>CS_SEXO</th>\n",
       "      <th>NU_IDADE_N</th>\n",
       "      <th>TP_IDADE</th>\n",
       "      <th>...</th>\n",
       "      <th>PERD_PALA</th>\n",
       "      <th>TOMO_RES</th>\n",
       "      <th>TOMO_OUT</th>\n",
       "      <th>VACINA_COV</th>\n",
       "      <th>DOSE_1_COV</th>\n",
       "      <th>DOSE_2_COV</th>\n",
       "      <th>DOSE_REF</th>\n",
       "      <th>FNT_IN_COV</th>\n",
       "      <th>DELTA_UTI</th>\n",
       "      <th>ID</th>\n",
       "    </tr>\n",
       "  </thead>\n",
       "  <tbody>\n",
       "    <tr>\n",
       "      <th>0</th>\n",
       "      <td>38</td>\n",
       "      <td>37</td>\n",
       "      <td>RS</td>\n",
       "      <td>005 CRS</td>\n",
       "      <td>1608.0</td>\n",
       "      <td>CAXIAS DO SUL</td>\n",
       "      <td>430510</td>\n",
       "      <td>M</td>\n",
       "      <td>73</td>\n",
       "      <td>3</td>\n",
       "      <td>...</td>\n",
       "      <td>NaN</td>\n",
       "      <td>NaN</td>\n",
       "      <td>NaN</td>\n",
       "      <td>2.0</td>\n",
       "      <td>0</td>\n",
       "      <td>0</td>\n",
       "      <td>0</td>\n",
       "      <td>1.0</td>\n",
       "      <td>-1</td>\n",
       "      <td>87360a9a-5516-4b0c-9c76-faceb759e97b</td>\n",
       "    </tr>\n",
       "  </tbody>\n",
       "</table>\n",
       "<p>1 rows × 76 columns</p>\n",
       "</div>"
      ],
      "text/plain": [
       "   SEM_NOT  SEM_PRI SG_UF_NOT ID_REGIONA  CO_REGIONA     ID_MUNICIP  \\\n",
       "0       38       37        RS    005 CRS      1608.0  CAXIAS DO SUL   \n",
       "\n",
       "   CO_MUN_NOT CS_SEXO  NU_IDADE_N  TP_IDADE  ... PERD_PALA  TOMO_RES  \\\n",
       "0      430510       M          73         3  ...       NaN       NaN   \n",
       "\n",
       "   TOMO_OUT  VACINA_COV DOSE_1_COV  DOSE_2_COV  DOSE_REF  FNT_IN_COV  \\\n",
       "0       NaN         2.0          0           0         0         1.0   \n",
       "\n",
       "   DELTA_UTI                                    ID  \n",
       "0         -1  87360a9a-5516-4b0c-9c76-faceb759e97b  \n",
       "\n",
       "[1 rows x 76 columns]"
      ]
     },
     "execution_count": 3,
     "metadata": {},
     "output_type": "execute_result"
    }
   ],
   "source": [
    "df_train.head(1)"
   ]
  },
  {
   "cell_type": "code",
   "execution_count": 4,
   "id": "af0b9deb-32ea-452c-9d5d-3729c3b56175",
   "metadata": {
    "tags": []
   },
   "outputs": [],
   "source": [
    "df_train1 = df_train[df_train['NU_IDADE_N'] <=19]\n",
    "df_train2 = df_train[ (df_train['NU_IDADE_N'] > 19) & (df_train['NU_IDADE_N']<=30) ]\n",
    "df_train3 = df_train[df_train['NU_IDADE_N'] > 30]\n",
    "\n",
    "df_train_target1 = df_train1['CLASSI_FIN'].to_numpy()\n",
    "df_train_target2 = df_train2['CLASSI_FIN'].to_numpy()\n",
    "df_train_target3 = df_train3['CLASSI_FIN'].to_numpy()"
   ]
  },
  {
   "cell_type": "code",
   "execution_count": 5,
   "id": "1ff0c8d8-6977-43c9-9929-c2ccaecc04c9",
   "metadata": {
    "tags": []
   },
   "outputs": [],
   "source": [
    "#df_train_target.value_counts()\n",
    "# 5 = covid, 4 = SRAG não especificado, 3 = outro agente não etiológico, 2 = outro vírus resp., 1 = influenza"
   ]
  },
  {
   "cell_type": "markdown",
   "id": "2e7a5c9a-d8f5-4182-9434-3eb397cde1f1",
   "metadata": {
    "tags": []
   },
   "source": [
    "## **Features Analysis**"
   ]
  },
  {
   "cell_type": "code",
   "execution_count": 6,
   "id": "c83084cc-48fa-4fc1-b63c-751c9c460872",
   "metadata": {
    "tags": []
   },
   "outputs": [
    {
     "data": {
      "text/plain": [
       "Index(['SEM_NOT', 'SEM_PRI', 'SG_UF_NOT', 'ID_REGIONA', 'CO_REGIONA',\n",
       "       'ID_MUNICIP', 'CO_MUN_NOT', 'CS_SEXO', 'NU_IDADE_N', 'TP_IDADE',\n",
       "       'COD_IDADE', 'CS_GESTANT', 'CS_RACA', 'CS_ESCOL_N', 'SG_UF', 'CS_ZONA',\n",
       "       'SURTO_SG', 'NOSOCOMIAL', 'AVE_SUINO', 'FEBRE', 'TOSSE', 'GARGANTA',\n",
       "       'DISPNEIA', 'DESC_RESP', 'SATURACAO', 'DIARREIA', 'VOMITO', 'OUTRO_SIN',\n",
       "       'OUTRO_DES', 'PUERPERA', 'FATOR_RISC', 'CARDIOPATI', 'HEMATOLOGI',\n",
       "       'SIND_DOWN', 'HEPATICA', 'ASMA', 'DIABETES', 'NEUROLOGIC', 'PNEUMOPATI',\n",
       "       'IMUNODEPRE', 'RENAL', 'OBESIDADE', 'OBES_IMC', 'OUT_MORBI',\n",
       "       'MORB_DESC', 'VACINA', 'MAE_VAC', 'M_AMAMENTA', 'ANTIVIRAL',\n",
       "       'TP_ANTIVIR', 'HOSPITAL', 'UTI', 'SUPORT_VEN', 'RAIOX_RES', 'RAIOX_OUT',\n",
       "       'AMOSTRA', 'TP_AMOSTRA', 'OUT_AMOST', 'CLASSI_FIN', 'HISTO_VGM',\n",
       "       'PAC_COCBO', 'PAC_DSCBO', 'OUT_ANIM', 'DOR_ABD', 'FADIGA', 'PERD_OLFT',\n",
       "       'PERD_PALA', 'TOMO_RES', 'TOMO_OUT', 'VACINA_COV', 'DOSE_1_COV',\n",
       "       'DOSE_2_COV', 'DOSE_REF', 'FNT_IN_COV', 'DELTA_UTI', 'ID'],\n",
       "      dtype='object')"
      ]
     },
     "execution_count": 6,
     "metadata": {},
     "output_type": "execute_result"
    }
   ],
   "source": [
    "df_train.columns"
   ]
  },
  {
   "cell_type": "markdown",
   "id": "311fcf41-decf-4ce6-8369-acbfeac888fd",
   "metadata": {},
   "source": [
    "# Divisão de Features para o Modelo"
   ]
  },
  {
   "cell_type": "markdown",
   "id": "a0d849d2-67a8-46d4-af46-490da8362820",
   "metadata": {},
   "source": [
    "### **IDADE ---> (0,40)**"
   ]
  },
  {
   "cell_type": "code",
   "execution_count": 7,
   "id": "2eac8bac-1cc9-461a-8c29-79b418415b97",
   "metadata": {
    "jupyter": {
     "source_hidden": true
    },
    "tags": []
   },
   "outputs": [],
   "source": [
    "# Características GERAIS\n",
    "idade1 = df_train1['NU_IDADE_N'].to_numpy()\n",
    "uf1 = df_train1['SG_UF'].to_numpy()\n",
    "sexo1 = df_train1['CS_SEXO'].to_numpy()\n",
    "gestante1 = df_train1['CS_GESTANT'].to_numpy()\n",
    "raca1 = df_train1['CS_RACA'] \n",
    "escolaridade1 = df_train1['CS_ESCOL_N'].copy() # campo essencial (não obrigatório)\n",
    "escolaridade1[np.isnan(escolaridade1)] = 9\n",
    "escolaridade1 = escolaridade1.to_numpy()\n",
    "zona1 = df_train1['CS_ZONA'].copy()\n",
    "zona1[np.isnan(zona1)] = 9\n",
    "zona1 = zona1.to_numpy()\n",
    "gestante1 = df_train1['CS_GESTANT'].to_numpy()\n",
    "\n",
    "caracteristicas_gerais1 = [idade1,uf1,sexo1,gestante1,raca1,escolaridade1,zona1]\n",
    "caracteristicas_gerais_desc1 = [\"idade\",\"uf\",\"sexo\",\"gestante\",\"raca\",\"escolaridade\",\"zona\"]\n",
    "\n",
    "# Relativos a SINTOMAS, eles são campos **ESSENCIAIS**\n",
    "febre1 = df_train1['FEBRE'].copy()\n",
    "febre1[np.isnan(febre1)] = 9\n",
    "febre1 = febre1.to_numpy()\n",
    "\n",
    "tosse1 = df_train1['TOSSE'].copy()\n",
    "tosse1[np.isnan(tosse1)] = 9\n",
    "tosse1 = tosse1.to_numpy()\n",
    "\n",
    "garganta1 = df_train1['GARGANTA'].copy()\n",
    "garganta1[np.isnan(garganta1)] = 9\n",
    "garganta1 = garganta1.to_numpy()\n",
    "\n",
    "dispneia1 = df_train1['DISPNEIA'].copy()\n",
    "dispneia1[np.isnan(dispneia1)] = 9\n",
    "dispneia1 = dispneia1.to_numpy()\n",
    "\n",
    "desc_resp1 = df_train1['DESC_RESP'].copy()\n",
    "desc_resp1[np.isnan(desc_resp1)] = 9\n",
    "desc_resp1 = desc_resp1.to_numpy()\n",
    "\n",
    "saturacao1 = df_train1['SATURACAO'].copy()\n",
    "saturacao1[np.isnan(saturacao1)] = 9\n",
    "saturacao1 = saturacao1.to_numpy()\n",
    "\n",
    "diarreia1 = df_train1['DIARREIA'].copy()\n",
    "diarreia1[np.isnan(diarreia1)] = 9\n",
    "diarreia1 = diarreia1.to_numpy()\n",
    "\n",
    "vomito1 = df_train1['VOMITO'].copy()\n",
    "vomito1[np.isnan(vomito1)] = 9\n",
    "vomito1 = vomito1.to_numpy()\n",
    "\n",
    "dor_abd1 = df_train1['DOR_ABD'].copy()\n",
    "dor_abd1[np.isnan(dor_abd1)] = 9\n",
    "dor_abd1 = dor_abd1.to_numpy()\n",
    "\n",
    "fadiga1 = df_train1['FADIGA'].copy()\n",
    "fadiga1[np.isnan(fadiga1)] = 9\n",
    "fadiga1 = fadiga1.to_numpy()\n",
    "\n",
    "perda_olfato1 = df_train1['PERD_OLFT'].copy()\n",
    "perda_olfato1[np.isnan(perda_olfato1)] = 9\n",
    "perda_olfato1 = perda_olfato1.to_numpy()\n",
    "\n",
    "perda_paladar1 = df_train1['PERD_PALA'].copy()\n",
    "perda_paladar1[np.isnan(perda_paladar1)] = 9\n",
    "perda_paladar1 = perda_paladar1.to_numpy()\n",
    "\n",
    "outros_sintomas1 = df_train1['OUTRO_SIN'].copy()\n",
    "outros_sintomas1[np.isnan(outros_sintomas1)] = 9\n",
    "outros_sintomas1 = outros_sintomas1.to_numpy()\n",
    "\n",
    "sintomas1 = [febre1,tosse1,garganta1,dispneia1,desc_resp1,saturacao1,diarreia1,vomito1,dor_abd1,\n",
    "               fadiga1,perda_olfato1,perda_paladar1,outros_sintomas1]\n",
    "sintomas_desc1 = [\"febre\",\"tosse\",\"garganta\",\"dispneia\",\"desc_resp\",\"saturacao\",\"diarreia\",\n",
    "                   \"vomito\",\"dor_abddominal\",\"fadiga\",\"perda_olfato\",\"perda_paladar\",\n",
    "                   \"outros_sintomas\"]\n",
    "for i in range(0,len(sexo1)):\n",
    "    if(sexo1[i] == 'F'):\n",
    "        sexo1[i] = 0\n",
    "    else:\n",
    "        sexo1[i] = 1"
   ]
  },
  {
   "cell_type": "markdown",
   "id": "6b07d867-6dfb-4123-ba01-e63fa5d69f97",
   "metadata": {
    "tags": []
   },
   "source": [
    "### **IDADE ---> (40,60)**"
   ]
  },
  {
   "cell_type": "code",
   "execution_count": 8,
   "id": "65a5e0b5-83b7-4d96-b3c0-96cfb01502da",
   "metadata": {
    "jupyter": {
     "source_hidden": true
    },
    "tags": []
   },
   "outputs": [],
   "source": [
    "# Características GERAIS\n",
    "idade2 = df_train2['NU_IDADE_N'].to_numpy()\n",
    "uf2 = df_train2['SG_UF'].to_numpy()\n",
    "sexo2 = df_train2['CS_SEXO'].to_numpy()\n",
    "gestante2 = df_train2['CS_GESTANT'].to_numpy()\n",
    "raca2 = df_train2['CS_RACA'] \n",
    "escolaridade2 = df_train2['CS_ESCOL_N'].copy() # campo essencial (não obrigatório)\n",
    "escolaridade2[np.isnan(escolaridade2)] = 9\n",
    "escolaridade2 = escolaridade2.to_numpy()\n",
    "zona2 = df_train2['CS_ZONA'].copy()\n",
    "zona2[np.isnan(zona2)] = 9\n",
    "zona2 = zona2.to_numpy()\n",
    "gestante2 = df_train2['CS_GESTANT'].to_numpy()\n",
    "\n",
    "#caracteristicas_gerais2 = [idade2,uf2,sexo2,gestante,raca,escolaridade,zona]\n",
    "caracteristicas_gerais_desc2 = [\"idade\",\"uf\",\"sexo\",\"gestante\",\"raca\",\"escolaridade\",\"zona\"]\n",
    "\n",
    "# Relativos a SINTOMAS, eles são campos **ESSENCIAIS**\n",
    "febre2 = df_train2['FEBRE'].copy()\n",
    "febre2[np.isnan(febre2)] = 9\n",
    "febre2 = febre2.to_numpy()\n",
    "\n",
    "tosse2 = df_train2['TOSSE'].copy()\n",
    "tosse2[np.isnan(tosse2)] = 9\n",
    "tosse2 = tosse2.to_numpy()\n",
    "\n",
    "garganta2 = df_train2['GARGANTA'].copy()\n",
    "garganta2[np.isnan(garganta2)] = 9\n",
    "garganta2 = garganta2.to_numpy()\n",
    "\n",
    "dispneia2 = df_train2['DISPNEIA'].copy()\n",
    "dispneia2[np.isnan(dispneia2)] = 9\n",
    "dispneia2 = dispneia2.to_numpy()\n",
    "\n",
    "desc_resp2 = df_train2['DESC_RESP'].copy()\n",
    "desc_resp2[np.isnan(desc_resp2)] = 9\n",
    "desc_resp2 = desc_resp2.to_numpy()\n",
    "\n",
    "saturacao2 = df_train2['SATURACAO'].copy()\n",
    "saturacao2[np.isnan(saturacao2)] = 9\n",
    "saturacao2 = saturacao2.to_numpy()\n",
    "\n",
    "diarreia2 = df_train2['DIARREIA'].copy()\n",
    "diarreia2[np.isnan(diarreia2)] = 9\n",
    "diarreia2 = diarreia2.to_numpy()\n",
    "\n",
    "vomito2 = df_train2['VOMITO'].copy()\n",
    "vomito2[np.isnan(vomito2)] = 9\n",
    "vomito2 = vomito2.to_numpy()\n",
    "\n",
    "dor_abd2 = df_train2['DOR_ABD'].copy()\n",
    "dor_abd2[np.isnan(dor_abd2)] = 9\n",
    "dor_abd2 = dor_abd2.to_numpy()\n",
    "\n",
    "fadiga2 = df_train2['FADIGA'].copy()\n",
    "fadiga2[np.isnan(fadiga2)] = 9\n",
    "fadiga2 = fadiga2.to_numpy()\n",
    "\n",
    "perda_olfato2 = df_train2['PERD_OLFT'].copy()\n",
    "perda_olfato2[np.isnan(perda_olfato2)] = 9\n",
    "perda_olfato2 = perda_olfato2.to_numpy()\n",
    "\n",
    "perda_paladar2 = df_train2['PERD_PALA'].copy()\n",
    "perda_paladar2[np.isnan(perda_paladar2)] = 9\n",
    "perda_paladar2 = perda_paladar2.to_numpy()\n",
    "\n",
    "outros_sintomas2 = df_train2['OUTRO_SIN'].copy()\n",
    "outros_sintomas2[np.isnan(outros_sintomas2)] = 9\n",
    "outros_sintomas2 = outros_sintomas2.to_numpy()\n",
    "\n",
    "sintomas2 = [febre2,tosse2,garganta2,dispneia2,desc_resp2,saturacao2,diarreia2,vomito2,dor_abd2,\n",
    "               fadiga2,perda_olfato2,perda_paladar2,outros_sintomas2]\n",
    "sintomas_desc2 = [\"febre\",\"tosse\",\"garganta\",\"dispneia\",\"desc_resp\",\"saturacao\",\"diarreia\",\n",
    "                   \"vomito\",\"dor_abddominal\",\"fadiga\",\"perda_olfato\",\"perda_paladar\",\n",
    "                   \"outros_sintomas\"]\n",
    "\n",
    "for i in range(0,len(sexo2)):\n",
    "    if(sexo2[i] == 'F'):\n",
    "        sexo2[i] = 0\n",
    "    else:\n",
    "        sexo2[i] = 1"
   ]
  },
  {
   "cell_type": "markdown",
   "id": "7ab01ecc-062e-4b7a-b05e-902457df697d",
   "metadata": {
    "tags": []
   },
   "source": [
    "### **IDADE ---> (60,...)**"
   ]
  },
  {
   "cell_type": "code",
   "execution_count": 9,
   "id": "ffa54a3f-21b4-447e-9d4f-63210f98f0e2",
   "metadata": {
    "jupyter": {
     "source_hidden": true
    },
    "tags": []
   },
   "outputs": [],
   "source": [
    "# Características GERAIS\n",
    "idade3 = df_train3['NU_IDADE_N'].to_numpy()\n",
    "uf3 = df_train3['SG_UF'].to_numpy()\n",
    "sexo3 = df_train3['CS_SEXO'].to_numpy()\n",
    "gestante3 = df_train3['CS_GESTANT'].to_numpy()\n",
    "raca3 = df_train3['CS_RACA'] \n",
    "escolaridade3 = df_train3['CS_ESCOL_N'].copy() # campo essencial (não obrigatório)\n",
    "escolaridade3[np.isnan(escolaridade3)] = 9\n",
    "escolaridade3 = escolaridade3.to_numpy()\n",
    "zona3 = df_train3['CS_ZONA'].copy()\n",
    "zona3[np.isnan(zona3)] = 9\n",
    "zona3 = zona3.to_numpy()\n",
    "gestante3 = df_train3['CS_GESTANT'].to_numpy()\n",
    "\n",
    "#caracteristicas_gerais3 = [idade,uf,sexo,gestante,raca,escolaridade,zona]\n",
    "caracteristicas_gerais_desc3 = [\"idade\",\"uf\",\"sexo\",\"gestante\",\"raca\",\"escolaridade\",\"zona\"]\n",
    "\n",
    "# Relativos a SINTOMAS, eles são campos **ESSENCIAIS**\n",
    "febre3 = df_train3['FEBRE'].copy()\n",
    "febre3[np.isnan(febre3)] = 9\n",
    "febre3 = febre3.to_numpy()\n",
    "\n",
    "tosse3 = df_train3['TOSSE'].copy()\n",
    "tosse3[np.isnan(tosse3)] = 9\n",
    "tosse3 = tosse3.to_numpy()\n",
    "\n",
    "garganta3 = df_train3['GARGANTA'].copy()\n",
    "garganta3[np.isnan(garganta3)] = 9\n",
    "garganta3 = garganta3.to_numpy()\n",
    "\n",
    "dispneia3 = df_train3['DISPNEIA'].copy()\n",
    "dispneia3[np.isnan(dispneia3)] = 9\n",
    "dispneia3 = dispneia3.to_numpy()\n",
    "\n",
    "desc_resp3 = df_train3['DESC_RESP'].copy()\n",
    "desc_resp3[np.isnan(desc_resp3)] = 9\n",
    "desc_resp3 = desc_resp3.to_numpy()\n",
    "\n",
    "saturacao3 = df_train3['SATURACAO'].copy()\n",
    "saturacao3[np.isnan(saturacao3)] = 9\n",
    "saturacao3 = saturacao3.to_numpy()\n",
    "\n",
    "diarreia3 = df_train3['DIARREIA'].copy()\n",
    "diarreia3[np.isnan(diarreia3)] = 9\n",
    "diarreia3 = diarreia3.to_numpy()\n",
    "\n",
    "vomito3 = df_train3['VOMITO'].copy()\n",
    "vomito3[np.isnan(vomito3)] = 9\n",
    "vomito3 = vomito3.to_numpy()\n",
    "\n",
    "dor_abd3 = df_train3['DOR_ABD'].copy()\n",
    "dor_abd3[np.isnan(dor_abd3)] = 9\n",
    "dor_abd3 = dor_abd3.to_numpy()\n",
    "\n",
    "fadiga3 = df_train3['FADIGA'].copy()\n",
    "fadiga3[np.isnan(fadiga3)] = 9\n",
    "fadiga3 = fadiga3.to_numpy()\n",
    "\n",
    "perda_olfato3 = df_train3['PERD_OLFT'].copy()\n",
    "perda_olfato3[np.isnan(perda_olfato3)] = 9\n",
    "perda_olfato3 = perda_olfato3.to_numpy()\n",
    "\n",
    "perda_paladar3 = df_train3['PERD_PALA'].copy()\n",
    "perda_paladar3[np.isnan(perda_paladar3)] = 9\n",
    "perda_paladar3 = perda_paladar3.to_numpy()\n",
    "\n",
    "outros_sintomas3 = df_train3['OUTRO_SIN'].copy()\n",
    "outros_sintomas3[np.isnan(outros_sintomas3)] = 9\n",
    "outros_sintomas3 = outros_sintomas3.to_numpy()\n",
    "\n",
    "sintomas3 = [febre3,tosse3,garganta3,dispneia3,desc_resp3,saturacao3,diarreia3,vomito3,dor_abd3,\n",
    "               fadiga3,perda_olfato3,perda_paladar3,outros_sintomas3]\n",
    "sintomas_desc3 = [\"febre\",\"tosse\",\"garganta\",\"dispneia\",\"desc_resp\",\"saturacao\",\"diarreia\",\n",
    "                   \"vomito\",\"dor_abddominal\",\"fadiga\",\"perda_olfato\",\"perda_paladar\",\n",
    "                   \"outros_sintomas\"]\n",
    "\n",
    "for i in range(0,len(sexo3)):\n",
    "    if(sexo3[i] == 'F'):\n",
    "        sexo3[i] = 0\n",
    "    else:\n",
    "        sexo3[i] = 1"
   ]
  },
  {
   "cell_type": "markdown",
   "id": "14ffec12-4f02-4b5d-b12b-90a77af2bae6",
   "metadata": {
    "tags": []
   },
   "source": [
    "# **Montando Modelo Piloto**"
   ]
  },
  {
   "cell_type": "code",
   "execution_count": 10,
   "id": "0d8f4fd4-2f62-445f-b9db-93b440034dac",
   "metadata": {},
   "outputs": [],
   "source": [
    "from sklearn.ensemble import RandomForestClassifier\n",
    "from sklearn.model_selection import train_test_split\n",
    "from sklearn.metrics import precision_score, f1_score\n",
    "from sklearn.cluster import KMeans\n",
    "from sklearn.neighbors import KNeighborsClassifier"
   ]
  },
  {
   "cell_type": "markdown",
   "id": "2559fc66-1799-46f9-a79f-f6c6f5257c44",
   "metadata": {
    "tags": []
   },
   "source": [
    "## **Parte1**"
   ]
  },
  {
   "cell_type": "code",
   "execution_count": 11,
   "id": "341e421e-d023-4491-b336-c78450ef186c",
   "metadata": {
    "tags": []
   },
   "outputs": [],
   "source": [
    "Y1 = df_train_target1\n",
    "X1 = np.concatenate([saturacao1**2,perda_olfato1**0.3,perda_paladar1,\n",
    "                    sexo1,idade1**2,zona1**0.3]).reshape(len(Y1),6)\n"
   ]
  },
  {
   "cell_type": "code",
   "execution_count": 12,
   "id": "d614b222-3aa0-4962-820e-667f2401f392",
   "metadata": {
    "tags": []
   },
   "outputs": [],
   "source": [
    "X_train1, X_test1, y_train1, y_test1 = train_test_split(\n",
    "        X1, Y1, test_size=0.5, random_state=42\n",
    ")"
   ]
  },
  {
   "cell_type": "code",
   "execution_count": 14,
   "id": "3b3c85ff-9f6b-476d-ac75-c2faa0f3ad60",
   "metadata": {
    "tags": []
   },
   "outputs": [
    {
     "data": {
      "text/html": [
       "<style>#sk-container-id-1 {color: black;background-color: white;}#sk-container-id-1 pre{padding: 0;}#sk-container-id-1 div.sk-toggleable {background-color: white;}#sk-container-id-1 label.sk-toggleable__label {cursor: pointer;display: block;width: 100%;margin-bottom: 0;padding: 0.3em;box-sizing: border-box;text-align: center;}#sk-container-id-1 label.sk-toggleable__label-arrow:before {content: \"▸\";float: left;margin-right: 0.25em;color: #696969;}#sk-container-id-1 label.sk-toggleable__label-arrow:hover:before {color: black;}#sk-container-id-1 div.sk-estimator:hover label.sk-toggleable__label-arrow:before {color: black;}#sk-container-id-1 div.sk-toggleable__content {max-height: 0;max-width: 0;overflow: hidden;text-align: left;background-color: #f0f8ff;}#sk-container-id-1 div.sk-toggleable__content pre {margin: 0.2em;color: black;border-radius: 0.25em;background-color: #f0f8ff;}#sk-container-id-1 input.sk-toggleable__control:checked~div.sk-toggleable__content {max-height: 200px;max-width: 100%;overflow: auto;}#sk-container-id-1 input.sk-toggleable__control:checked~label.sk-toggleable__label-arrow:before {content: \"▾\";}#sk-container-id-1 div.sk-estimator input.sk-toggleable__control:checked~label.sk-toggleable__label {background-color: #d4ebff;}#sk-container-id-1 div.sk-label input.sk-toggleable__control:checked~label.sk-toggleable__label {background-color: #d4ebff;}#sk-container-id-1 input.sk-hidden--visually {border: 0;clip: rect(1px 1px 1px 1px);clip: rect(1px, 1px, 1px, 1px);height: 1px;margin: -1px;overflow: hidden;padding: 0;position: absolute;width: 1px;}#sk-container-id-1 div.sk-estimator {font-family: monospace;background-color: #f0f8ff;border: 1px dotted black;border-radius: 0.25em;box-sizing: border-box;margin-bottom: 0.5em;}#sk-container-id-1 div.sk-estimator:hover {background-color: #d4ebff;}#sk-container-id-1 div.sk-parallel-item::after {content: \"\";width: 100%;border-bottom: 1px solid gray;flex-grow: 1;}#sk-container-id-1 div.sk-label:hover label.sk-toggleable__label {background-color: #d4ebff;}#sk-container-id-1 div.sk-serial::before {content: \"\";position: absolute;border-left: 1px solid gray;box-sizing: border-box;top: 0;bottom: 0;left: 50%;z-index: 0;}#sk-container-id-1 div.sk-serial {display: flex;flex-direction: column;align-items: center;background-color: white;padding-right: 0.2em;padding-left: 0.2em;position: relative;}#sk-container-id-1 div.sk-item {position: relative;z-index: 1;}#sk-container-id-1 div.sk-parallel {display: flex;align-items: stretch;justify-content: center;background-color: white;position: relative;}#sk-container-id-1 div.sk-item::before, #sk-container-id-1 div.sk-parallel-item::before {content: \"\";position: absolute;border-left: 1px solid gray;box-sizing: border-box;top: 0;bottom: 0;left: 50%;z-index: -1;}#sk-container-id-1 div.sk-parallel-item {display: flex;flex-direction: column;z-index: 1;position: relative;background-color: white;}#sk-container-id-1 div.sk-parallel-item:first-child::after {align-self: flex-end;width: 50%;}#sk-container-id-1 div.sk-parallel-item:last-child::after {align-self: flex-start;width: 50%;}#sk-container-id-1 div.sk-parallel-item:only-child::after {width: 0;}#sk-container-id-1 div.sk-dashed-wrapped {border: 1px dashed gray;margin: 0 0.4em 0.5em 0.4em;box-sizing: border-box;padding-bottom: 0.4em;background-color: white;}#sk-container-id-1 div.sk-label label {font-family: monospace;font-weight: bold;display: inline-block;line-height: 1.2em;}#sk-container-id-1 div.sk-label-container {text-align: center;}#sk-container-id-1 div.sk-container {/* jupyter's `normalize.less` sets `[hidden] { display: none; }` but bootstrap.min.css set `[hidden] { display: none !important; }` so we also need the `!important` here to be able to override the default hidden behavior on the sphinx rendered scikit-learn.org. See: https://github.com/scikit-learn/scikit-learn/issues/21755 */display: inline-block !important;position: relative;}#sk-container-id-1 div.sk-text-repr-fallback {display: none;}</style><div id=\"sk-container-id-1\" class=\"sk-top-container\"><div class=\"sk-text-repr-fallback\"><pre>RandomForestClassifier(n_estimators=320, n_jobs=-1, random_state=0)</pre><b>In a Jupyter environment, please rerun this cell to show the HTML representation or trust the notebook. <br />On GitHub, the HTML representation is unable to render, please try loading this page with nbviewer.org.</b></div><div class=\"sk-container\" hidden><div class=\"sk-item\"><div class=\"sk-estimator sk-toggleable\"><input class=\"sk-toggleable__control sk-hidden--visually\" id=\"sk-estimator-id-1\" type=\"checkbox\" checked><label for=\"sk-estimator-id-1\" class=\"sk-toggleable__label sk-toggleable__label-arrow\">RandomForestClassifier</label><div class=\"sk-toggleable__content\"><pre>RandomForestClassifier(n_estimators=320, n_jobs=-1, random_state=0)</pre></div></div></div></div></div>"
      ],
      "text/plain": [
       "RandomForestClassifier(n_estimators=320, n_jobs=-1, random_state=0)"
      ]
     },
     "execution_count": 14,
     "metadata": {},
     "output_type": "execute_result"
    }
   ],
   "source": [
    "clf1 = RandomForestClassifier(\n",
    "    random_state=0,n_estimators=320,n_jobs=-1,\n",
    "    #min_samples_split=4,\n",
    "    #min_samples_leaf=1,\n",
    "    #min_weight_fraction_leaf=0.01,\n",
    "    #max_features='sqrt',\n",
    "    #max_leaf_nodes=100,\n",
    ")\n",
    "clf1.fit(X_train1,y_train1)"
   ]
  },
  {
   "cell_type": "code",
   "execution_count": 15,
   "id": "03d1448a-94b2-4cb3-8f94-1f523f896d20",
   "metadata": {
    "tags": []
   },
   "outputs": [],
   "source": [
    "y_pred1_rf = clf1.predict(X_test1)"
   ]
  },
  {
   "cell_type": "code",
   "execution_count": 16,
   "id": "591ab496-406a-42d0-9460-877e0fc69f28",
   "metadata": {
    "tags": []
   },
   "outputs": [
    {
     "data": {
      "text/plain": [
       "0.5835518142336639"
      ]
     },
     "execution_count": 16,
     "metadata": {},
     "output_type": "execute_result"
    }
   ],
   "source": [
    "f1_score(y_test1, y_pred1_rf, average='macro')"
   ]
  },
  {
   "cell_type": "markdown",
   "id": "dfbd4d5c-84f5-4d64-b8dc-a1836f14b035",
   "metadata": {},
   "source": [
    "--------"
   ]
  },
  {
   "cell_type": "code",
   "execution_count": 17,
   "id": "ccaace16-5385-46f0-af18-5258e2b80870",
   "metadata": {
    "tags": []
   },
   "outputs": [
    {
     "data": {
      "text/html": [
       "<style>#sk-container-id-2 {color: black;background-color: white;}#sk-container-id-2 pre{padding: 0;}#sk-container-id-2 div.sk-toggleable {background-color: white;}#sk-container-id-2 label.sk-toggleable__label {cursor: pointer;display: block;width: 100%;margin-bottom: 0;padding: 0.3em;box-sizing: border-box;text-align: center;}#sk-container-id-2 label.sk-toggleable__label-arrow:before {content: \"▸\";float: left;margin-right: 0.25em;color: #696969;}#sk-container-id-2 label.sk-toggleable__label-arrow:hover:before {color: black;}#sk-container-id-2 div.sk-estimator:hover label.sk-toggleable__label-arrow:before {color: black;}#sk-container-id-2 div.sk-toggleable__content {max-height: 0;max-width: 0;overflow: hidden;text-align: left;background-color: #f0f8ff;}#sk-container-id-2 div.sk-toggleable__content pre {margin: 0.2em;color: black;border-radius: 0.25em;background-color: #f0f8ff;}#sk-container-id-2 input.sk-toggleable__control:checked~div.sk-toggleable__content {max-height: 200px;max-width: 100%;overflow: auto;}#sk-container-id-2 input.sk-toggleable__control:checked~label.sk-toggleable__label-arrow:before {content: \"▾\";}#sk-container-id-2 div.sk-estimator input.sk-toggleable__control:checked~label.sk-toggleable__label {background-color: #d4ebff;}#sk-container-id-2 div.sk-label input.sk-toggleable__control:checked~label.sk-toggleable__label {background-color: #d4ebff;}#sk-container-id-2 input.sk-hidden--visually {border: 0;clip: rect(1px 1px 1px 1px);clip: rect(1px, 1px, 1px, 1px);height: 1px;margin: -1px;overflow: hidden;padding: 0;position: absolute;width: 1px;}#sk-container-id-2 div.sk-estimator {font-family: monospace;background-color: #f0f8ff;border: 1px dotted black;border-radius: 0.25em;box-sizing: border-box;margin-bottom: 0.5em;}#sk-container-id-2 div.sk-estimator:hover {background-color: #d4ebff;}#sk-container-id-2 div.sk-parallel-item::after {content: \"\";width: 100%;border-bottom: 1px solid gray;flex-grow: 1;}#sk-container-id-2 div.sk-label:hover label.sk-toggleable__label {background-color: #d4ebff;}#sk-container-id-2 div.sk-serial::before {content: \"\";position: absolute;border-left: 1px solid gray;box-sizing: border-box;top: 0;bottom: 0;left: 50%;z-index: 0;}#sk-container-id-2 div.sk-serial {display: flex;flex-direction: column;align-items: center;background-color: white;padding-right: 0.2em;padding-left: 0.2em;position: relative;}#sk-container-id-2 div.sk-item {position: relative;z-index: 1;}#sk-container-id-2 div.sk-parallel {display: flex;align-items: stretch;justify-content: center;background-color: white;position: relative;}#sk-container-id-2 div.sk-item::before, #sk-container-id-2 div.sk-parallel-item::before {content: \"\";position: absolute;border-left: 1px solid gray;box-sizing: border-box;top: 0;bottom: 0;left: 50%;z-index: -1;}#sk-container-id-2 div.sk-parallel-item {display: flex;flex-direction: column;z-index: 1;position: relative;background-color: white;}#sk-container-id-2 div.sk-parallel-item:first-child::after {align-self: flex-end;width: 50%;}#sk-container-id-2 div.sk-parallel-item:last-child::after {align-self: flex-start;width: 50%;}#sk-container-id-2 div.sk-parallel-item:only-child::after {width: 0;}#sk-container-id-2 div.sk-dashed-wrapped {border: 1px dashed gray;margin: 0 0.4em 0.5em 0.4em;box-sizing: border-box;padding-bottom: 0.4em;background-color: white;}#sk-container-id-2 div.sk-label label {font-family: monospace;font-weight: bold;display: inline-block;line-height: 1.2em;}#sk-container-id-2 div.sk-label-container {text-align: center;}#sk-container-id-2 div.sk-container {/* jupyter's `normalize.less` sets `[hidden] { display: none; }` but bootstrap.min.css set `[hidden] { display: none !important; }` so we also need the `!important` here to be able to override the default hidden behavior on the sphinx rendered scikit-learn.org. See: https://github.com/scikit-learn/scikit-learn/issues/21755 */display: inline-block !important;position: relative;}#sk-container-id-2 div.sk-text-repr-fallback {display: none;}</style><div id=\"sk-container-id-2\" class=\"sk-top-container\"><div class=\"sk-text-repr-fallback\"><pre>KNeighborsClassifier(n_jobs=-1, n_neighbors=1, p=1)</pre><b>In a Jupyter environment, please rerun this cell to show the HTML representation or trust the notebook. <br />On GitHub, the HTML representation is unable to render, please try loading this page with nbviewer.org.</b></div><div class=\"sk-container\" hidden><div class=\"sk-item\"><div class=\"sk-estimator sk-toggleable\"><input class=\"sk-toggleable__control sk-hidden--visually\" id=\"sk-estimator-id-2\" type=\"checkbox\" checked><label for=\"sk-estimator-id-2\" class=\"sk-toggleable__label sk-toggleable__label-arrow\">KNeighborsClassifier</label><div class=\"sk-toggleable__content\"><pre>KNeighborsClassifier(n_jobs=-1, n_neighbors=1, p=1)</pre></div></div></div></div></div>"
      ],
      "text/plain": [
       "KNeighborsClassifier(n_jobs=-1, n_neighbors=1, p=1)"
      ]
     },
     "execution_count": 17,
     "metadata": {},
     "output_type": "execute_result"
    }
   ],
   "source": [
    "neigh1 = KNeighborsClassifier(n_neighbors=1,n_jobs=-1,leaf_size=30,p=1)\n",
    "neigh1.fit(X_train1,y_train1)"
   ]
  },
  {
   "cell_type": "code",
   "execution_count": 18,
   "id": "2704c9cc-720d-4376-9131-557a660e1203",
   "metadata": {
    "tags": []
   },
   "outputs": [],
   "source": [
    "y_pred1_neigh = neigh1.predict(X_test1)"
   ]
  },
  {
   "cell_type": "code",
   "execution_count": 19,
   "id": "2a8ea0c7-47a1-4543-b5bd-7979ca4df6fe",
   "metadata": {
    "tags": []
   },
   "outputs": [
    {
     "data": {
      "text/plain": [
       "0.6017542012969728"
      ]
     },
     "execution_count": 19,
     "metadata": {},
     "output_type": "execute_result"
    }
   ],
   "source": [
    "f1_score(y_test1, y_pred1_neigh, average='macro')"
   ]
  },
  {
   "cell_type": "markdown",
   "id": "292c4793-f6f8-46b6-9831-58d482b3ea9f",
   "metadata": {},
   "source": [
    "------"
   ]
  },
  {
   "cell_type": "code",
   "execution_count": 15,
   "id": "74fa0395-3aad-41bc-afa2-d2e36f50d8ce",
   "metadata": {
    "tags": []
   },
   "outputs": [],
   "source": [
    "import tensorflow as tf\n",
    "import warnings"
   ]
  },
  {
   "cell_type": "code",
   "execution_count": 17,
   "id": "f94576cf-41b9-4892-8ec0-727c18cd4e9f",
   "metadata": {
    "tags": []
   },
   "outputs": [],
   "source": [
    "X_train1 = np.asarray(X_train1).astype(np.float32)\n",
    "X_test1 = np.asarray(X_test1).astype(np.float32)\n",
    "y_train1 = np.asarray(y_train1).astype(np.float32) \n",
    "y_test1 = np.asarray(y_test1).astype(np.float32) "
   ]
  },
  {
   "cell_type": "code",
   "execution_count": 19,
   "id": "8e8de2a2-2d0e-4ad1-a132-c8b3d808c6f9",
   "metadata": {
    "tags": []
   },
   "outputs": [
    {
     "name": "stdout",
     "output_type": "stream",
     "text": [
      "Epoch 1/100\n",
      "2800/2800 [==============================] - 12s 4ms/step - loss: 0.4348 - accuracy: 0.0225 - val_loss: 0.3457 - val_accuracy: 0.0228\n",
      "Epoch 2/100\n",
      "2800/2800 [==============================] - 11s 4ms/step - loss: 0.3472 - accuracy: 0.0225 - val_loss: 0.3396 - val_accuracy: 0.0228\n",
      "Epoch 3/100\n",
      "2800/2800 [==============================] - 12s 4ms/step - loss: 0.3425 - accuracy: 0.0225 - val_loss: 0.3502 - val_accuracy: 0.0228\n",
      "Epoch 4/100\n",
      "2800/2800 [==============================] - 12s 4ms/step - loss: 0.3402 - accuracy: 0.0225 - val_loss: 0.3363 - val_accuracy: 0.0228\n",
      "Epoch 5/100\n",
      "2800/2800 [==============================] - 12s 4ms/step - loss: 0.3372 - accuracy: 0.0225 - val_loss: 0.3400 - val_accuracy: 0.0228\n",
      "Epoch 6/100\n",
      "2800/2800 [==============================] - 12s 4ms/step - loss: 0.3341 - accuracy: 0.0225 - val_loss: 0.3332 - val_accuracy: 0.0228\n",
      "Epoch 7/100\n",
      "2800/2800 [==============================] - 12s 4ms/step - loss: 0.3332 - accuracy: 0.0225 - val_loss: 0.3397 - val_accuracy: 0.0228\n",
      "Epoch 8/100\n",
      "2800/2800 [==============================] - 12s 4ms/step - loss: 0.3324 - accuracy: 0.0225 - val_loss: 0.3323 - val_accuracy: 0.0228\n",
      "Epoch 9/100\n",
      "2800/2800 [==============================] - 12s 4ms/step - loss: 0.3322 - accuracy: 0.0225 - val_loss: 0.3333 - val_accuracy: 0.0228\n",
      "Epoch 10/100\n",
      "2800/2800 [==============================] - 11s 4ms/step - loss: 0.3313 - accuracy: 0.0225 - val_loss: 0.3374 - val_accuracy: 0.0228\n",
      "Epoch 11/100\n",
      "2800/2800 [==============================] - 11s 4ms/step - loss: 0.3307 - accuracy: 0.0225 - val_loss: 0.3361 - val_accuracy: 0.0228\n",
      "Epoch 12/100\n",
      "2800/2800 [==============================] - 12s 4ms/step - loss: 0.3289 - accuracy: 0.0225 - val_loss: 0.3299 - val_accuracy: 0.0228\n",
      "Epoch 13/100\n",
      "2800/2800 [==============================] - 12s 4ms/step - loss: 0.3275 - accuracy: 0.0225 - val_loss: 0.3310 - val_accuracy: 0.0228\n",
      "Epoch 14/100\n",
      "2800/2800 [==============================] - 12s 4ms/step - loss: 0.3276 - accuracy: 0.0225 - val_loss: 0.3336 - val_accuracy: 0.0228\n",
      "Epoch 15/100\n",
      "2800/2800 [==============================] - 11s 4ms/step - loss: 0.3277 - accuracy: 0.0225 - val_loss: 0.3292 - val_accuracy: 0.0228\n",
      "Epoch 16/100\n",
      "2800/2800 [==============================] - 12s 4ms/step - loss: 0.3258 - accuracy: 0.0225 - val_loss: 0.3365 - val_accuracy: 0.0228\n",
      "Epoch 17/100\n",
      "2800/2800 [==============================] - 12s 4ms/step - loss: 0.3236 - accuracy: 0.0225 - val_loss: 0.3290 - val_accuracy: 0.0228\n",
      "Epoch 18/100\n",
      "2800/2800 [==============================] - 11s 4ms/step - loss: 0.3237 - accuracy: 0.0225 - val_loss: 0.3370 - val_accuracy: 0.0228\n",
      "Epoch 19/100\n",
      "2800/2800 [==============================] - 12s 4ms/step - loss: 0.3230 - accuracy: 0.0225 - val_loss: 0.3324 - val_accuracy: 0.0228\n",
      "Epoch 20/100\n",
      "2800/2800 [==============================] - 12s 4ms/step - loss: 0.3198 - accuracy: 0.0225 - val_loss: 0.3283 - val_accuracy: 0.0228\n",
      "Epoch 21/100\n",
      "2800/2800 [==============================] - 12s 4ms/step - loss: 0.3233 - accuracy: 0.0225 - val_loss: 0.3299 - val_accuracy: 0.0228\n",
      "Epoch 22/100\n",
      "2800/2800 [==============================] - 12s 4ms/step - loss: 0.3211 - accuracy: 0.0225 - val_loss: 0.3263 - val_accuracy: 0.0228\n",
      "Epoch 23/100\n",
      "2800/2800 [==============================] - 12s 4ms/step - loss: 0.3208 - accuracy: 0.0225 - val_loss: 0.3243 - val_accuracy: 0.0228\n",
      "Epoch 24/100\n",
      "2800/2800 [==============================] - 11s 4ms/step - loss: 0.3205 - accuracy: 0.0225 - val_loss: 0.3244 - val_accuracy: 0.0228\n",
      "Epoch 25/100\n",
      "2800/2800 [==============================] - 11s 4ms/step - loss: 0.3194 - accuracy: 0.0225 - val_loss: 0.3265 - val_accuracy: 0.0228\n",
      "Epoch 26/100\n",
      "2800/2800 [==============================] - 12s 4ms/step - loss: 0.3182 - accuracy: 0.0225 - val_loss: 0.3249 - val_accuracy: 0.0228\n",
      "Epoch 27/100\n",
      "2800/2800 [==============================] - 11s 4ms/step - loss: 0.3156 - accuracy: 0.0225 - val_loss: 0.3242 - val_accuracy: 0.0228\n",
      "Epoch 28/100\n",
      "2800/2800 [==============================] - 12s 4ms/step - loss: 0.3177 - accuracy: 0.0225 - val_loss: 0.3238 - val_accuracy: 0.0228\n",
      "Epoch 29/100\n",
      "2800/2800 [==============================] - 11s 4ms/step - loss: 0.3171 - accuracy: 0.0225 - val_loss: 0.3224 - val_accuracy: 0.0228\n",
      "Epoch 30/100\n",
      "2800/2800 [==============================] - 11s 4ms/step - loss: 0.3152 - accuracy: 0.0225 - val_loss: 0.3196 - val_accuracy: 0.0228\n",
      "Epoch 31/100\n",
      "2800/2800 [==============================] - 11s 4ms/step - loss: 0.3139 - accuracy: 0.0225 - val_loss: 0.3187 - val_accuracy: 0.0228\n",
      "Epoch 32/100\n",
      "2800/2800 [==============================] - 12s 4ms/step - loss: 0.3132 - accuracy: 0.0225 - val_loss: 0.3251 - val_accuracy: 0.0228\n",
      "Epoch 33/100\n",
      "2800/2800 [==============================] - 12s 4ms/step - loss: 0.3155 - accuracy: 0.0225 - val_loss: 0.3217 - val_accuracy: 0.0228\n",
      "Epoch 34/100\n",
      "2800/2800 [==============================] - 12s 4ms/step - loss: 0.3124 - accuracy: 0.0225 - val_loss: 0.3156 - val_accuracy: 0.0228\n",
      "Epoch 35/100\n",
      "2800/2800 [==============================] - 12s 4ms/step - loss: 0.3112 - accuracy: 0.0225 - val_loss: 0.3286 - val_accuracy: 0.0228\n",
      "Epoch 36/100\n",
      "2800/2800 [==============================] - 12s 4ms/step - loss: 0.3114 - accuracy: 0.0225 - val_loss: 0.3180 - val_accuracy: 0.0228\n",
      "Epoch 37/100\n",
      "2800/2800 [==============================] - 12s 4ms/step - loss: 0.3123 - accuracy: 0.0225 - val_loss: 0.3160 - val_accuracy: 0.0228\n",
      "Epoch 38/100\n",
      "2800/2800 [==============================] - 12s 4ms/step - loss: 0.3098 - accuracy: 0.0225 - val_loss: 0.3145 - val_accuracy: 0.0228\n",
      "Epoch 39/100\n",
      "2800/2800 [==============================] - 12s 4ms/step - loss: 0.3105 - accuracy: 0.0225 - val_loss: 0.3211 - val_accuracy: 0.0228\n",
      "Epoch 40/100\n",
      "2800/2800 [==============================] - 12s 4ms/step - loss: 0.3109 - accuracy: 0.0225 - val_loss: 0.3146 - val_accuracy: 0.0228\n",
      "Epoch 41/100\n",
      "2800/2800 [==============================] - 12s 4ms/step - loss: 0.3109 - accuracy: 0.0225 - val_loss: 0.3209 - val_accuracy: 0.0228\n",
      "Epoch 42/100\n",
      "2800/2800 [==============================] - 12s 4ms/step - loss: 0.3093 - accuracy: 0.0225 - val_loss: 0.3178 - val_accuracy: 0.0228\n",
      "Epoch 43/100\n",
      "2800/2800 [==============================] - 12s 4ms/step - loss: 0.3087 - accuracy: 0.0225 - val_loss: 0.3180 - val_accuracy: 0.0228\n",
      "Epoch 44/100\n",
      "2800/2800 [==============================] - 12s 4ms/step - loss: 0.3081 - accuracy: 0.0225 - val_loss: 0.3169 - val_accuracy: 0.0228\n",
      "Epoch 45/100\n",
      "2800/2800 [==============================] - 12s 4ms/step - loss: 0.3094 - accuracy: 0.0225 - val_loss: 0.3176 - val_accuracy: 0.0228\n",
      "Epoch 46/100\n",
      "2800/2800 [==============================] - 12s 4ms/step - loss: 0.3080 - accuracy: 0.0225 - val_loss: 0.3148 - val_accuracy: 0.0228\n",
      "Epoch 47/100\n",
      "2800/2800 [==============================] - 11s 4ms/step - loss: 0.3078 - accuracy: 0.0225 - val_loss: 0.3206 - val_accuracy: 0.0228\n",
      "Epoch 48/100\n",
      "2800/2800 [==============================] - 12s 4ms/step - loss: 0.3080 - accuracy: 0.0225 - val_loss: 0.3176 - val_accuracy: 0.0228\n",
      "Epoch 49/100\n",
      "2800/2800 [==============================] - 12s 4ms/step - loss: 0.3093 - accuracy: 0.0225 - val_loss: 0.3183 - val_accuracy: 0.0228\n",
      "Epoch 50/100\n",
      "2800/2800 [==============================] - 12s 4ms/step - loss: 0.3124 - accuracy: 0.0225 - val_loss: 0.3174 - val_accuracy: 0.0228\n",
      "Epoch 51/100\n",
      "2800/2800 [==============================] - 11s 4ms/step - loss: 0.3081 - accuracy: 0.0225 - val_loss: 0.3201 - val_accuracy: 0.0228\n",
      "Epoch 52/100\n",
      "2800/2800 [==============================] - 12s 4ms/step - loss: 0.3076 - accuracy: 0.0225 - val_loss: 0.3130 - val_accuracy: 0.0228\n",
      "Epoch 53/100\n",
      "2800/2800 [==============================] - 11s 4ms/step - loss: 0.3083 - accuracy: 0.0225 - val_loss: 0.3161 - val_accuracy: 0.0228\n",
      "Epoch 54/100\n",
      "2800/2800 [==============================] - 12s 4ms/step - loss: 0.3081 - accuracy: 0.0225 - val_loss: 0.3193 - val_accuracy: 0.0228\n",
      "Epoch 55/100\n",
      "2800/2800 [==============================] - 12s 4ms/step - loss: 0.3065 - accuracy: 0.0225 - val_loss: 0.3142 - val_accuracy: 0.0228\n",
      "Epoch 56/100\n",
      "2800/2800 [==============================] - 12s 4ms/step - loss: 0.3075 - accuracy: 0.0225 - val_loss: 0.3150 - val_accuracy: 0.0228\n",
      "Epoch 57/100\n",
      "2800/2800 [==============================] - 12s 4ms/step - loss: 0.3065 - accuracy: 0.0225 - val_loss: 0.3142 - val_accuracy: 0.0228\n",
      "Epoch 58/100\n",
      "2800/2800 [==============================] - 12s 4ms/step - loss: 0.3063 - accuracy: 0.0225 - val_loss: 0.3186 - val_accuracy: 0.0228\n",
      "Epoch 59/100\n",
      "2800/2800 [==============================] - 12s 4ms/step - loss: 0.3060 - accuracy: 0.0225 - val_loss: 0.3172 - val_accuracy: 0.0228\n",
      "Epoch 60/100\n",
      "2800/2800 [==============================] - 11s 4ms/step - loss: 0.3073 - accuracy: 0.0225 - val_loss: 0.3177 - val_accuracy: 0.0228\n",
      "Epoch 61/100\n",
      "2800/2800 [==============================] - 12s 4ms/step - loss: 0.3073 - accuracy: 0.0225 - val_loss: 0.3148 - val_accuracy: 0.0228\n",
      "Epoch 62/100\n",
      "2800/2800 [==============================] - 12s 4ms/step - loss: 0.3076 - accuracy: 0.0225 - val_loss: 0.3172 - val_accuracy: 0.0228\n",
      "Epoch 63/100\n",
      "2800/2800 [==============================] - 11s 4ms/step - loss: 0.3083 - accuracy: 0.0225 - val_loss: 0.3152 - val_accuracy: 0.0228\n",
      "Epoch 64/100\n",
      "2800/2800 [==============================] - 12s 4ms/step - loss: 0.3073 - accuracy: 0.0225 - val_loss: 0.3147 - val_accuracy: 0.0228\n",
      "Epoch 65/100\n",
      "2800/2800 [==============================] - 12s 4ms/step - loss: 0.3061 - accuracy: 0.0225 - val_loss: 0.3234 - val_accuracy: 0.0228\n",
      "Epoch 66/100\n",
      "2800/2800 [==============================] - 11s 4ms/step - loss: 0.3069 - accuracy: 0.0225 - val_loss: 0.3233 - val_accuracy: 0.0228\n",
      "Epoch 67/100\n",
      "2800/2800 [==============================] - 12s 4ms/step - loss: 0.3088 - accuracy: 0.0225 - val_loss: 0.3159 - val_accuracy: 0.0228\n",
      "Epoch 68/100\n",
      "2800/2800 [==============================] - 12s 4ms/step - loss: 0.3069 - accuracy: 0.0225 - val_loss: 0.3183 - val_accuracy: 0.0228\n",
      "Epoch 69/100\n",
      "2800/2800 [==============================] - 12s 4ms/step - loss: 0.3088 - accuracy: 0.0225 - val_loss: 0.3193 - val_accuracy: 0.0228\n",
      "Epoch 70/100\n",
      "2800/2800 [==============================] - 12s 4ms/step - loss: 0.3066 - accuracy: 0.0225 - val_loss: 0.3185 - val_accuracy: 0.0228\n",
      "Epoch 71/100\n",
      "2800/2800 [==============================] - 12s 4ms/step - loss: 0.3072 - accuracy: 0.0225 - val_loss: 0.3155 - val_accuracy: 0.0228\n",
      "Epoch 72/100\n",
      "2800/2800 [==============================] - 12s 4ms/step - loss: 0.3062 - accuracy: 0.0225 - val_loss: 0.3142 - val_accuracy: 0.0228\n",
      "Epoch 73/100\n",
      "2800/2800 [==============================] - 14s 5ms/step - loss: 0.3051 - accuracy: 0.0225 - val_loss: 0.3181 - val_accuracy: 0.0228\n",
      "Epoch 74/100\n",
      "2800/2800 [==============================] - 16s 6ms/step - loss: 0.3061 - accuracy: 0.0225 - val_loss: 0.3150 - val_accuracy: 0.0228\n",
      "Epoch 75/100\n",
      "2800/2800 [==============================] - 16s 6ms/step - loss: 0.3060 - accuracy: 0.0225 - val_loss: 0.3171 - val_accuracy: 0.0228\n",
      "Epoch 76/100\n",
      "2800/2800 [==============================] - 14s 5ms/step - loss: 0.3057 - accuracy: 0.0225 - val_loss: 0.3198 - val_accuracy: 0.0228\n",
      "Epoch 77/100\n",
      "2800/2800 [==============================] - 16s 6ms/step - loss: 0.3067 - accuracy: 0.0225 - val_loss: 0.3204 - val_accuracy: 0.0228\n",
      "Epoch 78/100\n",
      "2800/2800 [==============================] - 14s 5ms/step - loss: 0.3073 - accuracy: 0.0225 - val_loss: 0.3219 - val_accuracy: 0.0228\n",
      "Epoch 79/100\n",
      "2800/2800 [==============================] - 15s 5ms/step - loss: 0.3082 - accuracy: 0.0225 - val_loss: 0.3168 - val_accuracy: 0.0228\n",
      "Epoch 80/100\n",
      "2800/2800 [==============================] - 14s 5ms/step - loss: 0.3060 - accuracy: 0.0225 - val_loss: 0.3167 - val_accuracy: 0.0228\n",
      "Epoch 81/100\n",
      "2800/2800 [==============================] - 14s 5ms/step - loss: 0.3074 - accuracy: 0.0225 - val_loss: 0.3323 - val_accuracy: 0.0228\n",
      "Epoch 82/100\n",
      "2800/2800 [==============================] - 14s 5ms/step - loss: 0.3064 - accuracy: 0.0225 - val_loss: 0.3138 - val_accuracy: 0.0228\n",
      "Epoch 83/100\n",
      "2800/2800 [==============================] - 13s 4ms/step - loss: 0.3064 - accuracy: 0.0225 - val_loss: 0.3192 - val_accuracy: 0.0228\n",
      "Epoch 84/100\n",
      "2800/2800 [==============================] - 12s 4ms/step - loss: 0.3059 - accuracy: 0.0225 - val_loss: 0.3182 - val_accuracy: 0.0228\n",
      "Epoch 85/100\n",
      "2800/2800 [==============================] - 14s 5ms/step - loss: 0.3071 - accuracy: 0.0225 - val_loss: 0.3152 - val_accuracy: 0.0228\n",
      "Epoch 86/100\n",
      "2800/2800 [==============================] - 15s 5ms/step - loss: 0.3077 - accuracy: 0.0225 - val_loss: 0.3171 - val_accuracy: 0.0228\n",
      "Epoch 87/100\n",
      "2800/2800 [==============================] - 15s 5ms/step - loss: 0.3082 - accuracy: 0.0225 - val_loss: 0.3202 - val_accuracy: 0.0228\n",
      "Epoch 88/100\n",
      "2800/2800 [==============================] - 13s 5ms/step - loss: 0.3070 - accuracy: 0.0225 - val_loss: 0.3159 - val_accuracy: 0.0228\n",
      "Epoch 89/100\n",
      "2800/2800 [==============================] - 12s 4ms/step - loss: 0.3069 - accuracy: 0.0225 - val_loss: 0.3172 - val_accuracy: 0.0228\n",
      "Epoch 90/100\n",
      "2800/2800 [==============================] - 12s 4ms/step - loss: 0.3069 - accuracy: 0.0225 - val_loss: 0.3162 - val_accuracy: 0.0228\n",
      "Epoch 91/100\n",
      "2800/2800 [==============================] - 13s 5ms/step - loss: 0.3059 - accuracy: 0.0225 - val_loss: 0.3163 - val_accuracy: 0.0228\n",
      "Epoch 92/100\n",
      "2800/2800 [==============================] - 14s 5ms/step - loss: 0.3060 - accuracy: 0.0225 - val_loss: 0.3168 - val_accuracy: 0.0228\n",
      "Epoch 93/100\n",
      "2800/2800 [==============================] - 14s 5ms/step - loss: 0.3068 - accuracy: 0.0225 - val_loss: 0.3224 - val_accuracy: 0.0228\n",
      "Epoch 94/100\n",
      "2800/2800 [==============================] - 12s 4ms/step - loss: 0.3073 - accuracy: 0.0225 - val_loss: 0.3210 - val_accuracy: 0.0228\n",
      "Epoch 95/100\n",
      "2800/2800 [==============================] - 12s 4ms/step - loss: 0.3097 - accuracy: 0.0225 - val_loss: 0.3235 - val_accuracy: 0.0228\n",
      "Epoch 96/100\n",
      "2800/2800 [==============================] - 12s 4ms/step - loss: 0.3073 - accuracy: 0.0225 - val_loss: 0.3157 - val_accuracy: 0.0228\n",
      "Epoch 97/100\n",
      "2800/2800 [==============================] - 12s 4ms/step - loss: 0.3054 - accuracy: 0.0225 - val_loss: 0.3177 - val_accuracy: 0.0228\n",
      "Epoch 98/100\n",
      "2800/2800 [==============================] - 12s 4ms/step - loss: 0.3058 - accuracy: 0.0225 - val_loss: 0.3182 - val_accuracy: 0.0228\n",
      "Epoch 99/100\n",
      "2800/2800 [==============================] - 12s 4ms/step - loss: 0.3047 - accuracy: 0.0225 - val_loss: 0.3201 - val_accuracy: 0.0228\n",
      "Epoch 100/100\n",
      "2800/2800 [==============================] - 12s 4ms/step - loss: 0.3057 - accuracy: 0.0225 - val_loss: 0.3164 - val_accuracy: 0.0228\n",
      "2800/2800 - 5s - loss: 0.3164 - accuracy: 0.0228 - 5s/epoch - 2ms/step\n",
      "Test accuracy: 0.022839665412902832\n"
     ]
    }
   ],
   "source": [
    "import tensorflow as tf\n",
    "from tensorflow import keras\n",
    "\n",
    "# Define the model architecture\n",
    "model1 = keras.Sequential([\n",
    "    keras.layers.Dense(64, activation='relu', input_shape=(6,)),\n",
    "    keras.layers.Dense(64, activation='relu'),\n",
    "    keras.layers.Dense(64, activation='tanh'),\n",
    "    keras.layers.Dense(64, activation='tanh'),\n",
    "    keras.layers.Dense(64, activation='relu'),\n",
    "    keras.layers.Dense(64, activation='relu'),\n",
    "    keras.layers.Dense(64, activation='sigmoid'),\n",
    "    keras.layers.Dense(64, activation='tanh'),\n",
    "    keras.layers.Dense(64, activation='relu'),\n",
    "    keras.layers.Dense(1, activation='linear'),\n",
    "])\n",
    "\n",
    "# Compile the model\n",
    "\n",
    "optimizer = tf.keras.optimizers.Adam(learning_rate=0.0005)\n",
    "\n",
    "model1.compile(optimizer=optimizer,\n",
    "              loss='mean_squared_error',\n",
    "              metrics=['accuracy'])\n",
    "\n",
    "# Train the model on the training data\n",
    "model1.fit(X_train1, y_train1, epochs=100, batch_size=32,\n",
    "          validation_data=(X_test1, y_test1))\n",
    "\n",
    "# Evaluate the model on the test data\n",
    "test_loss, test_acc = model1.evaluate(X_test1, y_test1, verbose=2)\n",
    "print('Test accuracy:', test_acc)\n"
   ]
  },
  {
   "cell_type": "code",
   "execution_count": 21,
   "id": "6df1c401-0bc7-4237-a759-b8d4105cd87e",
   "metadata": {
    "tags": []
   },
   "outputs": [
    {
     "name": "stdout",
     "output_type": "stream",
     "text": [
      "2800/2800 [==============================] - 4s 1ms/step\n"
     ]
    }
   ],
   "source": [
    "y_pred1_tf = np.round(model1.predict(X_test1)).reshape(1,-1)[0]"
   ]
  },
  {
   "cell_type": "code",
   "execution_count": 22,
   "id": "120ccc59-24c0-4dd1-8cda-94b00c57c6fa",
   "metadata": {
    "tags": []
   },
   "outputs": [
    {
     "data": {
      "text/plain": [
       "0.5253554711218719"
      ]
     },
     "execution_count": 22,
     "metadata": {},
     "output_type": "execute_result"
    }
   ],
   "source": [
    "f1_score(y_pred1_tf, y_test1, average='macro')"
   ]
  },
  {
   "cell_type": "markdown",
   "id": "e793a9ee-5861-4dc7-b1e0-4479ab430037",
   "metadata": {
    "tags": []
   },
   "source": [
    "# **Parte2**"
   ]
  },
  {
   "cell_type": "code",
   "execution_count": 25,
   "id": "ed00c6e0-2cf1-4f44-911e-ab25967bf017",
   "metadata": {
    "tags": []
   },
   "outputs": [],
   "source": [
    "Y2 = df_train_target2\n",
    "X2 = np.concatenate([idade2,saturacao2**10,gestante2,sexo2,\n",
    "                    fadiga2, raca2, vomito2**0.8, dispneia2**2,\n",
    "                    perda_paladar2**6, zona2**0.15,\n",
    "                    ]).reshape(len(Y2),10)"
   ]
  },
  {
   "cell_type": "code",
   "execution_count": 27,
   "id": "5fbb73c3-dd5f-4bb4-ad9a-5b4e73532c3a",
   "metadata": {
    "tags": []
   },
   "outputs": [],
   "source": [
    "X_train2, X_test2, y_train2, y_test2 = train_test_split(\n",
    "        X2, Y2, test_size=0.2, random_state=42, shuffle=True\n",
    ")"
   ]
  },
  {
   "cell_type": "code",
   "execution_count": 27,
   "id": "f6acca08-65f0-4a08-ad45-7b6005311fbc",
   "metadata": {
    "tags": []
   },
   "outputs": [
    {
     "data": {
      "text/html": [
       "<style>#sk-container-id-3 {color: black;background-color: white;}#sk-container-id-3 pre{padding: 0;}#sk-container-id-3 div.sk-toggleable {background-color: white;}#sk-container-id-3 label.sk-toggleable__label {cursor: pointer;display: block;width: 100%;margin-bottom: 0;padding: 0.3em;box-sizing: border-box;text-align: center;}#sk-container-id-3 label.sk-toggleable__label-arrow:before {content: \"▸\";float: left;margin-right: 0.25em;color: #696969;}#sk-container-id-3 label.sk-toggleable__label-arrow:hover:before {color: black;}#sk-container-id-3 div.sk-estimator:hover label.sk-toggleable__label-arrow:before {color: black;}#sk-container-id-3 div.sk-toggleable__content {max-height: 0;max-width: 0;overflow: hidden;text-align: left;background-color: #f0f8ff;}#sk-container-id-3 div.sk-toggleable__content pre {margin: 0.2em;color: black;border-radius: 0.25em;background-color: #f0f8ff;}#sk-container-id-3 input.sk-toggleable__control:checked~div.sk-toggleable__content {max-height: 200px;max-width: 100%;overflow: auto;}#sk-container-id-3 input.sk-toggleable__control:checked~label.sk-toggleable__label-arrow:before {content: \"▾\";}#sk-container-id-3 div.sk-estimator input.sk-toggleable__control:checked~label.sk-toggleable__label {background-color: #d4ebff;}#sk-container-id-3 div.sk-label input.sk-toggleable__control:checked~label.sk-toggleable__label {background-color: #d4ebff;}#sk-container-id-3 input.sk-hidden--visually {border: 0;clip: rect(1px 1px 1px 1px);clip: rect(1px, 1px, 1px, 1px);height: 1px;margin: -1px;overflow: hidden;padding: 0;position: absolute;width: 1px;}#sk-container-id-3 div.sk-estimator {font-family: monospace;background-color: #f0f8ff;border: 1px dotted black;border-radius: 0.25em;box-sizing: border-box;margin-bottom: 0.5em;}#sk-container-id-3 div.sk-estimator:hover {background-color: #d4ebff;}#sk-container-id-3 div.sk-parallel-item::after {content: \"\";width: 100%;border-bottom: 1px solid gray;flex-grow: 1;}#sk-container-id-3 div.sk-label:hover label.sk-toggleable__label {background-color: #d4ebff;}#sk-container-id-3 div.sk-serial::before {content: \"\";position: absolute;border-left: 1px solid gray;box-sizing: border-box;top: 0;bottom: 0;left: 50%;z-index: 0;}#sk-container-id-3 div.sk-serial {display: flex;flex-direction: column;align-items: center;background-color: white;padding-right: 0.2em;padding-left: 0.2em;position: relative;}#sk-container-id-3 div.sk-item {position: relative;z-index: 1;}#sk-container-id-3 div.sk-parallel {display: flex;align-items: stretch;justify-content: center;background-color: white;position: relative;}#sk-container-id-3 div.sk-item::before, #sk-container-id-3 div.sk-parallel-item::before {content: \"\";position: absolute;border-left: 1px solid gray;box-sizing: border-box;top: 0;bottom: 0;left: 50%;z-index: -1;}#sk-container-id-3 div.sk-parallel-item {display: flex;flex-direction: column;z-index: 1;position: relative;background-color: white;}#sk-container-id-3 div.sk-parallel-item:first-child::after {align-self: flex-end;width: 50%;}#sk-container-id-3 div.sk-parallel-item:last-child::after {align-self: flex-start;width: 50%;}#sk-container-id-3 div.sk-parallel-item:only-child::after {width: 0;}#sk-container-id-3 div.sk-dashed-wrapped {border: 1px dashed gray;margin: 0 0.4em 0.5em 0.4em;box-sizing: border-box;padding-bottom: 0.4em;background-color: white;}#sk-container-id-3 div.sk-label label {font-family: monospace;font-weight: bold;display: inline-block;line-height: 1.2em;}#sk-container-id-3 div.sk-label-container {text-align: center;}#sk-container-id-3 div.sk-container {/* jupyter's `normalize.less` sets `[hidden] { display: none; }` but bootstrap.min.css set `[hidden] { display: none !important; }` so we also need the `!important` here to be able to override the default hidden behavior on the sphinx rendered scikit-learn.org. See: https://github.com/scikit-learn/scikit-learn/issues/21755 */display: inline-block !important;position: relative;}#sk-container-id-3 div.sk-text-repr-fallback {display: none;}</style><div id=\"sk-container-id-3\" class=\"sk-top-container\"><div class=\"sk-text-repr-fallback\"><pre>KNeighborsClassifier(n_jobs=-1, n_neighbors=1)</pre><b>In a Jupyter environment, please rerun this cell to show the HTML representation or trust the notebook. <br />On GitHub, the HTML representation is unable to render, please try loading this page with nbviewer.org.</b></div><div class=\"sk-container\" hidden><div class=\"sk-item\"><div class=\"sk-estimator sk-toggleable\"><input class=\"sk-toggleable__control sk-hidden--visually\" id=\"sk-estimator-id-3\" type=\"checkbox\" checked><label for=\"sk-estimator-id-3\" class=\"sk-toggleable__label sk-toggleable__label-arrow\">KNeighborsClassifier</label><div class=\"sk-toggleable__content\"><pre>KNeighborsClassifier(n_jobs=-1, n_neighbors=1)</pre></div></div></div></div></div>"
      ],
      "text/plain": [
       "KNeighborsClassifier(n_jobs=-1, n_neighbors=1)"
      ]
     },
     "execution_count": 27,
     "metadata": {},
     "output_type": "execute_result"
    }
   ],
   "source": [
    "neigh2 = KNeighborsClassifier(n_neighbors=1,n_jobs=-1,leaf_size=30)\n",
    "neigh2.fit(X_train2,y_train2)"
   ]
  },
  {
   "cell_type": "code",
   "execution_count": 28,
   "id": "944fc8d2-1191-4432-af35-d7a7bc1a9a48",
   "metadata": {
    "tags": []
   },
   "outputs": [],
   "source": [
    "y_pred2 = neigh2.predict(X_test2)"
   ]
  },
  {
   "cell_type": "code",
   "execution_count": 29,
   "id": "b0e85772-1224-48ac-a524-c85fe47dbc96",
   "metadata": {
    "tags": []
   },
   "outputs": [
    {
     "data": {
      "text/plain": [
       "0.47309042201930646"
      ]
     },
     "execution_count": 29,
     "metadata": {},
     "output_type": "execute_result"
    }
   ],
   "source": [
    "f1_score(y_test2, y_pred2, average='macro')"
   ]
  },
  {
   "cell_type": "markdown",
   "id": "f9469210-66f9-48e5-92aa-55e6be96a7f7",
   "metadata": {},
   "source": [
    "----"
   ]
  },
  {
   "cell_type": "code",
   "execution_count": 30,
   "id": "f9d20e9a-f28b-4646-a28c-29561a399c26",
   "metadata": {
    "tags": []
   },
   "outputs": [
    {
     "data": {
      "text/html": [
       "<style>#sk-container-id-4 {color: black;background-color: white;}#sk-container-id-4 pre{padding: 0;}#sk-container-id-4 div.sk-toggleable {background-color: white;}#sk-container-id-4 label.sk-toggleable__label {cursor: pointer;display: block;width: 100%;margin-bottom: 0;padding: 0.3em;box-sizing: border-box;text-align: center;}#sk-container-id-4 label.sk-toggleable__label-arrow:before {content: \"▸\";float: left;margin-right: 0.25em;color: #696969;}#sk-container-id-4 label.sk-toggleable__label-arrow:hover:before {color: black;}#sk-container-id-4 div.sk-estimator:hover label.sk-toggleable__label-arrow:before {color: black;}#sk-container-id-4 div.sk-toggleable__content {max-height: 0;max-width: 0;overflow: hidden;text-align: left;background-color: #f0f8ff;}#sk-container-id-4 div.sk-toggleable__content pre {margin: 0.2em;color: black;border-radius: 0.25em;background-color: #f0f8ff;}#sk-container-id-4 input.sk-toggleable__control:checked~div.sk-toggleable__content {max-height: 200px;max-width: 100%;overflow: auto;}#sk-container-id-4 input.sk-toggleable__control:checked~label.sk-toggleable__label-arrow:before {content: \"▾\";}#sk-container-id-4 div.sk-estimator input.sk-toggleable__control:checked~label.sk-toggleable__label {background-color: #d4ebff;}#sk-container-id-4 div.sk-label input.sk-toggleable__control:checked~label.sk-toggleable__label {background-color: #d4ebff;}#sk-container-id-4 input.sk-hidden--visually {border: 0;clip: rect(1px 1px 1px 1px);clip: rect(1px, 1px, 1px, 1px);height: 1px;margin: -1px;overflow: hidden;padding: 0;position: absolute;width: 1px;}#sk-container-id-4 div.sk-estimator {font-family: monospace;background-color: #f0f8ff;border: 1px dotted black;border-radius: 0.25em;box-sizing: border-box;margin-bottom: 0.5em;}#sk-container-id-4 div.sk-estimator:hover {background-color: #d4ebff;}#sk-container-id-4 div.sk-parallel-item::after {content: \"\";width: 100%;border-bottom: 1px solid gray;flex-grow: 1;}#sk-container-id-4 div.sk-label:hover label.sk-toggleable__label {background-color: #d4ebff;}#sk-container-id-4 div.sk-serial::before {content: \"\";position: absolute;border-left: 1px solid gray;box-sizing: border-box;top: 0;bottom: 0;left: 50%;z-index: 0;}#sk-container-id-4 div.sk-serial {display: flex;flex-direction: column;align-items: center;background-color: white;padding-right: 0.2em;padding-left: 0.2em;position: relative;}#sk-container-id-4 div.sk-item {position: relative;z-index: 1;}#sk-container-id-4 div.sk-parallel {display: flex;align-items: stretch;justify-content: center;background-color: white;position: relative;}#sk-container-id-4 div.sk-item::before, #sk-container-id-4 div.sk-parallel-item::before {content: \"\";position: absolute;border-left: 1px solid gray;box-sizing: border-box;top: 0;bottom: 0;left: 50%;z-index: -1;}#sk-container-id-4 div.sk-parallel-item {display: flex;flex-direction: column;z-index: 1;position: relative;background-color: white;}#sk-container-id-4 div.sk-parallel-item:first-child::after {align-self: flex-end;width: 50%;}#sk-container-id-4 div.sk-parallel-item:last-child::after {align-self: flex-start;width: 50%;}#sk-container-id-4 div.sk-parallel-item:only-child::after {width: 0;}#sk-container-id-4 div.sk-dashed-wrapped {border: 1px dashed gray;margin: 0 0.4em 0.5em 0.4em;box-sizing: border-box;padding-bottom: 0.4em;background-color: white;}#sk-container-id-4 div.sk-label label {font-family: monospace;font-weight: bold;display: inline-block;line-height: 1.2em;}#sk-container-id-4 div.sk-label-container {text-align: center;}#sk-container-id-4 div.sk-container {/* jupyter's `normalize.less` sets `[hidden] { display: none; }` but bootstrap.min.css set `[hidden] { display: none !important; }` so we also need the `!important` here to be able to override the default hidden behavior on the sphinx rendered scikit-learn.org. See: https://github.com/scikit-learn/scikit-learn/issues/21755 */display: inline-block !important;position: relative;}#sk-container-id-4 div.sk-text-repr-fallback {display: none;}</style><div id=\"sk-container-id-4\" class=\"sk-top-container\"><div class=\"sk-text-repr-fallback\"><pre>RandomForestClassifier(n_estimators=320, n_jobs=-1, random_state=0)</pre><b>In a Jupyter environment, please rerun this cell to show the HTML representation or trust the notebook. <br />On GitHub, the HTML representation is unable to render, please try loading this page with nbviewer.org.</b></div><div class=\"sk-container\" hidden><div class=\"sk-item\"><div class=\"sk-estimator sk-toggleable\"><input class=\"sk-toggleable__control sk-hidden--visually\" id=\"sk-estimator-id-4\" type=\"checkbox\" checked><label for=\"sk-estimator-id-4\" class=\"sk-toggleable__label sk-toggleable__label-arrow\">RandomForestClassifier</label><div class=\"sk-toggleable__content\"><pre>RandomForestClassifier(n_estimators=320, n_jobs=-1, random_state=0)</pre></div></div></div></div></div>"
      ],
      "text/plain": [
       "RandomForestClassifier(n_estimators=320, n_jobs=-1, random_state=0)"
      ]
     },
     "execution_count": 30,
     "metadata": {},
     "output_type": "execute_result"
    }
   ],
   "source": [
    "clf2 = RandomForestClassifier(\n",
    "    random_state=0,n_estimators=320,n_jobs=-1,\n",
    "    #min_samples_split=4,\n",
    "    #min_samples_leaf=1,\n",
    "    #min_weight_fraction_leaf=0.01,\n",
    "    #max_features='sqrt',\n",
    "    #max_leaf_nodes=100,\n",
    ")\n",
    "clf2.fit(X_train2,y_train2)"
   ]
  },
  {
   "cell_type": "code",
   "execution_count": 31,
   "id": "dd376955-4f41-4e68-862a-6c8ada160a3f",
   "metadata": {
    "tags": []
   },
   "outputs": [],
   "source": [
    "y_pred2 = clf2.predict(X_test2)"
   ]
  },
  {
   "cell_type": "code",
   "execution_count": 32,
   "id": "e8aba59d-edcf-49a0-9abc-48c19a04c722",
   "metadata": {
    "tags": []
   },
   "outputs": [
    {
     "data": {
      "text/plain": [
       "0.41528467989044404"
      ]
     },
     "execution_count": 32,
     "metadata": {},
     "output_type": "execute_result"
    }
   ],
   "source": [
    "f1_score(y_test2, y_pred2, average='macro')"
   ]
  },
  {
   "cell_type": "markdown",
   "id": "91ecefdc-bf3d-43ca-9a83-cc1562651f39",
   "metadata": {},
   "source": [
    "-----"
   ]
  },
  {
   "cell_type": "code",
   "execution_count": 33,
   "id": "fcde2842-eff9-465c-8131-811b13e3e40c",
   "metadata": {
    "tags": []
   },
   "outputs": [],
   "source": [
    "X_train2 = np.asarray(X_train2).astype(np.float32)\n",
    "X_test2 = np.asarray(X_test2).astype(np.float32)\n",
    "y_train2 = np.asarray(y_train2).astype(np.float32) \n",
    "y_test2 = np.asarray(y_test2).astype(np.float32) "
   ]
  },
  {
   "cell_type": "code",
   "execution_count": 34,
   "id": "0141e876-7aaa-4e02-acc7-b11c22f07208",
   "metadata": {
    "tags": []
   },
   "outputs": [],
   "source": [
    "# import tensorflow as tf\n",
    "# from tensorflow import keras\n",
    "\n",
    "# # Define the model architecture\n",
    "# model2 = keras.Sequential([\n",
    "#     keras.layers.Dense(64, activation='relu', input_shape=(10,)),\n",
    "#     keras.layers.Dense(64, activation='relu'),\n",
    "#     keras.layers.Dense(1, activation='linear'),\n",
    "# ])\n",
    "\n",
    "# # Compile the model\n",
    "# model2.compile(optimizer='adam',\n",
    "#               loss='mean_squared_error',\n",
    "#               metrics=['accuracy'])\n",
    "\n",
    "# # Train the model on the training data\n",
    "# model2.fit(X_train2, y_train2, epochs=50, batch_size=32,\n",
    "#           validation_data=(X_test2, y_test2))\n",
    "\n",
    "# # Evaluate the model on the test data\n",
    "# test_loss, test_acc = model2.evaluate(X_test2, y_test2, verbose=2)\n",
    "# print('Test accuracy:', test_acc)\n"
   ]
  },
  {
   "cell_type": "code",
   "execution_count": 35,
   "id": "97150edb-f6f9-49b2-918b-4fb50e49a68b",
   "metadata": {
    "tags": []
   },
   "outputs": [],
   "source": [
    "# y_pred2_tf = np.round(model2.predict(X_test2)).reshape(1,-1)[0]\n",
    "# f1_score(y_pred2_tf, y_test2, average='macro')"
   ]
  },
  {
   "cell_type": "markdown",
   "id": "c5ccce0b-50d2-4b9f-8b4f-ac1b43485154",
   "metadata": {},
   "source": [
    "---------"
   ]
  },
  {
   "cell_type": "code",
   "execution_count": 36,
   "id": "91754051-d404-47f5-b5f4-4a976d976587",
   "metadata": {
    "tags": []
   },
   "outputs": [],
   "source": [
    "# import tensorflow as tf\n",
    "# import warnings\n",
    "# warnings.filterwarnings(\"ignore\")\n",
    "# tf.random.set_seed(42)\n",
    "\n",
    "# model2 = tf.keras.Sequential([\n",
    "#     tf.keras.layers.Dense(128, activation='relu'),\n",
    "#     tf.keras.layers.Dense(256, activation='tanh'),\n",
    "#     tf.keras.layers.Dense(512, activation='relu'),\n",
    "#     tf.keras.layers.Dense(1)\n",
    "# ])\n",
    "\n",
    "# model2.compile(optimizer=\"Adam\", loss=\"mse\", metrics=[\"accuracy\"])"
   ]
  },
  {
   "cell_type": "code",
   "execution_count": 37,
   "id": "05a75af7-d6c3-4097-b5ed-901bd27fb5fd",
   "metadata": {
    "tags": []
   },
   "outputs": [],
   "source": [
    "# model2.fit(X_train2, y_train2, epochs=1)"
   ]
  },
  {
   "cell_type": "code",
   "execution_count": 28,
   "id": "622f6e75-5bd4-43c0-bf5a-fb99c8a824b0",
   "metadata": {
    "tags": []
   },
   "outputs": [
    {
     "ename": "ValueError",
     "evalue": "Failed to convert a NumPy array to a Tensor (Unsupported object type float).",
     "output_type": "error",
     "traceback": [
      "\u001b[0;31m---------------------------------------------------------------------------\u001b[0m",
      "\u001b[0;31mValueError\u001b[0m                                Traceback (most recent call last)",
      "Cell \u001b[0;32mIn[28], line 1\u001b[0m\n\u001b[0;32m----> 1\u001b[0m y_pred2_tf \u001b[38;5;241m=\u001b[39m np\u001b[38;5;241m.\u001b[39mround(\u001b[43mmodel1\u001b[49m\u001b[38;5;241;43m.\u001b[39;49m\u001b[43mpredict\u001b[49m\u001b[43m(\u001b[49m\u001b[43mX_test2\u001b[49m\u001b[43m)\u001b[49m)\u001b[38;5;241m.\u001b[39mreshape(\u001b[38;5;241m1\u001b[39m,\u001b[38;5;241m-\u001b[39m\u001b[38;5;241m1\u001b[39m)[\u001b[38;5;241m0\u001b[39m]\n",
      "File \u001b[0;32m~/.local/lib/python3.10/site-packages/keras/utils/traceback_utils.py:70\u001b[0m, in \u001b[0;36mfilter_traceback.<locals>.error_handler\u001b[0;34m(*args, **kwargs)\u001b[0m\n\u001b[1;32m     67\u001b[0m     filtered_tb \u001b[38;5;241m=\u001b[39m _process_traceback_frames(e\u001b[38;5;241m.\u001b[39m__traceback__)\n\u001b[1;32m     68\u001b[0m     \u001b[38;5;66m# To get the full stack trace, call:\u001b[39m\n\u001b[1;32m     69\u001b[0m     \u001b[38;5;66m# `tf.debugging.disable_traceback_filtering()`\u001b[39m\n\u001b[0;32m---> 70\u001b[0m     \u001b[38;5;28;01mraise\u001b[39;00m e\u001b[38;5;241m.\u001b[39mwith_traceback(filtered_tb) \u001b[38;5;28;01mfrom\u001b[39;00m \u001b[38;5;21;01mNone\u001b[39;00m\n\u001b[1;32m     71\u001b[0m \u001b[38;5;28;01mfinally\u001b[39;00m:\n\u001b[1;32m     72\u001b[0m     \u001b[38;5;28;01mdel\u001b[39;00m filtered_tb\n",
      "File \u001b[0;32m~/.local/lib/python3.10/site-packages/tensorflow/python/framework/constant_op.py:102\u001b[0m, in \u001b[0;36mconvert_to_eager_tensor\u001b[0;34m(value, ctx, dtype)\u001b[0m\n\u001b[1;32m    100\u001b[0m     dtype \u001b[38;5;241m=\u001b[39m dtypes\u001b[38;5;241m.\u001b[39mas_dtype(dtype)\u001b[38;5;241m.\u001b[39mas_datatype_enum\n\u001b[1;32m    101\u001b[0m ctx\u001b[38;5;241m.\u001b[39mensure_initialized()\n\u001b[0;32m--> 102\u001b[0m \u001b[38;5;28;01mreturn\u001b[39;00m \u001b[43mops\u001b[49m\u001b[38;5;241;43m.\u001b[39;49m\u001b[43mEagerTensor\u001b[49m\u001b[43m(\u001b[49m\u001b[43mvalue\u001b[49m\u001b[43m,\u001b[49m\u001b[43m \u001b[49m\u001b[43mctx\u001b[49m\u001b[38;5;241;43m.\u001b[39;49m\u001b[43mdevice_name\u001b[49m\u001b[43m,\u001b[49m\u001b[43m \u001b[49m\u001b[43mdtype\u001b[49m\u001b[43m)\u001b[49m\n",
      "\u001b[0;31mValueError\u001b[0m: Failed to convert a NumPy array to a Tensor (Unsupported object type float)."
     ]
    }
   ],
   "source": [
    "# y_pred2_tf = np.round(model1.predict(X_test2)).reshape(1,-1)[0]"
   ]
  },
  {
   "cell_type": "code",
   "execution_count": 39,
   "id": "9107f908-8f03-4898-9e95-ebf4eabb3e16",
   "metadata": {
    "tags": []
   },
   "outputs": [],
   "source": [
    "# f1_score(y_pred2_tf,y_test2,average='macro')"
   ]
  },
  {
   "cell_type": "code",
   "execution_count": 40,
   "id": "8a6678da-3a6d-4cd8-a48c-b6b1b657b50b",
   "metadata": {
    "tags": []
   },
   "outputs": [],
   "source": [
    "# y_pred2"
   ]
  },
  {
   "cell_type": "markdown",
   "id": "867611dd-b76e-4b16-8566-c7794ad319ce",
   "metadata": {},
   "source": [
    "# **Parte3**"
   ]
  },
  {
   "cell_type": "code",
   "execution_count": 41,
   "id": "ce58393d-0f37-4e18-8ec5-3c45281ad492",
   "metadata": {},
   "outputs": [],
   "source": [
    "Y3 = df_train_target3\n",
    "X3 = np.concatenate([idade3,perda_paladar3**4,fadiga3,saturacao3,\n",
    "                    febre3, perda_olfato3, sexo3, raca3**2]).reshape(len(Y3),8)"
   ]
  },
  {
   "cell_type": "code",
   "execution_count": 42,
   "id": "0e842ef6-c848-479a-9eda-56894a2704d9",
   "metadata": {
    "tags": []
   },
   "outputs": [],
   "source": [
    "X_train3, X_test3, y_train3, y_test3 = train_test_split(\n",
    "        X3, Y3, test_size=0.1, random_state=42\n",
    ")"
   ]
  },
  {
   "cell_type": "code",
   "execution_count": 43,
   "id": "574528f4-1ab7-40df-beb1-28b58b40fc87",
   "metadata": {
    "tags": []
   },
   "outputs": [
    {
     "data": {
      "text/html": [
       "<style>#sk-container-id-5 {color: black;background-color: white;}#sk-container-id-5 pre{padding: 0;}#sk-container-id-5 div.sk-toggleable {background-color: white;}#sk-container-id-5 label.sk-toggleable__label {cursor: pointer;display: block;width: 100%;margin-bottom: 0;padding: 0.3em;box-sizing: border-box;text-align: center;}#sk-container-id-5 label.sk-toggleable__label-arrow:before {content: \"▸\";float: left;margin-right: 0.25em;color: #696969;}#sk-container-id-5 label.sk-toggleable__label-arrow:hover:before {color: black;}#sk-container-id-5 div.sk-estimator:hover label.sk-toggleable__label-arrow:before {color: black;}#sk-container-id-5 div.sk-toggleable__content {max-height: 0;max-width: 0;overflow: hidden;text-align: left;background-color: #f0f8ff;}#sk-container-id-5 div.sk-toggleable__content pre {margin: 0.2em;color: black;border-radius: 0.25em;background-color: #f0f8ff;}#sk-container-id-5 input.sk-toggleable__control:checked~div.sk-toggleable__content {max-height: 200px;max-width: 100%;overflow: auto;}#sk-container-id-5 input.sk-toggleable__control:checked~label.sk-toggleable__label-arrow:before {content: \"▾\";}#sk-container-id-5 div.sk-estimator input.sk-toggleable__control:checked~label.sk-toggleable__label {background-color: #d4ebff;}#sk-container-id-5 div.sk-label input.sk-toggleable__control:checked~label.sk-toggleable__label {background-color: #d4ebff;}#sk-container-id-5 input.sk-hidden--visually {border: 0;clip: rect(1px 1px 1px 1px);clip: rect(1px, 1px, 1px, 1px);height: 1px;margin: -1px;overflow: hidden;padding: 0;position: absolute;width: 1px;}#sk-container-id-5 div.sk-estimator {font-family: monospace;background-color: #f0f8ff;border: 1px dotted black;border-radius: 0.25em;box-sizing: border-box;margin-bottom: 0.5em;}#sk-container-id-5 div.sk-estimator:hover {background-color: #d4ebff;}#sk-container-id-5 div.sk-parallel-item::after {content: \"\";width: 100%;border-bottom: 1px solid gray;flex-grow: 1;}#sk-container-id-5 div.sk-label:hover label.sk-toggleable__label {background-color: #d4ebff;}#sk-container-id-5 div.sk-serial::before {content: \"\";position: absolute;border-left: 1px solid gray;box-sizing: border-box;top: 0;bottom: 0;left: 50%;z-index: 0;}#sk-container-id-5 div.sk-serial {display: flex;flex-direction: column;align-items: center;background-color: white;padding-right: 0.2em;padding-left: 0.2em;position: relative;}#sk-container-id-5 div.sk-item {position: relative;z-index: 1;}#sk-container-id-5 div.sk-parallel {display: flex;align-items: stretch;justify-content: center;background-color: white;position: relative;}#sk-container-id-5 div.sk-item::before, #sk-container-id-5 div.sk-parallel-item::before {content: \"\";position: absolute;border-left: 1px solid gray;box-sizing: border-box;top: 0;bottom: 0;left: 50%;z-index: -1;}#sk-container-id-5 div.sk-parallel-item {display: flex;flex-direction: column;z-index: 1;position: relative;background-color: white;}#sk-container-id-5 div.sk-parallel-item:first-child::after {align-self: flex-end;width: 50%;}#sk-container-id-5 div.sk-parallel-item:last-child::after {align-self: flex-start;width: 50%;}#sk-container-id-5 div.sk-parallel-item:only-child::after {width: 0;}#sk-container-id-5 div.sk-dashed-wrapped {border: 1px dashed gray;margin: 0 0.4em 0.5em 0.4em;box-sizing: border-box;padding-bottom: 0.4em;background-color: white;}#sk-container-id-5 div.sk-label label {font-family: monospace;font-weight: bold;display: inline-block;line-height: 1.2em;}#sk-container-id-5 div.sk-label-container {text-align: center;}#sk-container-id-5 div.sk-container {/* jupyter's `normalize.less` sets `[hidden] { display: none; }` but bootstrap.min.css set `[hidden] { display: none !important; }` so we also need the `!important` here to be able to override the default hidden behavior on the sphinx rendered scikit-learn.org. See: https://github.com/scikit-learn/scikit-learn/issues/21755 */display: inline-block !important;position: relative;}#sk-container-id-5 div.sk-text-repr-fallback {display: none;}</style><div id=\"sk-container-id-5\" class=\"sk-top-container\"><div class=\"sk-text-repr-fallback\"><pre>KNeighborsClassifier(n_jobs=-1, n_neighbors=1)</pre><b>In a Jupyter environment, please rerun this cell to show the HTML representation or trust the notebook. <br />On GitHub, the HTML representation is unable to render, please try loading this page with nbviewer.org.</b></div><div class=\"sk-container\" hidden><div class=\"sk-item\"><div class=\"sk-estimator sk-toggleable\"><input class=\"sk-toggleable__control sk-hidden--visually\" id=\"sk-estimator-id-5\" type=\"checkbox\" checked><label for=\"sk-estimator-id-5\" class=\"sk-toggleable__label sk-toggleable__label-arrow\">KNeighborsClassifier</label><div class=\"sk-toggleable__content\"><pre>KNeighborsClassifier(n_jobs=-1, n_neighbors=1)</pre></div></div></div></div></div>"
      ],
      "text/plain": [
       "KNeighborsClassifier(n_jobs=-1, n_neighbors=1)"
      ]
     },
     "execution_count": 43,
     "metadata": {},
     "output_type": "execute_result"
    }
   ],
   "source": [
    "neigh3= KNeighborsClassifier(n_neighbors=1,n_jobs=-1,leaf_size=30)\n",
    "neigh3.fit(X_train3,y_train3)"
   ]
  },
  {
   "cell_type": "code",
   "execution_count": 44,
   "id": "089f20ff-29fc-4fa3-87ae-9357781cc038",
   "metadata": {
    "tags": []
   },
   "outputs": [],
   "source": [
    "y_pred3 = neigh3.predict(X_test3)"
   ]
  },
  {
   "cell_type": "code",
   "execution_count": 45,
   "id": "ff55dea8-9265-4ef0-9083-2677b4c46cae",
   "metadata": {
    "tags": []
   },
   "outputs": [
    {
     "data": {
      "text/plain": [
       "0.4068527678370664"
      ]
     },
     "execution_count": 45,
     "metadata": {},
     "output_type": "execute_result"
    }
   ],
   "source": [
    "f1_score(y_test3, y_pred3, average='macro')"
   ]
  },
  {
   "cell_type": "markdown",
   "id": "8078c665-7f97-44d1-a1a8-bedd3346be9d",
   "metadata": {},
   "source": [
    "----"
   ]
  },
  {
   "cell_type": "code",
   "execution_count": 46,
   "id": "81aa9b1d-d720-42c1-be78-009e0e5fb00e",
   "metadata": {
    "tags": []
   },
   "outputs": [
    {
     "data": {
      "text/html": [
       "<style>#sk-container-id-6 {color: black;background-color: white;}#sk-container-id-6 pre{padding: 0;}#sk-container-id-6 div.sk-toggleable {background-color: white;}#sk-container-id-6 label.sk-toggleable__label {cursor: pointer;display: block;width: 100%;margin-bottom: 0;padding: 0.3em;box-sizing: border-box;text-align: center;}#sk-container-id-6 label.sk-toggleable__label-arrow:before {content: \"▸\";float: left;margin-right: 0.25em;color: #696969;}#sk-container-id-6 label.sk-toggleable__label-arrow:hover:before {color: black;}#sk-container-id-6 div.sk-estimator:hover label.sk-toggleable__label-arrow:before {color: black;}#sk-container-id-6 div.sk-toggleable__content {max-height: 0;max-width: 0;overflow: hidden;text-align: left;background-color: #f0f8ff;}#sk-container-id-6 div.sk-toggleable__content pre {margin: 0.2em;color: black;border-radius: 0.25em;background-color: #f0f8ff;}#sk-container-id-6 input.sk-toggleable__control:checked~div.sk-toggleable__content {max-height: 200px;max-width: 100%;overflow: auto;}#sk-container-id-6 input.sk-toggleable__control:checked~label.sk-toggleable__label-arrow:before {content: \"▾\";}#sk-container-id-6 div.sk-estimator input.sk-toggleable__control:checked~label.sk-toggleable__label {background-color: #d4ebff;}#sk-container-id-6 div.sk-label input.sk-toggleable__control:checked~label.sk-toggleable__label {background-color: #d4ebff;}#sk-container-id-6 input.sk-hidden--visually {border: 0;clip: rect(1px 1px 1px 1px);clip: rect(1px, 1px, 1px, 1px);height: 1px;margin: -1px;overflow: hidden;padding: 0;position: absolute;width: 1px;}#sk-container-id-6 div.sk-estimator {font-family: monospace;background-color: #f0f8ff;border: 1px dotted black;border-radius: 0.25em;box-sizing: border-box;margin-bottom: 0.5em;}#sk-container-id-6 div.sk-estimator:hover {background-color: #d4ebff;}#sk-container-id-6 div.sk-parallel-item::after {content: \"\";width: 100%;border-bottom: 1px solid gray;flex-grow: 1;}#sk-container-id-6 div.sk-label:hover label.sk-toggleable__label {background-color: #d4ebff;}#sk-container-id-6 div.sk-serial::before {content: \"\";position: absolute;border-left: 1px solid gray;box-sizing: border-box;top: 0;bottom: 0;left: 50%;z-index: 0;}#sk-container-id-6 div.sk-serial {display: flex;flex-direction: column;align-items: center;background-color: white;padding-right: 0.2em;padding-left: 0.2em;position: relative;}#sk-container-id-6 div.sk-item {position: relative;z-index: 1;}#sk-container-id-6 div.sk-parallel {display: flex;align-items: stretch;justify-content: center;background-color: white;position: relative;}#sk-container-id-6 div.sk-item::before, #sk-container-id-6 div.sk-parallel-item::before {content: \"\";position: absolute;border-left: 1px solid gray;box-sizing: border-box;top: 0;bottom: 0;left: 50%;z-index: -1;}#sk-container-id-6 div.sk-parallel-item {display: flex;flex-direction: column;z-index: 1;position: relative;background-color: white;}#sk-container-id-6 div.sk-parallel-item:first-child::after {align-self: flex-end;width: 50%;}#sk-container-id-6 div.sk-parallel-item:last-child::after {align-self: flex-start;width: 50%;}#sk-container-id-6 div.sk-parallel-item:only-child::after {width: 0;}#sk-container-id-6 div.sk-dashed-wrapped {border: 1px dashed gray;margin: 0 0.4em 0.5em 0.4em;box-sizing: border-box;padding-bottom: 0.4em;background-color: white;}#sk-container-id-6 div.sk-label label {font-family: monospace;font-weight: bold;display: inline-block;line-height: 1.2em;}#sk-container-id-6 div.sk-label-container {text-align: center;}#sk-container-id-6 div.sk-container {/* jupyter's `normalize.less` sets `[hidden] { display: none; }` but bootstrap.min.css set `[hidden] { display: none !important; }` so we also need the `!important` here to be able to override the default hidden behavior on the sphinx rendered scikit-learn.org. See: https://github.com/scikit-learn/scikit-learn/issues/21755 */display: inline-block !important;position: relative;}#sk-container-id-6 div.sk-text-repr-fallback {display: none;}</style><div id=\"sk-container-id-6\" class=\"sk-top-container\"><div class=\"sk-text-repr-fallback\"><pre>RandomForestClassifier(min_samples_split=1, n_estimators=350, n_jobs=-1,\n",
       "                       random_state=0)</pre><b>In a Jupyter environment, please rerun this cell to show the HTML representation or trust the notebook. <br />On GitHub, the HTML representation is unable to render, please try loading this page with nbviewer.org.</b></div><div class=\"sk-container\" hidden><div class=\"sk-item\"><div class=\"sk-estimator sk-toggleable\"><input class=\"sk-toggleable__control sk-hidden--visually\" id=\"sk-estimator-id-6\" type=\"checkbox\" checked><label for=\"sk-estimator-id-6\" class=\"sk-toggleable__label sk-toggleable__label-arrow\">RandomForestClassifier</label><div class=\"sk-toggleable__content\"><pre>RandomForestClassifier(min_samples_split=1, n_estimators=350, n_jobs=-1,\n",
       "                       random_state=0)</pre></div></div></div></div></div>"
      ],
      "text/plain": [
       "RandomForestClassifier(min_samples_split=1, n_estimators=350, n_jobs=-1,\n",
       "                       random_state=0)"
      ]
     },
     "execution_count": 46,
     "metadata": {},
     "output_type": "execute_result"
    }
   ],
   "source": [
    "clf3 = RandomForestClassifier(\n",
    "    random_state=0,n_estimators=350,n_jobs=-1,\n",
    "    min_samples_split=1,\n",
    "    #min_samples_leaf=1,\n",
    "    #min_weight_fraction_leaf=0.01,\n",
    "    #max_features='sqrt',\n",
    "    #max_leaf_nodes=100,\n",
    ")\n",
    "clf3.fit(X_train3,y_train3)"
   ]
  },
  {
   "cell_type": "code",
   "execution_count": 47,
   "id": "3ea39306-7f75-4a0f-a0da-55f8546e200e",
   "metadata": {
    "tags": []
   },
   "outputs": [],
   "source": [
    "y_pred3 = clf3.predict(X_test3)"
   ]
  },
  {
   "cell_type": "code",
   "execution_count": 48,
   "id": "ddf8d295-9ab0-4505-9f62-0d9ff2d07591",
   "metadata": {
    "tags": []
   },
   "outputs": [
    {
     "data": {
      "text/plain": [
       "0.38872051299153165"
      ]
     },
     "execution_count": 48,
     "metadata": {},
     "output_type": "execute_result"
    }
   ],
   "source": [
    "f1_score(y_test3, y_pred3, average='macro')"
   ]
  },
  {
   "cell_type": "markdown",
   "id": "25755d4e-d5a1-485d-8441-c58199b594c4",
   "metadata": {},
   "source": [
    "--------"
   ]
  },
  {
   "cell_type": "code",
   "execution_count": 49,
   "id": "3fe0de93-32a9-4d2a-863f-d43d23080ffa",
   "metadata": {
    "tags": []
   },
   "outputs": [],
   "source": [
    "# import tensorflow as tf\n",
    "# import warnings\n",
    "# warnings.filterwarnings(\"ignore\")\n",
    "# tf.random.set_seed(42)\n",
    "\n",
    "# model3 = tf.keras.Sequential([\n",
    "#     tf.keras.layers.Dense(128, activation='relu'),\n",
    "#     tf.keras.layers.Dense(256, activation='tanh'),\n",
    "#     tf.keras.layers.Dense(512, activation='relu'),\n",
    "#     tf.keras.layers.Dense(1)\n",
    "# ])\n",
    "\n",
    "# model3.compile(optimizer=\"Adam\", loss=\"mse\", metrics=[\"mae\"])"
   ]
  },
  {
   "cell_type": "code",
   "execution_count": 50,
   "id": "29fb45ce-3760-4bf4-b34d-23815755db6c",
   "metadata": {
    "tags": []
   },
   "outputs": [],
   "source": [
    "# model3.fit(X_train, y_train, epochs=10)"
   ]
  },
  {
   "cell_type": "code",
   "execution_count": 51,
   "id": "125e4a65-c241-4769-bd22-9be1d86a5734",
   "metadata": {
    "tags": []
   },
   "outputs": [],
   "source": [
    "# y_pred3 = np.round(model3.predict(X_test)).reshape(1,-1)[0]"
   ]
  },
  {
   "cell_type": "code",
   "execution_count": 52,
   "id": "966e99ae-6cb1-46eb-91ce-4d61964ce022",
   "metadata": {
    "tags": []
   },
   "outputs": [],
   "source": [
    "# f1_score(y_test, y_pred3.reshape(1,-1)[0], average='macro')"
   ]
  },
  {
   "cell_type": "code",
   "execution_count": 53,
   "id": "d0dbd358-02e0-44d8-bfdd-9d8546e086d3",
   "metadata": {},
   "outputs": [],
   "source": [
    "# lista1 = model3.predict(X_test)\n",
    "# lista2 = clf.predict(X_test)"
   ]
  },
  {
   "cell_type": "markdown",
   "id": "3b252930-a3e7-4acb-9a30-f1b236329638",
   "metadata": {},
   "source": [
    "## **Testando o Modelo**"
   ]
  },
  {
   "cell_type": "code",
   "execution_count": 54,
   "id": "af577449-ac7b-476c-a2c0-f28d70f2e51f",
   "metadata": {
    "tags": []
   },
   "outputs": [],
   "source": [
    "df_test = pd.read_csv('../data/test.csv')\n",
    "df_test1 = df_test[df_test['NU_IDADE_N'] <=40]\n",
    "df_test2 = df_test[ (df_test['NU_IDADE_N'] >40) & (df_test['NU_IDADE_N']<=60) ]\n",
    "df_test3 = df_test[df_test['NU_IDADE_N'] >60]"
   ]
  },
  {
   "cell_type": "code",
   "execution_count": 55,
   "id": "17463db8-e3f6-419c-b5b1-721deda355d4",
   "metadata": {
    "tags": []
   },
   "outputs": [],
   "source": [
    "# Características GERAIS\n",
    "idade1 = df_test1['NU_IDADE_N'].to_numpy()\n",
    "uf1 = df_test1['SG_UF'].to_numpy()\n",
    "sexo1 = df_test1['CS_SEXO'].to_numpy()\n",
    "gestante1 = df_test1['CS_GESTANT'].to_numpy()\n",
    "raca1 = df_test1['CS_RACA'] \n",
    "escolaridade1 = df_test1['CS_ESCOL_N'].copy() # campo essencial (não obrigatório)\n",
    "escolaridade1[np.isnan(escolaridade1)] = 9\n",
    "escolaridade1 = escolaridade1.to_numpy()\n",
    "zona1 = df_test1['CS_ZONA'].copy()\n",
    "zona1[np.isnan(zona1)] = 9\n",
    "zona1 = zona1.to_numpy()\n",
    "gestante1 = df_test1['CS_GESTANT'].to_numpy()\n",
    "\n",
    "caracteristicas_gerais1 = [idade1,uf1,sexo1,gestante1,raca1,escolaridade1,zona1]\n",
    "caracteristicas_gerais_desc1 = [\"idade\",\"uf\",\"sexo\",\"gestante\",\"raca\",\"escolaridade\",\"zona\"]\n",
    "\n",
    "# Relativos a SINTOMAS, eles são campos **ESSENCIAIS**\n",
    "febre1 = df_test1['FEBRE'].copy()\n",
    "febre1[np.isnan(febre1)] = 9\n",
    "febre1 = febre1.to_numpy()\n",
    "\n",
    "tosse1 = df_test1['TOSSE'].copy()\n",
    "tosse1[np.isnan(tosse1)] = 9\n",
    "tosse1 = tosse1.to_numpy()\n",
    "\n",
    "garganta1 = df_test1['GARGANTA'].copy()\n",
    "garganta1[np.isnan(garganta1)] = 9\n",
    "garganta1 = garganta1.to_numpy()\n",
    "\n",
    "dispneia1 = df_test1['DISPNEIA'].copy()\n",
    "dispneia1[np.isnan(dispneia1)] = 9\n",
    "dispneia1 = dispneia1.to_numpy()\n",
    "\n",
    "desc_resp1 = df_test1['DESC_RESP'].copy()\n",
    "desc_resp1[np.isnan(desc_resp1)] = 9\n",
    "desc_resp1 = desc_resp1.to_numpy()\n",
    "\n",
    "saturacao1 = df_test1['SATURACAO'].copy()\n",
    "saturacao1[np.isnan(saturacao1)] = 9\n",
    "saturacao1 = saturacao1.to_numpy()\n",
    "\n",
    "diarreia1 = df_test1['DIARREIA'].copy()\n",
    "diarreia1[np.isnan(diarreia1)] = 9\n",
    "diarreia1 = diarreia1.to_numpy()\n",
    "\n",
    "vomito1 = df_test1['VOMITO'].copy()\n",
    "vomito1[np.isnan(vomito1)] = 9\n",
    "vomito1 = vomito1.to_numpy()\n",
    "\n",
    "dor_abd1 = df_test1['DOR_ABD'].copy()\n",
    "dor_abd1[np.isnan(dor_abd1)] = 9\n",
    "dor_abd1 = dor_abd1.to_numpy()\n",
    "\n",
    "fadiga1 = df_test1['FADIGA'].copy()\n",
    "fadiga1[np.isnan(fadiga1)] = 9\n",
    "fadiga1 = fadiga1.to_numpy()\n",
    "\n",
    "perda_olfato1 = df_test1['PERD_OLFT'].copy()\n",
    "perda_olfato1[np.isnan(perda_olfato1)] = 9\n",
    "perda_olfato1 = perda_olfato1.to_numpy()\n",
    "\n",
    "perda_paladar1 = df_test1['PERD_PALA'].copy()\n",
    "perda_paladar1[np.isnan(perda_paladar1)] = 9\n",
    "perda_paladar1 = perda_paladar1.to_numpy()\n",
    "\n",
    "outros_sintomas1 = df_test1['OUTRO_SIN'].copy()\n",
    "outros_sintomas1[np.isnan(outros_sintomas1)] = 9\n",
    "outros_sintomas1 = outros_sintomas1.to_numpy()\n",
    "\n",
    "sintomas1 = [febre1,tosse1,garganta1,dispneia1,desc_resp1,saturacao1,diarreia1,vomito1,dor_abd1,\n",
    "               fadiga1,perda_olfato1,perda_paladar1,outros_sintomas1]\n",
    "sintomas_desc1 = [\"febre\",\"tosse\",\"garganta\",\"dispneia\",\"desc_resp\",\"saturacao\",\"diarreia\",\n",
    "                   \"vomito\",\"dor_abddominal\",\"fadiga\",\"perda_olfato\",\"perda_paladar\",\n",
    "                   \"outros_sintomas\"]\n",
    "                   \n",
    "# Características GERAIS\n",
    "idade2 = df_test2['NU_IDADE_N'].to_numpy()\n",
    "uf2 = df_test2['SG_UF'].to_numpy()\n",
    "sexo2 = df_test2['CS_SEXO'].to_numpy()\n",
    "gestante2 = df_test2['CS_GESTANT'].to_numpy()\n",
    "raca2 = df_test2['CS_RACA'] \n",
    "escolaridade2 = df_test2['CS_ESCOL_N'].copy() # campo essencial (não obrigatório)\n",
    "escolaridade2[np.isnan(escolaridade2)] = 9\n",
    "escolaridade2 = escolaridade2.to_numpy()\n",
    "zona2 = df_test2['CS_ZONA'].copy()\n",
    "zona2[np.isnan(zona2)] = 9\n",
    "zona2 = zona2.to_numpy()\n",
    "gestante2 = df_test2['CS_GESTANT'].to_numpy()\n",
    "\n",
    "#caracteristicas_gerais2 = [idade2,uf2,sexo2,gestante,raca,escolaridade,zona]\n",
    "caracteristicas_gerais_desc2 = [\"idade\",\"uf\",\"sexo\",\"gestante\",\"raca\",\"escolaridade\",\"zona\"]\n",
    "\n",
    "# Relativos a SINTOMAS, eles são campos **ESSENCIAIS**\n",
    "febre2 = df_test2['FEBRE'].copy()\n",
    "febre2[np.isnan(febre2)] = 9\n",
    "febre2 = febre2.to_numpy()\n",
    "\n",
    "tosse2 = df_test2['TOSSE'].copy()\n",
    "tosse2[np.isnan(tosse2)] = 9\n",
    "tosse2 = tosse2.to_numpy()\n",
    "\n",
    "garganta2 = df_test2['GARGANTA'].copy()\n",
    "garganta2[np.isnan(garganta2)] = 9\n",
    "garganta2 = garganta2.to_numpy()\n",
    "\n",
    "dispneia2 = df_test2['DISPNEIA'].copy()\n",
    "dispneia2[np.isnan(dispneia2)] = 9\n",
    "dispneia2 = dispneia2.to_numpy()\n",
    "\n",
    "desc_resp2 = df_test2['DESC_RESP'].copy()\n",
    "desc_resp2[np.isnan(desc_resp2)] = 9\n",
    "desc_resp2 = desc_resp2.to_numpy()\n",
    "\n",
    "saturacao2 = df_test2['SATURACAO'].copy()\n",
    "saturacao2[np.isnan(saturacao2)] = 9\n",
    "saturacao2 = saturacao2.to_numpy()\n",
    "\n",
    "diarreia2 = df_test2['DIARREIA'].copy()\n",
    "diarreia2[np.isnan(diarreia2)] = 9\n",
    "diarreia2 = diarreia2.to_numpy()\n",
    "\n",
    "vomito2 = df_test2['VOMITO'].copy()\n",
    "vomito2[np.isnan(vomito2)] = 9\n",
    "vomito2 = vomito2.to_numpy()\n",
    "\n",
    "dor_abd2 = df_test2['DOR_ABD'].copy()\n",
    "dor_abd2[np.isnan(dor_abd2)] = 9\n",
    "dor_abd2 = dor_abd2.to_numpy()\n",
    "\n",
    "fadiga2 = df_test2['FADIGA'].copy()\n",
    "fadiga2[np.isnan(fadiga2)] = 9\n",
    "fadiga2 = fadiga2.to_numpy()\n",
    "\n",
    "perda_olfato2 = df_test2['PERD_OLFT'].copy()\n",
    "perda_olfato2[np.isnan(perda_olfato2)] = 9\n",
    "perda_olfato2 = perda_olfato2.to_numpy()\n",
    "\n",
    "perda_paladar2 = df_test2['PERD_PALA'].copy()\n",
    "perda_paladar2[np.isnan(perda_paladar2)] = 9\n",
    "perda_paladar2 = perda_paladar2.to_numpy()\n",
    "\n",
    "outros_sintomas2 = df_test2['OUTRO_SIN'].copy()\n",
    "outros_sintomas2[np.isnan(outros_sintomas2)] = 9\n",
    "outros_sintomas2 = outros_sintomas2.to_numpy()\n",
    "\n",
    "sintomas2 = [febre2,tosse2,garganta2,dispneia2,desc_resp2,saturacao2,diarreia2,vomito2,dor_abd2,\n",
    "               fadiga2,perda_olfato2,perda_paladar2,outros_sintomas2]\n",
    "sintomas_desc2 = [\"febre\",\"tosse\",\"garganta\",\"dispneia\",\"desc_resp\",\"saturacao\",\"diarreia\",\n",
    "                   \"vomito\",\"dor_abddominal\",\"fadiga\",\"perda_olfato\",\"perda_paladar\",\n",
    "                   \"outros_sintomas\"]\n",
    "                   \n",
    "                   \n",
    "# Características GERAIS\n",
    "idade3 = df_test3['NU_IDADE_N'].to_numpy()\n",
    "uf3 = df_test3['SG_UF'].to_numpy()\n",
    "sexo3 = df_test3['CS_SEXO'].to_numpy()\n",
    "gestante3 = df_test3['CS_GESTANT'].to_numpy()\n",
    "raca3 = df_test3['CS_RACA'] \n",
    "escolaridade3 = df_test3['CS_ESCOL_N'].copy() # campo essencial (não obrigatório)\n",
    "escolaridade3[np.isnan(escolaridade3)] = 9\n",
    "escolaridade3 = escolaridade3.to_numpy()\n",
    "zona3 = df_test3['CS_ZONA'].copy()\n",
    "zona3[np.isnan(zona3)] = 9\n",
    "zona3 = zona3.to_numpy()\n",
    "gestante3 = df_test3['CS_GESTANT'].to_numpy()\n",
    "\n",
    "#caracteristicas_gerais3 = [idade,uf,sexo,gestante,raca,escolaridade,zona]\n",
    "caracteristicas_gerais_desc3 = [\"idade\",\"uf\",\"sexo\",\"gestante\",\"raca\",\"escolaridade\",\"zona\"]\n",
    "\n",
    "# Relativos a SINTOMAS, eles são campos **ESSENCIAIS**\n",
    "febre3 = df_test3['FEBRE'].copy()\n",
    "febre3[np.isnan(febre3)] = 9\n",
    "febre3 = febre3.to_numpy()\n",
    "\n",
    "tosse3 = df_test3['TOSSE'].copy()\n",
    "tosse3[np.isnan(tosse3)] = 9\n",
    "tosse3 = tosse3.to_numpy()\n",
    "\n",
    "garganta3 = df_test3['GARGANTA'].copy()\n",
    "garganta3[np.isnan(garganta3)] = 9\n",
    "garganta3 = garganta3.to_numpy()\n",
    "\n",
    "dispneia3 = df_test3['DISPNEIA'].copy()\n",
    "dispneia3[np.isnan(dispneia3)] = 9\n",
    "dispneia3 = dispneia3.to_numpy()\n",
    "\n",
    "desc_resp3 = df_test3['DESC_RESP'].copy()\n",
    "desc_resp3[np.isnan(desc_resp3)] = 9\n",
    "desc_resp3 = desc_resp3.to_numpy()\n",
    "\n",
    "saturacao3 = df_test3['SATURACAO'].copy()\n",
    "saturacao3[np.isnan(saturacao3)] = 9\n",
    "saturacao3 = saturacao3.to_numpy()\n",
    "\n",
    "diarreia3 = df_test3['DIARREIA'].copy()\n",
    "diarreia3[np.isnan(diarreia3)] = 9\n",
    "diarreia3 = diarreia3.to_numpy()\n",
    "\n",
    "vomito3 = df_test3['VOMITO'].copy()\n",
    "vomito3[np.isnan(vomito3)] = 9\n",
    "vomito3 = vomito3.to_numpy()\n",
    "\n",
    "dor_abd3 = df_test3['DOR_ABD'].copy()\n",
    "dor_abd3[np.isnan(dor_abd3)] = 9\n",
    "dor_abd3 = dor_abd3.to_numpy()\n",
    "\n",
    "fadiga3 = df_test3['FADIGA'].copy()\n",
    "fadiga3[np.isnan(fadiga3)] = 9\n",
    "fadiga3 = fadiga3.to_numpy()\n",
    "\n",
    "perda_olfato3 = df_test3['PERD_OLFT'].copy()\n",
    "perda_olfato3[np.isnan(perda_olfato3)] = 9\n",
    "perda_olfato3 = perda_olfato3.to_numpy()\n",
    "\n",
    "perda_paladar3 = df_test3['PERD_PALA'].copy()\n",
    "perda_paladar3[np.isnan(perda_paladar3)] = 9\n",
    "perda_paladar3 = perda_paladar3.to_numpy()\n",
    "\n",
    "outros_sintomas3 = df_test3['OUTRO_SIN'].copy()\n",
    "outros_sintomas3[np.isnan(outros_sintomas3)] = 9\n",
    "outros_sintomas3 = outros_sintomas3.to_numpy()\n",
    "\n",
    "sintomas3 = [febre3,tosse3,garganta3,dispneia3,desc_resp3,saturacao3,diarreia3,vomito3,dor_abd3,\n",
    "               fadiga3,perda_olfato3,perda_paladar3,outros_sintomas3]\n",
    "sintomas_desc3 = [\"febre\",\"tosse\",\"garganta\",\"dispneia\",\"desc_resp\",\"saturacao\",\"diarreia\",\n",
    "                   \"vomito\",\"dor_abddominal\",\"fadiga\",\"perda_olfato\",\"perda_paladar\",\n",
    "                   \"outros_sintomas\"]\n",
    "for i in range(0,len(sexo1)):\n",
    "    if(sexo1[i] == 'F'):\n",
    "        sexo1[i] = 0\n",
    "    else:\n",
    "        sexo1[i] = 1\n",
    "        \n",
    "for i in range(0,len(sexo2)):\n",
    "    if(sexo2[i] == 'F'):\n",
    "        sexo2[i] = 0\n",
    "    else:\n",
    "        sexo2[i] = 1\n",
    "        \n",
    "for i in range(0,len(sexo3)):\n",
    "    if(sexo3[i] == 'F'):\n",
    "        sexo3[i] = 0\n",
    "    else:\n",
    "        sexo3[i] = 1"
   ]
  },
  {
   "cell_type": "code",
   "execution_count": 56,
   "id": "63bdfea4-c08f-4a27-9f51-b5236d70e93a",
   "metadata": {
    "tags": []
   },
   "outputs": [],
   "source": [
    "# df_test.head(1)\n",
    "# import joblib\n",
    "# filename = 'modelo_teste.sav'\n",
    "# joblib.dump(clf, filename)\n"
   ]
  },
  {
   "cell_type": "code",
   "execution_count": 60,
   "id": "6eadf0c0-4e86-46da-a4a6-3ac299446e2f",
   "metadata": {
    "tags": []
   },
   "outputs": [],
   "source": [
    "# Y1 = df_test_target1\n",
    "X1 = np.concatenate([saturacao1**2,perda_olfato1**0.3,perda_paladar1,\n",
    "                    sexo1,idade1**2,zona1**0.3]).reshape(len(saturacao1),6)\n",
    "\n",
    "# Y2 = df_test_target2\n",
    "X2 = np.concatenate([idade2,saturacao2**10,gestante2,sexo2,\n",
    "                    fadiga2, raca2, vomito2**0.8, dispneia2**2,\n",
    "                    perda_paladar2**6, zona2**0.15,\n",
    "                    ]).reshape(len(saturacao2),10)\n",
    "\n",
    "\n",
    "#Y3 = df_train_target3\n",
    "X3 = np.concatenate([idade3,perda_paladar3**4,fadiga3,saturacao3,\n",
    "                    febre3, perda_olfato3, sexo3, raca3**2]).reshape(len(saturacao3),8)"
   ]
  },
  {
   "cell_type": "code",
   "execution_count": 61,
   "id": "966aa9d1-c615-4349-9cd7-db14d929a712",
   "metadata": {
    "tags": []
   },
   "outputs": [],
   "source": [
    "prediction_test1 = neigh1.predict(X1)\n",
    "prediction_test2 = neigh2.predict(X2)\n",
    "prediction_test3 = neigh3.predict(X3)"
   ]
  },
  {
   "cell_type": "code",
   "execution_count": 67,
   "id": "d89a6a20-1817-4222-9400-a67ad6c0c6dc",
   "metadata": {
    "tags": []
   },
   "outputs": [],
   "source": [
    "# prediction_test1 = np.round(prediction_test1)\n",
    "# prediction_test2 = np.round(prediction_test2)\n",
    "# prediction_test3 = np.round(prediction_test3)\n",
    "\n",
    "# prediction_test1 = prediction_test1.astype(np.int32).reshape(1,-1)\n",
    "# prediction_test2 = prediction_test2.astype(np.int32).reshape(1,-1)\n",
    "# prediction_test3 = prediction_test3.astype(np.int32).reshape(1,-1)\n",
    "\n",
    "#prediction_test = np.concatenate((prediction_test1, prediction_test2, prediction_test3), axis=1)[0]\n",
    "prediction_test = np.concatenate((prediction_test1, prediction_test2, prediction_test3), axis=0)\n",
    "\n"
   ]
  },
  {
   "cell_type": "code",
   "execution_count": 68,
   "id": "e68f85fc-98fa-40d6-abf6-649b827fa303",
   "metadata": {
    "tags": []
   },
   "outputs": [
    {
     "data": {
      "text/plain": [
       "array([4, 4, 4, ..., 5, 5, 5])"
      ]
     },
     "execution_count": 68,
     "metadata": {},
     "output_type": "execute_result"
    }
   ],
   "source": [
    "prediction_test"
   ]
  },
  {
   "cell_type": "code",
   "execution_count": 69,
   "id": "3c971305-36ff-472d-865b-c64faccedeb5",
   "metadata": {
    "tags": []
   },
   "outputs": [],
   "source": [
    "submission_file = pd.read_csv('../data/sample_submission.csv')"
   ]
  },
  {
   "cell_type": "code",
   "execution_count": 70,
   "id": "3a7f9875-b802-438e-bbdb-251708bf32d5",
   "metadata": {
    "tags": []
   },
   "outputs": [],
   "source": [
    "submission_file['CLASSI_FIN'] = prediction_test"
   ]
  },
  {
   "cell_type": "code",
   "execution_count": 71,
   "id": "90186761-14f0-4ed3-8812-eb26c062d242",
   "metadata": {
    "tags": []
   },
   "outputs": [],
   "source": [
    "submission_file.to_csv('predicted_data.csv',index=False)"
   ]
  },
  {
   "cell_type": "code",
   "execution_count": null,
   "id": "0ef457ad-b045-41eb-b6d4-a789b779f269",
   "metadata": {},
   "outputs": [],
   "source": []
  },
  {
   "cell_type": "code",
   "execution_count": 172,
   "id": "9ddd6375-d6a3-4ad6-a355-4d0725b92e21",
   "metadata": {},
   "outputs": [
    {
     "data": {
      "text/plain": [
       "1"
      ]
     },
     "execution_count": 172,
     "metadata": {},
     "output_type": "execute_result"
    }
   ],
   "source": []
  },
  {
   "cell_type": "code",
   "execution_count": null,
   "id": "36757c6c-187b-4fb3-adad-c75efa6cb84e",
   "metadata": {},
   "outputs": [],
   "source": []
  }
 ],
 "metadata": {
  "kernelspec": {
   "display_name": "Python 3",
   "language": "python",
   "name": "python3"
  },
  "language_info": {
   "codemirror_mode": {
    "name": "ipython",
    "version": 3
   },
   "file_extension": ".py",
   "mimetype": "text/x-python",
   "name": "python",
   "nbconvert_exporter": "python",
   "pygments_lexer": "ipython3",
   "version": "3.8.6"
  },
  "vscode": {
   "interpreter": {
    "hash": "c9d65f7eb24c8e365dfd9ac8007737993c5f4704e15c96496f72f3babf38faf6"
   }
  }
 },
 "nbformat": 4,
 "nbformat_minor": 5
}
