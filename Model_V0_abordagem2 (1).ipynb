{
 "cells": [
  {
   "cell_type": "code",
   "execution_count": 1,
   "id": "5cf5788f-3f92-41b0-82ad-56a074b4d1ec",
   "metadata": {
    "tags": []
   },
   "outputs": [],
   "source": [
    "# Importing Libraries used in the Project\n",
    "import pandas as pd\n",
    "import numpy as np\n",
    "import warnings\n",
    "warnings.filterwarnings(\"ignore\")"
   ]
  },
  {
   "cell_type": "markdown",
   "id": "3f661786-166a-45e3-bffe-f7b81a61b3c3",
   "metadata": {},
   "source": [
    "**CAMPO OBRIGATÓRIO** é aquele cuja ausência de dado impossibilita a inclusão do registro no sistema.\n",
    "\n",
    "**CAMPO ESSENCIAL** é aquele que, apesar de não ser obrigatório, registra dado necessário à investigação do caso ou ao cálculo de indicador epidemiológico ou operacional.\n",
    "\n",
    "**CAMPO INTERNO** é aquele que apesar de não constar na ficha e não aparecer no display da tela, é preenchido automaticamente pelo sistema.\n",
    "\n",
    "**CAMPO OPCIONAL** é aquele que só deve ser preenchido caso seja necessário, aparece no display da tela e consta no banco de dados"
   ]
  },
  {
   "cell_type": "code",
   "execution_count": 2,
   "id": "a8ef4bc0-d3b8-4f90-89b9-88889bf25010",
   "metadata": {
    "tags": []
   },
   "outputs": [],
   "source": [
    "df_train = pd.read_csv('train.csv',low_memory=True)"
   ]
  },
  {
   "cell_type": "code",
   "execution_count": 3,
   "id": "61059100-b733-4ebe-9ed7-748a04ce7d01",
   "metadata": {
    "tags": []
   },
   "outputs": [
    {
     "data": {
      "text/html": [
       "<div>\n",
       "<style scoped>\n",
       "    .dataframe tbody tr th:only-of-type {\n",
       "        vertical-align: middle;\n",
       "    }\n",
       "\n",
       "    .dataframe tbody tr th {\n",
       "        vertical-align: top;\n",
       "    }\n",
       "\n",
       "    .dataframe thead th {\n",
       "        text-align: right;\n",
       "    }\n",
       "</style>\n",
       "<table border=\"1\" class=\"dataframe\">\n",
       "  <thead>\n",
       "    <tr style=\"text-align: right;\">\n",
       "      <th></th>\n",
       "      <th>SEM_NOT</th>\n",
       "      <th>SEM_PRI</th>\n",
       "      <th>SG_UF_NOT</th>\n",
       "      <th>ID_REGIONA</th>\n",
       "      <th>CO_REGIONA</th>\n",
       "      <th>ID_MUNICIP</th>\n",
       "      <th>CO_MUN_NOT</th>\n",
       "      <th>CS_SEXO</th>\n",
       "      <th>NU_IDADE_N</th>\n",
       "      <th>TP_IDADE</th>\n",
       "      <th>...</th>\n",
       "      <th>PERD_PALA</th>\n",
       "      <th>TOMO_RES</th>\n",
       "      <th>TOMO_OUT</th>\n",
       "      <th>VACINA_COV</th>\n",
       "      <th>DOSE_1_COV</th>\n",
       "      <th>DOSE_2_COV</th>\n",
       "      <th>DOSE_REF</th>\n",
       "      <th>FNT_IN_COV</th>\n",
       "      <th>DELTA_UTI</th>\n",
       "      <th>ID</th>\n",
       "    </tr>\n",
       "  </thead>\n",
       "  <tbody>\n",
       "    <tr>\n",
       "      <th>0</th>\n",
       "      <td>38</td>\n",
       "      <td>37</td>\n",
       "      <td>RS</td>\n",
       "      <td>005 CRS</td>\n",
       "      <td>1608.0</td>\n",
       "      <td>CAXIAS DO SUL</td>\n",
       "      <td>430510</td>\n",
       "      <td>M</td>\n",
       "      <td>73</td>\n",
       "      <td>3</td>\n",
       "      <td>...</td>\n",
       "      <td>NaN</td>\n",
       "      <td>NaN</td>\n",
       "      <td>NaN</td>\n",
       "      <td>2.0</td>\n",
       "      <td>0</td>\n",
       "      <td>0</td>\n",
       "      <td>0</td>\n",
       "      <td>1.0</td>\n",
       "      <td>-1</td>\n",
       "      <td>87360a9a-5516-4b0c-9c76-faceb759e97b</td>\n",
       "    </tr>\n",
       "  </tbody>\n",
       "</table>\n",
       "<p>1 rows × 76 columns</p>\n",
       "</div>"
      ],
      "text/plain": [
       "   SEM_NOT  SEM_PRI SG_UF_NOT ID_REGIONA  CO_REGIONA     ID_MUNICIP  \\\n",
       "0       38       37        RS    005 CRS      1608.0  CAXIAS DO SUL   \n",
       "\n",
       "   CO_MUN_NOT CS_SEXO  NU_IDADE_N  TP_IDADE  ... PERD_PALA  TOMO_RES  \\\n",
       "0      430510       M          73         3  ...       NaN       NaN   \n",
       "\n",
       "   TOMO_OUT  VACINA_COV DOSE_1_COV  DOSE_2_COV  DOSE_REF  FNT_IN_COV  \\\n",
       "0       NaN         2.0          0           0         0         1.0   \n",
       "\n",
       "   DELTA_UTI                                    ID  \n",
       "0         -1  87360a9a-5516-4b0c-9c76-faceb759e97b  \n",
       "\n",
       "[1 rows x 76 columns]"
      ]
     },
     "execution_count": 3,
     "metadata": {},
     "output_type": "execute_result"
    }
   ],
   "source": [
    "df_train.head(1)"
   ]
  },
  {
   "cell_type": "code",
   "execution_count": 3,
   "id": "af0b9deb-32ea-452c-9d5d-3729c3b56175",
   "metadata": {
    "tags": []
   },
   "outputs": [],
   "source": [
    "df_train1 = df_train\n",
    "df_train_target1 = df_train1['CLASSI_FIN'].to_numpy()"
   ]
  },
  {
   "cell_type": "markdown",
   "id": "2e7a5c9a-d8f5-4182-9434-3eb397cde1f1",
   "metadata": {
    "tags": []
   },
   "source": [
    "## **Features Analysis**"
   ]
  },
  {
   "cell_type": "code",
   "execution_count": 4,
   "id": "c83084cc-48fa-4fc1-b63c-751c9c460872",
   "metadata": {
    "tags": []
   },
   "outputs": [
    {
     "data": {
      "text/plain": [
       "Index(['SEM_NOT', 'SEM_PRI', 'SG_UF_NOT', 'ID_REGIONA', 'CO_REGIONA',\n",
       "       'ID_MUNICIP', 'CO_MUN_NOT', 'CS_SEXO', 'NU_IDADE_N', 'TP_IDADE',\n",
       "       'COD_IDADE', 'CS_GESTANT', 'CS_RACA', 'CS_ESCOL_N', 'SG_UF', 'CS_ZONA',\n",
       "       'SURTO_SG', 'NOSOCOMIAL', 'AVE_SUINO', 'FEBRE', 'TOSSE', 'GARGANTA',\n",
       "       'DISPNEIA', 'DESC_RESP', 'SATURACAO', 'DIARREIA', 'VOMITO', 'OUTRO_SIN',\n",
       "       'OUTRO_DES', 'PUERPERA', 'FATOR_RISC', 'CARDIOPATI', 'HEMATOLOGI',\n",
       "       'SIND_DOWN', 'HEPATICA', 'ASMA', 'DIABETES', 'NEUROLOGIC', 'PNEUMOPATI',\n",
       "       'IMUNODEPRE', 'RENAL', 'OBESIDADE', 'OBES_IMC', 'OUT_MORBI',\n",
       "       'MORB_DESC', 'VACINA', 'MAE_VAC', 'M_AMAMENTA', 'ANTIVIRAL',\n",
       "       'TP_ANTIVIR', 'HOSPITAL', 'UTI', 'SUPORT_VEN', 'RAIOX_RES', 'RAIOX_OUT',\n",
       "       'AMOSTRA', 'TP_AMOSTRA', 'OUT_AMOST', 'CLASSI_FIN', 'HISTO_VGM',\n",
       "       'PAC_COCBO', 'PAC_DSCBO', 'OUT_ANIM', 'DOR_ABD', 'FADIGA', 'PERD_OLFT',\n",
       "       'PERD_PALA', 'TOMO_RES', 'TOMO_OUT', 'VACINA_COV', 'DOSE_1_COV',\n",
       "       'DOSE_2_COV', 'DOSE_REF', 'FNT_IN_COV', 'DELTA_UTI', 'ID'],\n",
       "      dtype='object')"
      ]
     },
     "execution_count": 4,
     "metadata": {},
     "output_type": "execute_result"
    }
   ],
   "source": [
    "df_train.columns"
   ]
  },
  {
   "cell_type": "markdown",
   "id": "311fcf41-decf-4ce6-8369-acbfeac888fd",
   "metadata": {},
   "source": [
    "# Divisão de Features para o Modelo"
   ]
  },
  {
   "cell_type": "markdown",
   "id": "a0d849d2-67a8-46d4-af46-490da8362820",
   "metadata": {},
   "source": [
    "### **IDADE ---> (0,40)**"
   ]
  },
  {
   "cell_type": "code",
   "execution_count": 5,
   "id": "2eac8bac-1cc9-461a-8c29-79b418415b97",
   "metadata": {
    "jupyter": {
     "source_hidden": true
    },
    "tags": []
   },
   "outputs": [],
   "source": [
    "# Características GERAIS\n",
    "idade1 = df_train1['NU_IDADE_N'].to_numpy()\n",
    "uf1 = df_train1['SG_UF'].to_numpy()\n",
    "sexo1 = df_train1['CS_SEXO'].to_numpy()\n",
    "gestante1 = df_train1['CS_GESTANT'].to_numpy()\n",
    "raca1 = df_train1['CS_RACA'] \n",
    "escolaridade1 = df_train1['CS_ESCOL_N'].copy() # campo essencial (não obrigatório)\n",
    "escolaridade1[np.isnan(escolaridade1)] = 9\n",
    "escolaridade1 = escolaridade1.to_numpy()\n",
    "zona1 = df_train1['CS_ZONA'].copy()\n",
    "zona1[np.isnan(zona1)] = 9\n",
    "zona1 = zona1.to_numpy()\n",
    "gestante1 = df_train1['CS_GESTANT'].to_numpy()\n",
    "\n",
    "caracteristicas_gerais1 = [idade1,uf1,sexo1,gestante1,raca1,escolaridade1,zona1]\n",
    "caracteristicas_gerais_desc1 = [\"idade\",\"uf\",\"sexo\",\"gestante\",\"raca\",\"escolaridade\",\"zona\"]\n",
    "\n",
    "# Relativos a SINTOMAS, eles são campos **ESSENCIAIS**\n",
    "febre1 = df_train1['FEBRE'].copy()\n",
    "febre1[np.isnan(febre1)] = 9\n",
    "febre1 = febre1.to_numpy()\n",
    "\n",
    "tosse1 = df_train1['TOSSE'].copy()\n",
    "tosse1[np.isnan(tosse1)] = 9\n",
    "tosse1 = tosse1.to_numpy()\n",
    "\n",
    "garganta1 = df_train1['GARGANTA'].copy()\n",
    "garganta1[np.isnan(garganta1)] = 9\n",
    "garganta1 = garganta1.to_numpy()\n",
    "\n",
    "dispneia1 = df_train1['DISPNEIA'].copy()\n",
    "dispneia1[np.isnan(dispneia1)] = 9\n",
    "dispneia1 = dispneia1.to_numpy()\n",
    "\n",
    "desc_resp1 = df_train1['DESC_RESP'].copy()\n",
    "desc_resp1[np.isnan(desc_resp1)] = 9\n",
    "desc_resp1 = desc_resp1.to_numpy()\n",
    "\n",
    "saturacao1 = df_train1['SATURACAO'].copy()\n",
    "saturacao1[np.isnan(saturacao1)] = 9\n",
    "saturacao1 = saturacao1.to_numpy()\n",
    "\n",
    "diarreia1 = df_train1['DIARREIA'].copy()\n",
    "diarreia1[np.isnan(diarreia1)] = 9\n",
    "diarreia1 = diarreia1.to_numpy()\n",
    "\n",
    "vomito1 = df_train1['VOMITO'].copy()\n",
    "vomito1[np.isnan(vomito1)] = 9\n",
    "vomito1 = vomito1.to_numpy()\n",
    "\n",
    "dor_abd1 = df_train1['DOR_ABD'].copy()\n",
    "dor_abd1[np.isnan(dor_abd1)] = 9\n",
    "dor_abd1 = dor_abd1.to_numpy()\n",
    "\n",
    "fadiga1 = df_train1['FADIGA'].copy()\n",
    "fadiga1[np.isnan(fadiga1)] = 9\n",
    "fadiga1 = fadiga1.to_numpy()\n",
    "\n",
    "perda_olfato1 = df_train1['PERD_OLFT'].copy()\n",
    "perda_olfato1[np.isnan(perda_olfato1)] = 9\n",
    "perda_olfato1 = perda_olfato1.to_numpy()\n",
    "\n",
    "perda_paladar1 = df_train1['PERD_PALA'].copy()\n",
    "perda_paladar1[np.isnan(perda_paladar1)] = 9\n",
    "perda_paladar1 = perda_paladar1.to_numpy()\n",
    "\n",
    "outros_sintomas1 = df_train1['OUTRO_SIN'].copy()\n",
    "outros_sintomas1[np.isnan(outros_sintomas1)] = 9\n",
    "outros_sintomas1 = outros_sintomas1.to_numpy()\n",
    "\n",
    "sintomas1 = [febre1,tosse1,garganta1,dispneia1,desc_resp1,saturacao1,diarreia1,vomito1,dor_abd1,\n",
    "               fadiga1,perda_olfato1,perda_paladar1,outros_sintomas1]\n",
    "sintomas_desc1 = [\"febre\",\"tosse\",\"garganta\",\"dispneia\",\"desc_resp\",\"saturacao\",\"diarreia\",\n",
    "                   \"vomito\",\"dor_abddominal\",\"fadiga\",\"perda_olfato\",\"perda_paladar\",\n",
    "                   \"outros_sintomas\"]\n",
    "for i in range(0,len(sexo1)):\n",
    "    if(sexo1[i] == 'F'):\n",
    "        sexo1[i] = 0\n",
    "    else:\n",
    "        sexo1[i] = 1"
   ]
  },
  {
   "cell_type": "markdown",
   "id": "14ffec12-4f02-4b5d-b12b-90a77af2bae6",
   "metadata": {
    "tags": []
   },
   "source": [
    "# **Montando Modelo Piloto**"
   ]
  },
  {
   "cell_type": "code",
   "execution_count": 6,
   "id": "0d8f4fd4-2f62-445f-b9db-93b440034dac",
   "metadata": {},
   "outputs": [],
   "source": [
    "from sklearn.ensemble import RandomForestClassifier\n",
    "from sklearn.model_selection import train_test_split\n",
    "from sklearn.metrics import precision_score, f1_score\n",
    "from sklearn.cluster import KMeans\n",
    "from sklearn.neighbors import KNeighborsClassifier"
   ]
  },
  {
   "cell_type": "markdown",
   "id": "2559fc66-1799-46f9-a79f-f6c6f5257c44",
   "metadata": {
    "tags": []
   },
   "source": [
    "## **Parte1**"
   ]
  },
  {
   "cell_type": "code",
   "execution_count": 7,
   "id": "341e421e-d023-4491-b336-c78450ef186c",
   "metadata": {
    "tags": []
   },
   "outputs": [],
   "source": [
    "Y1 = df_train_target1\n",
    "X1 = np.concatenate([saturacao1**2,perda_olfato1**0.3,perda_paladar1,\n",
    "                    sexo1,idade1**2,zona1**0.3]).reshape(len(Y1),6)\n"
   ]
  },
  {
   "cell_type": "code",
   "execution_count": 8,
   "id": "d614b222-3aa0-4962-820e-667f2401f392",
   "metadata": {
    "tags": []
   },
   "outputs": [],
   "source": [
    "X_train1, X_test1, y_train1, y_test1 = train_test_split(\n",
    "        X1, Y1, test_size=0.5, random_state=42\n",
    ")"
   ]
  },
  {
   "cell_type": "code",
   "execution_count": 9,
   "id": "3b3c85ff-9f6b-476d-ac75-c2faa0f3ad60",
   "metadata": {
    "tags": []
   },
   "outputs": [
    {
     "data": {
      "text/plain": [
       "RandomForestClassifier(n_estimators=320, n_jobs=-1, random_state=0)"
      ]
     },
     "execution_count": 9,
     "metadata": {},
     "output_type": "execute_result"
    }
   ],
   "source": [
    "clf1 = RandomForestClassifier(\n",
    "    random_state=0,n_estimators=320,n_jobs=-1,\n",
    "    #min_samples_split=4,\n",
    "    #min_samples_leaf=1,\n",
    "    #min_weight_fraction_leaf=0.01,\n",
    "    #max_features='sqrt',\n",
    "    #max_leaf_nodes=100,\n",
    ")\n",
    "clf1.fit(X_train1,y_train1)"
   ]
  },
  {
   "cell_type": "code",
   "execution_count": 10,
   "id": "03d1448a-94b2-4cb3-8f94-1f523f896d20",
   "metadata": {
    "tags": []
   },
   "outputs": [],
   "source": [
    "y_pred1_rf = clf1.predict(X_test1)"
   ]
  },
  {
   "cell_type": "code",
   "execution_count": 11,
   "id": "591ab496-406a-42d0-9460-877e0fc69f28",
   "metadata": {
    "tags": []
   },
   "outputs": [
    {
     "data": {
      "text/plain": [
       "0.3777133314283085"
      ]
     },
     "execution_count": 11,
     "metadata": {},
     "output_type": "execute_result"
    }
   ],
   "source": [
    "f1_score(y_test1, y_pred1_rf, average='macro')"
   ]
  },
  {
   "cell_type": "markdown",
   "id": "dfbd4d5c-84f5-4d64-b8dc-a1836f14b035",
   "metadata": {},
   "source": [
    "--------"
   ]
  },
  {
   "cell_type": "code",
   "execution_count": 12,
   "id": "ccaace16-5385-46f0-af18-5258e2b80870",
   "metadata": {
    "tags": []
   },
   "outputs": [
    {
     "data": {
      "text/plain": [
       "KNeighborsClassifier(n_jobs=-1, n_neighbors=1, p=1)"
      ]
     },
     "execution_count": 12,
     "metadata": {},
     "output_type": "execute_result"
    }
   ],
   "source": [
    "neigh1 = KNeighborsClassifier(n_neighbors=1,n_jobs=-1,leaf_size=30,p=1)\n",
    "neigh1.fit(X_train1,y_train1)"
   ]
  },
  {
   "cell_type": "code",
   "execution_count": 13,
   "id": "2704c9cc-720d-4376-9131-557a660e1203",
   "metadata": {
    "tags": []
   },
   "outputs": [],
   "source": [
    "y_pred1_neigh = neigh1.predict(X_test1)"
   ]
  },
  {
   "cell_type": "code",
   "execution_count": 14,
   "id": "2a8ea0c7-47a1-4543-b5bd-7979ca4df6fe",
   "metadata": {
    "tags": []
   },
   "outputs": [
    {
     "data": {
      "text/plain": [
       "0.40516873475678405"
      ]
     },
     "execution_count": 14,
     "metadata": {},
     "output_type": "execute_result"
    }
   ],
   "source": [
    "f1_score(y_test1, y_pred1_neigh, average='macro')"
   ]
  },
  {
   "cell_type": "markdown",
   "id": "292c4793-f6f8-46b6-9831-58d482b3ea9f",
   "metadata": {},
   "source": [
    "------"
   ]
  },
  {
   "cell_type": "code",
   "execution_count": 16,
   "id": "74fa0395-3aad-41bc-afa2-d2e36f50d8ce",
   "metadata": {
    "tags": []
   },
   "outputs": [
    {
     "ename": "TypeError",
     "evalue": "Descriptors cannot not be created directly.\nIf this call came from a _pb2.py file, your generated code is out of date and must be regenerated with protoc >= 3.19.0.\nIf you cannot immediately regenerate your protos, some other possible workarounds are:\n 1. Downgrade the protobuf package to 3.20.x or lower.\n 2. Set PROTOCOL_BUFFERS_PYTHON_IMPLEMENTATION=python (but this will use pure-Python parsing and will be much slower).\n\nMore information: https://developers.google.com/protocol-buffers/docs/news/2022-05-06#python-updates",
     "output_type": "error",
     "traceback": [
      "\u001b[1;31m---------------------------------------------------------------------------\u001b[0m",
      "\u001b[1;31mTypeError\u001b[0m                                 Traceback (most recent call last)",
      "\u001b[1;32m~\\AppData\\Local\\Temp\\ipykernel_7320\\2320544956.py\u001b[0m in \u001b[0;36m<module>\u001b[1;34m\u001b[0m\n\u001b[1;32m----> 1\u001b[1;33m \u001b[1;32mimport\u001b[0m \u001b[0mtensorflow\u001b[0m \u001b[1;32mas\u001b[0m \u001b[0mtf\u001b[0m\u001b[1;33m\u001b[0m\u001b[1;33m\u001b[0m\u001b[0m\n\u001b[0m\u001b[0;32m      2\u001b[0m \u001b[1;32mimport\u001b[0m \u001b[0mwarnings\u001b[0m\u001b[1;33m\u001b[0m\u001b[1;33m\u001b[0m\u001b[0m\n",
      "\u001b[1;32mc:\\Users\\ygorf\\anaconda3\\lib\\site-packages\\tensorflow\\__init__.py\u001b[0m in \u001b[0;36m<module>\u001b[1;34m\u001b[0m\n\u001b[0;32m     35\u001b[0m \u001b[1;32mimport\u001b[0m \u001b[0mtyping\u001b[0m \u001b[1;32mas\u001b[0m \u001b[0m_typing\u001b[0m\u001b[1;33m\u001b[0m\u001b[1;33m\u001b[0m\u001b[0m\n\u001b[0;32m     36\u001b[0m \u001b[1;33m\u001b[0m\u001b[0m\n\u001b[1;32m---> 37\u001b[1;33m \u001b[1;32mfrom\u001b[0m \u001b[0mtensorflow\u001b[0m\u001b[1;33m.\u001b[0m\u001b[0mpython\u001b[0m\u001b[1;33m.\u001b[0m\u001b[0mtools\u001b[0m \u001b[1;32mimport\u001b[0m \u001b[0mmodule_util\u001b[0m \u001b[1;32mas\u001b[0m \u001b[0m_module_util\u001b[0m\u001b[1;33m\u001b[0m\u001b[1;33m\u001b[0m\u001b[0m\n\u001b[0m\u001b[0;32m     38\u001b[0m \u001b[1;32mfrom\u001b[0m \u001b[0mtensorflow\u001b[0m\u001b[1;33m.\u001b[0m\u001b[0mpython\u001b[0m\u001b[1;33m.\u001b[0m\u001b[0mutil\u001b[0m\u001b[1;33m.\u001b[0m\u001b[0mlazy_loader\u001b[0m \u001b[1;32mimport\u001b[0m \u001b[0mLazyLoader\u001b[0m \u001b[1;32mas\u001b[0m \u001b[0m_LazyLoader\u001b[0m\u001b[1;33m\u001b[0m\u001b[1;33m\u001b[0m\u001b[0m\n\u001b[0;32m     39\u001b[0m \u001b[1;33m\u001b[0m\u001b[0m\n",
      "\u001b[1;32mc:\\Users\\ygorf\\anaconda3\\lib\\site-packages\\tensorflow\\python\\__init__.py\u001b[0m in \u001b[0;36m<module>\u001b[1;34m\u001b[0m\n\u001b[0;32m     35\u001b[0m \u001b[1;33m\u001b[0m\u001b[0m\n\u001b[0;32m     36\u001b[0m \u001b[1;32mfrom\u001b[0m \u001b[0mtensorflow\u001b[0m\u001b[1;33m.\u001b[0m\u001b[0mpython\u001b[0m \u001b[1;32mimport\u001b[0m \u001b[0mpywrap_tensorflow\u001b[0m \u001b[1;32mas\u001b[0m \u001b[0m_pywrap_tensorflow\u001b[0m\u001b[1;33m\u001b[0m\u001b[1;33m\u001b[0m\u001b[0m\n\u001b[1;32m---> 37\u001b[1;33m \u001b[1;32mfrom\u001b[0m \u001b[0mtensorflow\u001b[0m\u001b[1;33m.\u001b[0m\u001b[0mpython\u001b[0m\u001b[1;33m.\u001b[0m\u001b[0meager\u001b[0m \u001b[1;32mimport\u001b[0m \u001b[0mcontext\u001b[0m\u001b[1;33m\u001b[0m\u001b[1;33m\u001b[0m\u001b[0m\n\u001b[0m\u001b[0;32m     38\u001b[0m \u001b[1;33m\u001b[0m\u001b[0m\n\u001b[0;32m     39\u001b[0m \u001b[1;31m# pylint: enable=wildcard-import\u001b[0m\u001b[1;33m\u001b[0m\u001b[1;33m\u001b[0m\u001b[0m\n",
      "\u001b[1;32mc:\\Users\\ygorf\\anaconda3\\lib\\site-packages\\tensorflow\\python\\eager\\context.py\u001b[0m in \u001b[0;36m<module>\u001b[1;34m\u001b[0m\n\u001b[0;32m     27\u001b[0m \u001b[1;32mimport\u001b[0m \u001b[0msix\u001b[0m\u001b[1;33m\u001b[0m\u001b[1;33m\u001b[0m\u001b[0m\n\u001b[0;32m     28\u001b[0m \u001b[1;33m\u001b[0m\u001b[0m\n\u001b[1;32m---> 29\u001b[1;33m \u001b[1;32mfrom\u001b[0m \u001b[0mtensorflow\u001b[0m\u001b[1;33m.\u001b[0m\u001b[0mcore\u001b[0m\u001b[1;33m.\u001b[0m\u001b[0mframework\u001b[0m \u001b[1;32mimport\u001b[0m \u001b[0mfunction_pb2\u001b[0m\u001b[1;33m\u001b[0m\u001b[1;33m\u001b[0m\u001b[0m\n\u001b[0m\u001b[0;32m     30\u001b[0m \u001b[1;32mfrom\u001b[0m \u001b[0mtensorflow\u001b[0m\u001b[1;33m.\u001b[0m\u001b[0mcore\u001b[0m\u001b[1;33m.\u001b[0m\u001b[0mprotobuf\u001b[0m \u001b[1;32mimport\u001b[0m \u001b[0mconfig_pb2\u001b[0m\u001b[1;33m\u001b[0m\u001b[1;33m\u001b[0m\u001b[0m\n\u001b[0;32m     31\u001b[0m \u001b[1;32mfrom\u001b[0m \u001b[0mtensorflow\u001b[0m\u001b[1;33m.\u001b[0m\u001b[0mcore\u001b[0m\u001b[1;33m.\u001b[0m\u001b[0mprotobuf\u001b[0m \u001b[1;32mimport\u001b[0m \u001b[0mcoordination_config_pb2\u001b[0m\u001b[1;33m\u001b[0m\u001b[1;33m\u001b[0m\u001b[0m\n",
      "\u001b[1;32mc:\\Users\\ygorf\\anaconda3\\lib\\site-packages\\tensorflow\\core\\framework\\function_pb2.py\u001b[0m in \u001b[0;36m<module>\u001b[1;34m\u001b[0m\n\u001b[0;32m     14\u001b[0m \u001b[1;33m\u001b[0m\u001b[0m\n\u001b[0;32m     15\u001b[0m \u001b[1;33m\u001b[0m\u001b[0m\n\u001b[1;32m---> 16\u001b[1;33m \u001b[1;32mfrom\u001b[0m \u001b[0mtensorflow\u001b[0m\u001b[1;33m.\u001b[0m\u001b[0mcore\u001b[0m\u001b[1;33m.\u001b[0m\u001b[0mframework\u001b[0m \u001b[1;32mimport\u001b[0m \u001b[0mattr_value_pb2\u001b[0m \u001b[1;32mas\u001b[0m \u001b[0mtensorflow_dot_core_dot_framework_dot_attr__value__pb2\u001b[0m\u001b[1;33m\u001b[0m\u001b[1;33m\u001b[0m\u001b[0m\n\u001b[0m\u001b[0;32m     17\u001b[0m \u001b[1;32mfrom\u001b[0m \u001b[0mtensorflow\u001b[0m\u001b[1;33m.\u001b[0m\u001b[0mcore\u001b[0m\u001b[1;33m.\u001b[0m\u001b[0mframework\u001b[0m \u001b[1;32mimport\u001b[0m \u001b[0mnode_def_pb2\u001b[0m \u001b[1;32mas\u001b[0m \u001b[0mtensorflow_dot_core_dot_framework_dot_node__def__pb2\u001b[0m\u001b[1;33m\u001b[0m\u001b[1;33m\u001b[0m\u001b[0m\n\u001b[0;32m     18\u001b[0m \u001b[1;32mfrom\u001b[0m \u001b[0mtensorflow\u001b[0m\u001b[1;33m.\u001b[0m\u001b[0mcore\u001b[0m\u001b[1;33m.\u001b[0m\u001b[0mframework\u001b[0m \u001b[1;32mimport\u001b[0m \u001b[0mop_def_pb2\u001b[0m \u001b[1;32mas\u001b[0m \u001b[0mtensorflow_dot_core_dot_framework_dot_op__def__pb2\u001b[0m\u001b[1;33m\u001b[0m\u001b[1;33m\u001b[0m\u001b[0m\n",
      "\u001b[1;32mc:\\Users\\ygorf\\anaconda3\\lib\\site-packages\\tensorflow\\core\\framework\\attr_value_pb2.py\u001b[0m in \u001b[0;36m<module>\u001b[1;34m\u001b[0m\n\u001b[0;32m     14\u001b[0m \u001b[1;33m\u001b[0m\u001b[0m\n\u001b[0;32m     15\u001b[0m \u001b[1;33m\u001b[0m\u001b[0m\n\u001b[1;32m---> 16\u001b[1;33m \u001b[1;32mfrom\u001b[0m \u001b[0mtensorflow\u001b[0m\u001b[1;33m.\u001b[0m\u001b[0mcore\u001b[0m\u001b[1;33m.\u001b[0m\u001b[0mframework\u001b[0m \u001b[1;32mimport\u001b[0m \u001b[0mtensor_pb2\u001b[0m \u001b[1;32mas\u001b[0m \u001b[0mtensorflow_dot_core_dot_framework_dot_tensor__pb2\u001b[0m\u001b[1;33m\u001b[0m\u001b[1;33m\u001b[0m\u001b[0m\n\u001b[0m\u001b[0;32m     17\u001b[0m \u001b[1;32mfrom\u001b[0m \u001b[0mtensorflow\u001b[0m\u001b[1;33m.\u001b[0m\u001b[0mcore\u001b[0m\u001b[1;33m.\u001b[0m\u001b[0mframework\u001b[0m \u001b[1;32mimport\u001b[0m \u001b[0mtensor_shape_pb2\u001b[0m \u001b[1;32mas\u001b[0m \u001b[0mtensorflow_dot_core_dot_framework_dot_tensor__shape__pb2\u001b[0m\u001b[1;33m\u001b[0m\u001b[1;33m\u001b[0m\u001b[0m\n\u001b[0;32m     18\u001b[0m \u001b[1;32mfrom\u001b[0m \u001b[0mtensorflow\u001b[0m\u001b[1;33m.\u001b[0m\u001b[0mcore\u001b[0m\u001b[1;33m.\u001b[0m\u001b[0mframework\u001b[0m \u001b[1;32mimport\u001b[0m \u001b[0mtypes_pb2\u001b[0m \u001b[1;32mas\u001b[0m \u001b[0mtensorflow_dot_core_dot_framework_dot_types__pb2\u001b[0m\u001b[1;33m\u001b[0m\u001b[1;33m\u001b[0m\u001b[0m\n",
      "\u001b[1;32mc:\\Users\\ygorf\\anaconda3\\lib\\site-packages\\tensorflow\\core\\framework\\tensor_pb2.py\u001b[0m in \u001b[0;36m<module>\u001b[1;34m\u001b[0m\n\u001b[0;32m     14\u001b[0m \u001b[1;33m\u001b[0m\u001b[0m\n\u001b[0;32m     15\u001b[0m \u001b[1;33m\u001b[0m\u001b[0m\n\u001b[1;32m---> 16\u001b[1;33m \u001b[1;32mfrom\u001b[0m \u001b[0mtensorflow\u001b[0m\u001b[1;33m.\u001b[0m\u001b[0mcore\u001b[0m\u001b[1;33m.\u001b[0m\u001b[0mframework\u001b[0m \u001b[1;32mimport\u001b[0m \u001b[0mresource_handle_pb2\u001b[0m \u001b[1;32mas\u001b[0m \u001b[0mtensorflow_dot_core_dot_framework_dot_resource__handle__pb2\u001b[0m\u001b[1;33m\u001b[0m\u001b[1;33m\u001b[0m\u001b[0m\n\u001b[0m\u001b[0;32m     17\u001b[0m \u001b[1;32mfrom\u001b[0m \u001b[0mtensorflow\u001b[0m\u001b[1;33m.\u001b[0m\u001b[0mcore\u001b[0m\u001b[1;33m.\u001b[0m\u001b[0mframework\u001b[0m \u001b[1;32mimport\u001b[0m \u001b[0mtensor_shape_pb2\u001b[0m \u001b[1;32mas\u001b[0m \u001b[0mtensorflow_dot_core_dot_framework_dot_tensor__shape__pb2\u001b[0m\u001b[1;33m\u001b[0m\u001b[1;33m\u001b[0m\u001b[0m\n\u001b[0;32m     18\u001b[0m \u001b[1;32mfrom\u001b[0m \u001b[0mtensorflow\u001b[0m\u001b[1;33m.\u001b[0m\u001b[0mcore\u001b[0m\u001b[1;33m.\u001b[0m\u001b[0mframework\u001b[0m \u001b[1;32mimport\u001b[0m \u001b[0mtypes_pb2\u001b[0m \u001b[1;32mas\u001b[0m \u001b[0mtensorflow_dot_core_dot_framework_dot_types__pb2\u001b[0m\u001b[1;33m\u001b[0m\u001b[1;33m\u001b[0m\u001b[0m\n",
      "\u001b[1;32mc:\\Users\\ygorf\\anaconda3\\lib\\site-packages\\tensorflow\\core\\framework\\resource_handle_pb2.py\u001b[0m in \u001b[0;36m<module>\u001b[1;34m\u001b[0m\n\u001b[0;32m     14\u001b[0m \u001b[1;33m\u001b[0m\u001b[0m\n\u001b[0;32m     15\u001b[0m \u001b[1;33m\u001b[0m\u001b[0m\n\u001b[1;32m---> 16\u001b[1;33m \u001b[1;32mfrom\u001b[0m \u001b[0mtensorflow\u001b[0m\u001b[1;33m.\u001b[0m\u001b[0mcore\u001b[0m\u001b[1;33m.\u001b[0m\u001b[0mframework\u001b[0m \u001b[1;32mimport\u001b[0m \u001b[0mtensor_shape_pb2\u001b[0m \u001b[1;32mas\u001b[0m \u001b[0mtensorflow_dot_core_dot_framework_dot_tensor__shape__pb2\u001b[0m\u001b[1;33m\u001b[0m\u001b[1;33m\u001b[0m\u001b[0m\n\u001b[0m\u001b[0;32m     17\u001b[0m \u001b[1;32mfrom\u001b[0m \u001b[0mtensorflow\u001b[0m\u001b[1;33m.\u001b[0m\u001b[0mcore\u001b[0m\u001b[1;33m.\u001b[0m\u001b[0mframework\u001b[0m \u001b[1;32mimport\u001b[0m \u001b[0mtypes_pb2\u001b[0m \u001b[1;32mas\u001b[0m \u001b[0mtensorflow_dot_core_dot_framework_dot_types__pb2\u001b[0m\u001b[1;33m\u001b[0m\u001b[1;33m\u001b[0m\u001b[0m\n\u001b[0;32m     18\u001b[0m \u001b[1;33m\u001b[0m\u001b[0m\n",
      "\u001b[1;32mc:\\Users\\ygorf\\anaconda3\\lib\\site-packages\\tensorflow\\core\\framework\\tensor_shape_pb2.py\u001b[0m in \u001b[0;36m<module>\u001b[1;34m\u001b[0m\n\u001b[0;32m     34\u001b[0m   \u001b[0mcontaining_type\u001b[0m\u001b[1;33m=\u001b[0m\u001b[1;32mNone\u001b[0m\u001b[1;33m,\u001b[0m\u001b[1;33m\u001b[0m\u001b[1;33m\u001b[0m\u001b[0m\n\u001b[0;32m     35\u001b[0m   fields=[\n\u001b[1;32m---> 36\u001b[1;33m     _descriptor.FieldDescriptor(\n\u001b[0m\u001b[0;32m     37\u001b[0m       \u001b[0mname\u001b[0m\u001b[1;33m=\u001b[0m\u001b[1;34m'size'\u001b[0m\u001b[1;33m,\u001b[0m \u001b[0mfull_name\u001b[0m\u001b[1;33m=\u001b[0m\u001b[1;34m'tensorflow.TensorShapeProto.Dim.size'\u001b[0m\u001b[1;33m,\u001b[0m \u001b[0mindex\u001b[0m\u001b[1;33m=\u001b[0m\u001b[1;36m0\u001b[0m\u001b[1;33m,\u001b[0m\u001b[1;33m\u001b[0m\u001b[1;33m\u001b[0m\u001b[0m\n\u001b[0;32m     38\u001b[0m       \u001b[0mnumber\u001b[0m\u001b[1;33m=\u001b[0m\u001b[1;36m1\u001b[0m\u001b[1;33m,\u001b[0m \u001b[0mtype\u001b[0m\u001b[1;33m=\u001b[0m\u001b[1;36m3\u001b[0m\u001b[1;33m,\u001b[0m \u001b[0mcpp_type\u001b[0m\u001b[1;33m=\u001b[0m\u001b[1;36m2\u001b[0m\u001b[1;33m,\u001b[0m \u001b[0mlabel\u001b[0m\u001b[1;33m=\u001b[0m\u001b[1;36m1\u001b[0m\u001b[1;33m,\u001b[0m\u001b[1;33m\u001b[0m\u001b[1;33m\u001b[0m\u001b[0m\n",
      "\u001b[1;32mc:\\Users\\ygorf\\anaconda3\\lib\\site-packages\\google\\protobuf\\descriptor.py\u001b[0m in \u001b[0;36m__new__\u001b[1;34m(cls, name, full_name, index, number, type, cpp_type, label, default_value, message_type, enum_type, containing_type, is_extension, extension_scope, options, serialized_options, has_default_value, containing_oneof, json_name, file, create_key)\u001b[0m\n\u001b[0;32m    559\u001b[0m                 \u001b[0mhas_default_value\u001b[0m\u001b[1;33m=\u001b[0m\u001b[1;32mTrue\u001b[0m\u001b[1;33m,\u001b[0m \u001b[0mcontaining_oneof\u001b[0m\u001b[1;33m=\u001b[0m\u001b[1;32mNone\u001b[0m\u001b[1;33m,\u001b[0m \u001b[0mjson_name\u001b[0m\u001b[1;33m=\u001b[0m\u001b[1;32mNone\u001b[0m\u001b[1;33m,\u001b[0m\u001b[1;33m\u001b[0m\u001b[1;33m\u001b[0m\u001b[0m\n\u001b[0;32m    560\u001b[0m                 file=None, create_key=None):  # pylint: disable=redefined-builtin\n\u001b[1;32m--> 561\u001b[1;33m       \u001b[0m_message\u001b[0m\u001b[1;33m.\u001b[0m\u001b[0mMessage\u001b[0m\u001b[1;33m.\u001b[0m\u001b[0m_CheckCalledFromGeneratedFile\u001b[0m\u001b[1;33m(\u001b[0m\u001b[1;33m)\u001b[0m\u001b[1;33m\u001b[0m\u001b[1;33m\u001b[0m\u001b[0m\n\u001b[0m\u001b[0;32m    562\u001b[0m       \u001b[1;32mif\u001b[0m \u001b[0mis_extension\u001b[0m\u001b[1;33m:\u001b[0m\u001b[1;33m\u001b[0m\u001b[1;33m\u001b[0m\u001b[0m\n\u001b[0;32m    563\u001b[0m         \u001b[1;32mreturn\u001b[0m \u001b[0m_message\u001b[0m\u001b[1;33m.\u001b[0m\u001b[0mdefault_pool\u001b[0m\u001b[1;33m.\u001b[0m\u001b[0mFindExtensionByName\u001b[0m\u001b[1;33m(\u001b[0m\u001b[0mfull_name\u001b[0m\u001b[1;33m)\u001b[0m\u001b[1;33m\u001b[0m\u001b[1;33m\u001b[0m\u001b[0m\n",
      "\u001b[1;31mTypeError\u001b[0m: Descriptors cannot not be created directly.\nIf this call came from a _pb2.py file, your generated code is out of date and must be regenerated with protoc >= 3.19.0.\nIf you cannot immediately regenerate your protos, some other possible workarounds are:\n 1. Downgrade the protobuf package to 3.20.x or lower.\n 2. Set PROTOCOL_BUFFERS_PYTHON_IMPLEMENTATION=python (but this will use pure-Python parsing and will be much slower).\n\nMore information: https://developers.google.com/protocol-buffers/docs/news/2022-05-06#python-updates"
     ]
    }
   ],
   "source": [
    "import tensorflow as tf\n",
    "import warnings"
   ]
  },
  {
   "cell_type": "code",
   "execution_count": 17,
   "id": "f94576cf-41b9-4892-8ec0-727c18cd4e9f",
   "metadata": {
    "tags": []
   },
   "outputs": [],
   "source": [
    "X_train1 = np.asarray(X_train1).astype(np.float32)\n",
    "X_test1 = np.asarray(X_test1).astype(np.float32)\n",
    "y_train1 = np.asarray(y_train1).astype(np.float32) \n",
    "y_test1 = np.asarray(y_test1).astype(np.float32) "
   ]
  },
  {
   "cell_type": "code",
   "execution_count": 19,
   "id": "8e8de2a2-2d0e-4ad1-a132-c8b3d808c6f9",
   "metadata": {
    "tags": []
   },
   "outputs": [
    {
     "ename": "TypeError",
     "evalue": "Descriptors cannot not be created directly.\nIf this call came from a _pb2.py file, your generated code is out of date and must be regenerated with protoc >= 3.19.0.\nIf you cannot immediately regenerate your protos, some other possible workarounds are:\n 1. Downgrade the protobuf package to 3.20.x or lower.\n 2. Set PROTOCOL_BUFFERS_PYTHON_IMPLEMENTATION=python (but this will use pure-Python parsing and will be much slower).\n\nMore information: https://developers.google.com/protocol-buffers/docs/news/2022-05-06#python-updates",
     "output_type": "error",
     "traceback": [
      "\u001b[1;31m---------------------------------------------------------------------------\u001b[0m",
      "\u001b[1;31mTypeError\u001b[0m                                 Traceback (most recent call last)",
      "\u001b[1;32m~\\AppData\\Local\\Temp\\ipykernel_7320\\3297544785.py\u001b[0m in \u001b[0;36m<module>\u001b[1;34m\u001b[0m\n\u001b[1;32m----> 1\u001b[1;33m \u001b[1;32mimport\u001b[0m \u001b[0mtensorflow\u001b[0m \u001b[1;32mas\u001b[0m \u001b[0mtf\u001b[0m\u001b[1;33m\u001b[0m\u001b[1;33m\u001b[0m\u001b[0m\n\u001b[0m\u001b[0;32m      2\u001b[0m \u001b[1;32mfrom\u001b[0m \u001b[0mtensorflow\u001b[0m \u001b[1;32mimport\u001b[0m \u001b[0mkeras\u001b[0m\u001b[1;33m\u001b[0m\u001b[1;33m\u001b[0m\u001b[0m\n\u001b[0;32m      3\u001b[0m \u001b[1;33m\u001b[0m\u001b[0m\n\u001b[0;32m      4\u001b[0m \u001b[1;31m# Define the model architecture\u001b[0m\u001b[1;33m\u001b[0m\u001b[1;33m\u001b[0m\u001b[0m\n\u001b[0;32m      5\u001b[0m model1 = keras.Sequential([\n",
      "\u001b[1;32mc:\\Users\\ygorf\\anaconda3\\lib\\site-packages\\tensorflow\\__init__.py\u001b[0m in \u001b[0;36m<module>\u001b[1;34m\u001b[0m\n\u001b[0;32m     35\u001b[0m \u001b[1;32mimport\u001b[0m \u001b[0mtyping\u001b[0m \u001b[1;32mas\u001b[0m \u001b[0m_typing\u001b[0m\u001b[1;33m\u001b[0m\u001b[1;33m\u001b[0m\u001b[0m\n\u001b[0;32m     36\u001b[0m \u001b[1;33m\u001b[0m\u001b[0m\n\u001b[1;32m---> 37\u001b[1;33m \u001b[1;32mfrom\u001b[0m \u001b[0mtensorflow\u001b[0m\u001b[1;33m.\u001b[0m\u001b[0mpython\u001b[0m\u001b[1;33m.\u001b[0m\u001b[0mtools\u001b[0m \u001b[1;32mimport\u001b[0m \u001b[0mmodule_util\u001b[0m \u001b[1;32mas\u001b[0m \u001b[0m_module_util\u001b[0m\u001b[1;33m\u001b[0m\u001b[1;33m\u001b[0m\u001b[0m\n\u001b[0m\u001b[0;32m     38\u001b[0m \u001b[1;32mfrom\u001b[0m \u001b[0mtensorflow\u001b[0m\u001b[1;33m.\u001b[0m\u001b[0mpython\u001b[0m\u001b[1;33m.\u001b[0m\u001b[0mutil\u001b[0m\u001b[1;33m.\u001b[0m\u001b[0mlazy_loader\u001b[0m \u001b[1;32mimport\u001b[0m \u001b[0mLazyLoader\u001b[0m \u001b[1;32mas\u001b[0m \u001b[0m_LazyLoader\u001b[0m\u001b[1;33m\u001b[0m\u001b[1;33m\u001b[0m\u001b[0m\n\u001b[0;32m     39\u001b[0m \u001b[1;33m\u001b[0m\u001b[0m\n",
      "\u001b[1;32mc:\\Users\\ygorf\\anaconda3\\lib\\site-packages\\tensorflow\\python\\__init__.py\u001b[0m in \u001b[0;36m<module>\u001b[1;34m\u001b[0m\n\u001b[0;32m     35\u001b[0m \u001b[1;33m\u001b[0m\u001b[0m\n\u001b[0;32m     36\u001b[0m \u001b[1;32mfrom\u001b[0m \u001b[0mtensorflow\u001b[0m\u001b[1;33m.\u001b[0m\u001b[0mpython\u001b[0m \u001b[1;32mimport\u001b[0m \u001b[0mpywrap_tensorflow\u001b[0m \u001b[1;32mas\u001b[0m \u001b[0m_pywrap_tensorflow\u001b[0m\u001b[1;33m\u001b[0m\u001b[1;33m\u001b[0m\u001b[0m\n\u001b[1;32m---> 37\u001b[1;33m \u001b[1;32mfrom\u001b[0m \u001b[0mtensorflow\u001b[0m\u001b[1;33m.\u001b[0m\u001b[0mpython\u001b[0m\u001b[1;33m.\u001b[0m\u001b[0meager\u001b[0m \u001b[1;32mimport\u001b[0m \u001b[0mcontext\u001b[0m\u001b[1;33m\u001b[0m\u001b[1;33m\u001b[0m\u001b[0m\n\u001b[0m\u001b[0;32m     38\u001b[0m \u001b[1;33m\u001b[0m\u001b[0m\n\u001b[0;32m     39\u001b[0m \u001b[1;31m# pylint: enable=wildcard-import\u001b[0m\u001b[1;33m\u001b[0m\u001b[1;33m\u001b[0m\u001b[0m\n",
      "\u001b[1;32mc:\\Users\\ygorf\\anaconda3\\lib\\site-packages\\tensorflow\\python\\eager\\context.py\u001b[0m in \u001b[0;36m<module>\u001b[1;34m\u001b[0m\n\u001b[0;32m     27\u001b[0m \u001b[1;32mimport\u001b[0m \u001b[0msix\u001b[0m\u001b[1;33m\u001b[0m\u001b[1;33m\u001b[0m\u001b[0m\n\u001b[0;32m     28\u001b[0m \u001b[1;33m\u001b[0m\u001b[0m\n\u001b[1;32m---> 29\u001b[1;33m \u001b[1;32mfrom\u001b[0m \u001b[0mtensorflow\u001b[0m\u001b[1;33m.\u001b[0m\u001b[0mcore\u001b[0m\u001b[1;33m.\u001b[0m\u001b[0mframework\u001b[0m \u001b[1;32mimport\u001b[0m \u001b[0mfunction_pb2\u001b[0m\u001b[1;33m\u001b[0m\u001b[1;33m\u001b[0m\u001b[0m\n\u001b[0m\u001b[0;32m     30\u001b[0m \u001b[1;32mfrom\u001b[0m \u001b[0mtensorflow\u001b[0m\u001b[1;33m.\u001b[0m\u001b[0mcore\u001b[0m\u001b[1;33m.\u001b[0m\u001b[0mprotobuf\u001b[0m \u001b[1;32mimport\u001b[0m \u001b[0mconfig_pb2\u001b[0m\u001b[1;33m\u001b[0m\u001b[1;33m\u001b[0m\u001b[0m\n\u001b[0;32m     31\u001b[0m \u001b[1;32mfrom\u001b[0m \u001b[0mtensorflow\u001b[0m\u001b[1;33m.\u001b[0m\u001b[0mcore\u001b[0m\u001b[1;33m.\u001b[0m\u001b[0mprotobuf\u001b[0m \u001b[1;32mimport\u001b[0m \u001b[0mcoordination_config_pb2\u001b[0m\u001b[1;33m\u001b[0m\u001b[1;33m\u001b[0m\u001b[0m\n",
      "\u001b[1;32mc:\\Users\\ygorf\\anaconda3\\lib\\site-packages\\tensorflow\\core\\framework\\function_pb2.py\u001b[0m in \u001b[0;36m<module>\u001b[1;34m\u001b[0m\n\u001b[0;32m     14\u001b[0m \u001b[1;33m\u001b[0m\u001b[0m\n\u001b[0;32m     15\u001b[0m \u001b[1;33m\u001b[0m\u001b[0m\n\u001b[1;32m---> 16\u001b[1;33m \u001b[1;32mfrom\u001b[0m \u001b[0mtensorflow\u001b[0m\u001b[1;33m.\u001b[0m\u001b[0mcore\u001b[0m\u001b[1;33m.\u001b[0m\u001b[0mframework\u001b[0m \u001b[1;32mimport\u001b[0m \u001b[0mattr_value_pb2\u001b[0m \u001b[1;32mas\u001b[0m \u001b[0mtensorflow_dot_core_dot_framework_dot_attr__value__pb2\u001b[0m\u001b[1;33m\u001b[0m\u001b[1;33m\u001b[0m\u001b[0m\n\u001b[0m\u001b[0;32m     17\u001b[0m \u001b[1;32mfrom\u001b[0m \u001b[0mtensorflow\u001b[0m\u001b[1;33m.\u001b[0m\u001b[0mcore\u001b[0m\u001b[1;33m.\u001b[0m\u001b[0mframework\u001b[0m \u001b[1;32mimport\u001b[0m \u001b[0mnode_def_pb2\u001b[0m \u001b[1;32mas\u001b[0m \u001b[0mtensorflow_dot_core_dot_framework_dot_node__def__pb2\u001b[0m\u001b[1;33m\u001b[0m\u001b[1;33m\u001b[0m\u001b[0m\n\u001b[0;32m     18\u001b[0m \u001b[1;32mfrom\u001b[0m \u001b[0mtensorflow\u001b[0m\u001b[1;33m.\u001b[0m\u001b[0mcore\u001b[0m\u001b[1;33m.\u001b[0m\u001b[0mframework\u001b[0m \u001b[1;32mimport\u001b[0m \u001b[0mop_def_pb2\u001b[0m \u001b[1;32mas\u001b[0m \u001b[0mtensorflow_dot_core_dot_framework_dot_op__def__pb2\u001b[0m\u001b[1;33m\u001b[0m\u001b[1;33m\u001b[0m\u001b[0m\n",
      "\u001b[1;32mc:\\Users\\ygorf\\anaconda3\\lib\\site-packages\\tensorflow\\core\\framework\\attr_value_pb2.py\u001b[0m in \u001b[0;36m<module>\u001b[1;34m\u001b[0m\n\u001b[0;32m     14\u001b[0m \u001b[1;33m\u001b[0m\u001b[0m\n\u001b[0;32m     15\u001b[0m \u001b[1;33m\u001b[0m\u001b[0m\n\u001b[1;32m---> 16\u001b[1;33m \u001b[1;32mfrom\u001b[0m \u001b[0mtensorflow\u001b[0m\u001b[1;33m.\u001b[0m\u001b[0mcore\u001b[0m\u001b[1;33m.\u001b[0m\u001b[0mframework\u001b[0m \u001b[1;32mimport\u001b[0m \u001b[0mtensor_pb2\u001b[0m \u001b[1;32mas\u001b[0m \u001b[0mtensorflow_dot_core_dot_framework_dot_tensor__pb2\u001b[0m\u001b[1;33m\u001b[0m\u001b[1;33m\u001b[0m\u001b[0m\n\u001b[0m\u001b[0;32m     17\u001b[0m \u001b[1;32mfrom\u001b[0m \u001b[0mtensorflow\u001b[0m\u001b[1;33m.\u001b[0m\u001b[0mcore\u001b[0m\u001b[1;33m.\u001b[0m\u001b[0mframework\u001b[0m \u001b[1;32mimport\u001b[0m \u001b[0mtensor_shape_pb2\u001b[0m \u001b[1;32mas\u001b[0m \u001b[0mtensorflow_dot_core_dot_framework_dot_tensor__shape__pb2\u001b[0m\u001b[1;33m\u001b[0m\u001b[1;33m\u001b[0m\u001b[0m\n\u001b[0;32m     18\u001b[0m \u001b[1;32mfrom\u001b[0m \u001b[0mtensorflow\u001b[0m\u001b[1;33m.\u001b[0m\u001b[0mcore\u001b[0m\u001b[1;33m.\u001b[0m\u001b[0mframework\u001b[0m \u001b[1;32mimport\u001b[0m \u001b[0mtypes_pb2\u001b[0m \u001b[1;32mas\u001b[0m \u001b[0mtensorflow_dot_core_dot_framework_dot_types__pb2\u001b[0m\u001b[1;33m\u001b[0m\u001b[1;33m\u001b[0m\u001b[0m\n",
      "\u001b[1;32mc:\\Users\\ygorf\\anaconda3\\lib\\site-packages\\tensorflow\\core\\framework\\tensor_pb2.py\u001b[0m in \u001b[0;36m<module>\u001b[1;34m\u001b[0m\n\u001b[0;32m     14\u001b[0m \u001b[1;33m\u001b[0m\u001b[0m\n\u001b[0;32m     15\u001b[0m \u001b[1;33m\u001b[0m\u001b[0m\n\u001b[1;32m---> 16\u001b[1;33m \u001b[1;32mfrom\u001b[0m \u001b[0mtensorflow\u001b[0m\u001b[1;33m.\u001b[0m\u001b[0mcore\u001b[0m\u001b[1;33m.\u001b[0m\u001b[0mframework\u001b[0m \u001b[1;32mimport\u001b[0m \u001b[0mresource_handle_pb2\u001b[0m \u001b[1;32mas\u001b[0m \u001b[0mtensorflow_dot_core_dot_framework_dot_resource__handle__pb2\u001b[0m\u001b[1;33m\u001b[0m\u001b[1;33m\u001b[0m\u001b[0m\n\u001b[0m\u001b[0;32m     17\u001b[0m \u001b[1;32mfrom\u001b[0m \u001b[0mtensorflow\u001b[0m\u001b[1;33m.\u001b[0m\u001b[0mcore\u001b[0m\u001b[1;33m.\u001b[0m\u001b[0mframework\u001b[0m \u001b[1;32mimport\u001b[0m \u001b[0mtensor_shape_pb2\u001b[0m \u001b[1;32mas\u001b[0m \u001b[0mtensorflow_dot_core_dot_framework_dot_tensor__shape__pb2\u001b[0m\u001b[1;33m\u001b[0m\u001b[1;33m\u001b[0m\u001b[0m\n\u001b[0;32m     18\u001b[0m \u001b[1;32mfrom\u001b[0m \u001b[0mtensorflow\u001b[0m\u001b[1;33m.\u001b[0m\u001b[0mcore\u001b[0m\u001b[1;33m.\u001b[0m\u001b[0mframework\u001b[0m \u001b[1;32mimport\u001b[0m \u001b[0mtypes_pb2\u001b[0m \u001b[1;32mas\u001b[0m \u001b[0mtensorflow_dot_core_dot_framework_dot_types__pb2\u001b[0m\u001b[1;33m\u001b[0m\u001b[1;33m\u001b[0m\u001b[0m\n",
      "\u001b[1;32mc:\\Users\\ygorf\\anaconda3\\lib\\site-packages\\tensorflow\\core\\framework\\resource_handle_pb2.py\u001b[0m in \u001b[0;36m<module>\u001b[1;34m\u001b[0m\n\u001b[0;32m     14\u001b[0m \u001b[1;33m\u001b[0m\u001b[0m\n\u001b[0;32m     15\u001b[0m \u001b[1;33m\u001b[0m\u001b[0m\n\u001b[1;32m---> 16\u001b[1;33m \u001b[1;32mfrom\u001b[0m \u001b[0mtensorflow\u001b[0m\u001b[1;33m.\u001b[0m\u001b[0mcore\u001b[0m\u001b[1;33m.\u001b[0m\u001b[0mframework\u001b[0m \u001b[1;32mimport\u001b[0m \u001b[0mtensor_shape_pb2\u001b[0m \u001b[1;32mas\u001b[0m \u001b[0mtensorflow_dot_core_dot_framework_dot_tensor__shape__pb2\u001b[0m\u001b[1;33m\u001b[0m\u001b[1;33m\u001b[0m\u001b[0m\n\u001b[0m\u001b[0;32m     17\u001b[0m \u001b[1;32mfrom\u001b[0m \u001b[0mtensorflow\u001b[0m\u001b[1;33m.\u001b[0m\u001b[0mcore\u001b[0m\u001b[1;33m.\u001b[0m\u001b[0mframework\u001b[0m \u001b[1;32mimport\u001b[0m \u001b[0mtypes_pb2\u001b[0m \u001b[1;32mas\u001b[0m \u001b[0mtensorflow_dot_core_dot_framework_dot_types__pb2\u001b[0m\u001b[1;33m\u001b[0m\u001b[1;33m\u001b[0m\u001b[0m\n\u001b[0;32m     18\u001b[0m \u001b[1;33m\u001b[0m\u001b[0m\n",
      "\u001b[1;32mc:\\Users\\ygorf\\anaconda3\\lib\\site-packages\\tensorflow\\core\\framework\\tensor_shape_pb2.py\u001b[0m in \u001b[0;36m<module>\u001b[1;34m\u001b[0m\n\u001b[0;32m     34\u001b[0m   \u001b[0mcontaining_type\u001b[0m\u001b[1;33m=\u001b[0m\u001b[1;32mNone\u001b[0m\u001b[1;33m,\u001b[0m\u001b[1;33m\u001b[0m\u001b[1;33m\u001b[0m\u001b[0m\n\u001b[0;32m     35\u001b[0m   fields=[\n\u001b[1;32m---> 36\u001b[1;33m     _descriptor.FieldDescriptor(\n\u001b[0m\u001b[0;32m     37\u001b[0m       \u001b[0mname\u001b[0m\u001b[1;33m=\u001b[0m\u001b[1;34m'size'\u001b[0m\u001b[1;33m,\u001b[0m \u001b[0mfull_name\u001b[0m\u001b[1;33m=\u001b[0m\u001b[1;34m'tensorflow.TensorShapeProto.Dim.size'\u001b[0m\u001b[1;33m,\u001b[0m \u001b[0mindex\u001b[0m\u001b[1;33m=\u001b[0m\u001b[1;36m0\u001b[0m\u001b[1;33m,\u001b[0m\u001b[1;33m\u001b[0m\u001b[1;33m\u001b[0m\u001b[0m\n\u001b[0;32m     38\u001b[0m       \u001b[0mnumber\u001b[0m\u001b[1;33m=\u001b[0m\u001b[1;36m1\u001b[0m\u001b[1;33m,\u001b[0m \u001b[0mtype\u001b[0m\u001b[1;33m=\u001b[0m\u001b[1;36m3\u001b[0m\u001b[1;33m,\u001b[0m \u001b[0mcpp_type\u001b[0m\u001b[1;33m=\u001b[0m\u001b[1;36m2\u001b[0m\u001b[1;33m,\u001b[0m \u001b[0mlabel\u001b[0m\u001b[1;33m=\u001b[0m\u001b[1;36m1\u001b[0m\u001b[1;33m,\u001b[0m\u001b[1;33m\u001b[0m\u001b[1;33m\u001b[0m\u001b[0m\n",
      "\u001b[1;32mc:\\Users\\ygorf\\anaconda3\\lib\\site-packages\\google\\protobuf\\descriptor.py\u001b[0m in \u001b[0;36m__new__\u001b[1;34m(cls, name, full_name, index, number, type, cpp_type, label, default_value, message_type, enum_type, containing_type, is_extension, extension_scope, options, serialized_options, has_default_value, containing_oneof, json_name, file, create_key)\u001b[0m\n\u001b[0;32m    559\u001b[0m                 \u001b[0mhas_default_value\u001b[0m\u001b[1;33m=\u001b[0m\u001b[1;32mTrue\u001b[0m\u001b[1;33m,\u001b[0m \u001b[0mcontaining_oneof\u001b[0m\u001b[1;33m=\u001b[0m\u001b[1;32mNone\u001b[0m\u001b[1;33m,\u001b[0m \u001b[0mjson_name\u001b[0m\u001b[1;33m=\u001b[0m\u001b[1;32mNone\u001b[0m\u001b[1;33m,\u001b[0m\u001b[1;33m\u001b[0m\u001b[1;33m\u001b[0m\u001b[0m\n\u001b[0;32m    560\u001b[0m                 file=None, create_key=None):  # pylint: disable=redefined-builtin\n\u001b[1;32m--> 561\u001b[1;33m       \u001b[0m_message\u001b[0m\u001b[1;33m.\u001b[0m\u001b[0mMessage\u001b[0m\u001b[1;33m.\u001b[0m\u001b[0m_CheckCalledFromGeneratedFile\u001b[0m\u001b[1;33m(\u001b[0m\u001b[1;33m)\u001b[0m\u001b[1;33m\u001b[0m\u001b[1;33m\u001b[0m\u001b[0m\n\u001b[0m\u001b[0;32m    562\u001b[0m       \u001b[1;32mif\u001b[0m \u001b[0mis_extension\u001b[0m\u001b[1;33m:\u001b[0m\u001b[1;33m\u001b[0m\u001b[1;33m\u001b[0m\u001b[0m\n\u001b[0;32m    563\u001b[0m         \u001b[1;32mreturn\u001b[0m \u001b[0m_message\u001b[0m\u001b[1;33m.\u001b[0m\u001b[0mdefault_pool\u001b[0m\u001b[1;33m.\u001b[0m\u001b[0mFindExtensionByName\u001b[0m\u001b[1;33m(\u001b[0m\u001b[0mfull_name\u001b[0m\u001b[1;33m)\u001b[0m\u001b[1;33m\u001b[0m\u001b[1;33m\u001b[0m\u001b[0m\n",
      "\u001b[1;31mTypeError\u001b[0m: Descriptors cannot not be created directly.\nIf this call came from a _pb2.py file, your generated code is out of date and must be regenerated with protoc >= 3.19.0.\nIf you cannot immediately regenerate your protos, some other possible workarounds are:\n 1. Downgrade the protobuf package to 3.20.x or lower.\n 2. Set PROTOCOL_BUFFERS_PYTHON_IMPLEMENTATION=python (but this will use pure-Python parsing and will be much slower).\n\nMore information: https://developers.google.com/protocol-buffers/docs/news/2022-05-06#python-updates"
     ]
    }
   ],
   "source": [
    "import tensorflow as tf\n",
    "from tensorflow import keras\n",
    "\n",
    "# Define the model architecture\n",
    "model1 = keras.Sequential([\n",
    "    keras.layers.Dense(64, activation='relu', input_shape=(6,)),\n",
    "    keras.layers.Dense(64, activation='relu'),\n",
    "    keras.layers.Dense(64, activation='tanh'),\n",
    "    keras.layers.Dense(64, activation='tanh'),\n",
    "    keras.layers.Dense(64, activation='relu'),\n",
    "    keras.layers.Dense(64, activation='relu'),\n",
    "    keras.layers.Dense(64, activation='sigmoid'),\n",
    "    keras.layers.Dense(64, activation='tanh'),\n",
    "    keras.layers.Dense(64, activation='relu'),\n",
    "    keras.layers.Dense(1, activation='linear'),\n",
    "])\n",
    "\n",
    "# Compile the model\n",
    "\n",
    "optimizer = tf.keras.optimizers.Adam(learning_rate=0.0005)\n",
    "\n",
    "model1.compile(optimizer=optimizer,\n",
    "              loss='mean_squared_error',\n",
    "              metrics=['accuracy'])\n",
    "\n",
    "# Train the model on the training data\n",
    "model1.fit(X_train1, y_train1, epochs=100, batch_size=32,\n",
    "          validation_data=(X_test1, y_test1))\n",
    "\n",
    "# Evaluate the model on the test data\n",
    "test_loss, test_acc = model1.evaluate(X_test1, y_test1, verbose=2)\n",
    "print('Test accuracy:', test_acc)\n"
   ]
  },
  {
   "cell_type": "code",
   "execution_count": null,
   "id": "6df1c401-0bc7-4237-a759-b8d4105cd87e",
   "metadata": {
    "tags": []
   },
   "outputs": [
    {
     "name": "stdout",
     "output_type": "stream",
     "text": [
      "2800/2800 [==============================] - 4s 1ms/step\n"
     ]
    }
   ],
   "source": [
    "y_pred1_tf = np.round(model1.predict(X_test1)).reshape(1,-1)[0]"
   ]
  },
  {
   "cell_type": "code",
   "execution_count": null,
   "id": "120ccc59-24c0-4dd1-8cda-94b00c57c6fa",
   "metadata": {
    "tags": []
   },
   "outputs": [
    {
     "data": {
      "text/plain": [
       "0.5253554711218719"
      ]
     },
     "execution_count": 22,
     "metadata": {},
     "output_type": "execute_result"
    }
   ],
   "source": [
    "f1_score(y_pred1_tf, y_test1, average='macro')"
   ]
  },
  {
   "cell_type": "markdown",
   "id": "3b252930-a3e7-4acb-9a30-f1b236329638",
   "metadata": {},
   "source": [
    "## **Testando o Modelo**"
   ]
  },
  {
   "cell_type": "code",
   "execution_count": null,
   "id": "af577449-ac7b-476c-a2c0-f28d70f2e51f",
   "metadata": {
    "tags": []
   },
   "outputs": [],
   "source": [
    "df_test = pd.read_csv('../data/test.csv')\n",
    "df_test1 = df_test[df_test['NU_IDADE_N'] <=40]\n",
    "df_test2 = df_test[ (df_test['NU_IDADE_N'] >40) & (df_test['NU_IDADE_N']<=60) ]\n",
    "df_test3 = df_test[df_test['NU_IDADE_N'] >60]"
   ]
  },
  {
   "cell_type": "code",
   "execution_count": null,
   "id": "17463db8-e3f6-419c-b5b1-721deda355d4",
   "metadata": {
    "tags": []
   },
   "outputs": [],
   "source": [
    "# Características GERAIS\n",
    "idade1 = df_test1['NU_IDADE_N'].to_numpy()\n",
    "uf1 = df_test1['SG_UF'].to_numpy()\n",
    "sexo1 = df_test1['CS_SEXO'].to_numpy()\n",
    "gestante1 = df_test1['CS_GESTANT'].to_numpy()\n",
    "raca1 = df_test1['CS_RACA'] \n",
    "escolaridade1 = df_test1['CS_ESCOL_N'].copy() # campo essencial (não obrigatório)\n",
    "escolaridade1[np.isnan(escolaridade1)] = 9\n",
    "escolaridade1 = escolaridade1.to_numpy()\n",
    "zona1 = df_test1['CS_ZONA'].copy()\n",
    "zona1[np.isnan(zona1)] = 9\n",
    "zona1 = zona1.to_numpy()\n",
    "gestante1 = df_test1['CS_GESTANT'].to_numpy()\n",
    "\n",
    "caracteristicas_gerais1 = [idade1,uf1,sexo1,gestante1,raca1,escolaridade1,zona1]\n",
    "caracteristicas_gerais_desc1 = [\"idade\",\"uf\",\"sexo\",\"gestante\",\"raca\",\"escolaridade\",\"zona\"]\n",
    "\n",
    "# Relativos a SINTOMAS, eles são campos **ESSENCIAIS**\n",
    "febre1 = df_test1['FEBRE'].copy()\n",
    "febre1[np.isnan(febre1)] = 9\n",
    "febre1 = febre1.to_numpy()\n",
    "\n",
    "tosse1 = df_test1['TOSSE'].copy()\n",
    "tosse1[np.isnan(tosse1)] = 9\n",
    "tosse1 = tosse1.to_numpy()\n",
    "\n",
    "garganta1 = df_test1['GARGANTA'].copy()\n",
    "garganta1[np.isnan(garganta1)] = 9\n",
    "garganta1 = garganta1.to_numpy()\n",
    "\n",
    "dispneia1 = df_test1['DISPNEIA'].copy()\n",
    "dispneia1[np.isnan(dispneia1)] = 9\n",
    "dispneia1 = dispneia1.to_numpy()\n",
    "\n",
    "desc_resp1 = df_test1['DESC_RESP'].copy()\n",
    "desc_resp1[np.isnan(desc_resp1)] = 9\n",
    "desc_resp1 = desc_resp1.to_numpy()\n",
    "\n",
    "saturacao1 = df_test1['SATURACAO'].copy()\n",
    "saturacao1[np.isnan(saturacao1)] = 9\n",
    "saturacao1 = saturacao1.to_numpy()\n",
    "\n",
    "diarreia1 = df_test1['DIARREIA'].copy()\n",
    "diarreia1[np.isnan(diarreia1)] = 9\n",
    "diarreia1 = diarreia1.to_numpy()\n",
    "\n",
    "vomito1 = df_test1['VOMITO'].copy()\n",
    "vomito1[np.isnan(vomito1)] = 9\n",
    "vomito1 = vomito1.to_numpy()\n",
    "\n",
    "dor_abd1 = df_test1['DOR_ABD'].copy()\n",
    "dor_abd1[np.isnan(dor_abd1)] = 9\n",
    "dor_abd1 = dor_abd1.to_numpy()\n",
    "\n",
    "fadiga1 = df_test1['FADIGA'].copy()\n",
    "fadiga1[np.isnan(fadiga1)] = 9\n",
    "fadiga1 = fadiga1.to_numpy()\n",
    "\n",
    "perda_olfato1 = df_test1['PERD_OLFT'].copy()\n",
    "perda_olfato1[np.isnan(perda_olfato1)] = 9\n",
    "perda_olfato1 = perda_olfato1.to_numpy()\n",
    "\n",
    "perda_paladar1 = df_test1['PERD_PALA'].copy()\n",
    "perda_paladar1[np.isnan(perda_paladar1)] = 9\n",
    "perda_paladar1 = perda_paladar1.to_numpy()\n",
    "\n",
    "outros_sintomas1 = df_test1['OUTRO_SIN'].copy()\n",
    "outros_sintomas1[np.isnan(outros_sintomas1)] = 9\n",
    "outros_sintomas1 = outros_sintomas1.to_numpy()\n",
    "\n",
    "sintomas1 = [febre1,tosse1,garganta1,dispneia1,desc_resp1,saturacao1,diarreia1,vomito1,dor_abd1,\n",
    "               fadiga1,perda_olfato1,perda_paladar1,outros_sintomas1]\n",
    "sintomas_desc1 = [\"febre\",\"tosse\",\"garganta\",\"dispneia\",\"desc_resp\",\"saturacao\",\"diarreia\",\n",
    "                   \"vomito\",\"dor_abddominal\",\"fadiga\",\"perda_olfato\",\"perda_paladar\",\n",
    "                   \"outros_sintomas\"]\n",
    "                   \n",
    "# Características GERAIS\n",
    "idade2 = df_test2['NU_IDADE_N'].to_numpy()\n",
    "uf2 = df_test2['SG_UF'].to_numpy()\n",
    "sexo2 = df_test2['CS_SEXO'].to_numpy()\n",
    "gestante2 = df_test2['CS_GESTANT'].to_numpy()\n",
    "raca2 = df_test2['CS_RACA'] \n",
    "escolaridade2 = df_test2['CS_ESCOL_N'].copy() # campo essencial (não obrigatório)\n",
    "escolaridade2[np.isnan(escolaridade2)] = 9\n",
    "escolaridade2 = escolaridade2.to_numpy()\n",
    "zona2 = df_test2['CS_ZONA'].copy()\n",
    "zona2[np.isnan(zona2)] = 9\n",
    "zona2 = zona2.to_numpy()\n",
    "gestante2 = df_test2['CS_GESTANT'].to_numpy()\n",
    "\n",
    "#caracteristicas_gerais2 = [idade2,uf2,sexo2,gestante,raca,escolaridade,zona]\n",
    "caracteristicas_gerais_desc2 = [\"idade\",\"uf\",\"sexo\",\"gestante\",\"raca\",\"escolaridade\",\"zona\"]\n",
    "\n",
    "# Relativos a SINTOMAS, eles são campos **ESSENCIAIS**\n",
    "febre2 = df_test2['FEBRE'].copy()\n",
    "febre2[np.isnan(febre2)] = 9\n",
    "febre2 = febre2.to_numpy()\n",
    "\n",
    "tosse2 = df_test2['TOSSE'].copy()\n",
    "tosse2[np.isnan(tosse2)] = 9\n",
    "tosse2 = tosse2.to_numpy()\n",
    "\n",
    "garganta2 = df_test2['GARGANTA'].copy()\n",
    "garganta2[np.isnan(garganta2)] = 9\n",
    "garganta2 = garganta2.to_numpy()\n",
    "\n",
    "dispneia2 = df_test2['DISPNEIA'].copy()\n",
    "dispneia2[np.isnan(dispneia2)] = 9\n",
    "dispneia2 = dispneia2.to_numpy()\n",
    "\n",
    "desc_resp2 = df_test2['DESC_RESP'].copy()\n",
    "desc_resp2[np.isnan(desc_resp2)] = 9\n",
    "desc_resp2 = desc_resp2.to_numpy()\n",
    "\n",
    "saturacao2 = df_test2['SATURACAO'].copy()\n",
    "saturacao2[np.isnan(saturacao2)] = 9\n",
    "saturacao2 = saturacao2.to_numpy()\n",
    "\n",
    "diarreia2 = df_test2['DIARREIA'].copy()\n",
    "diarreia2[np.isnan(diarreia2)] = 9\n",
    "diarreia2 = diarreia2.to_numpy()\n",
    "\n",
    "vomito2 = df_test2['VOMITO'].copy()\n",
    "vomito2[np.isnan(vomito2)] = 9\n",
    "vomito2 = vomito2.to_numpy()\n",
    "\n",
    "dor_abd2 = df_test2['DOR_ABD'].copy()\n",
    "dor_abd2[np.isnan(dor_abd2)] = 9\n",
    "dor_abd2 = dor_abd2.to_numpy()\n",
    "\n",
    "fadiga2 = df_test2['FADIGA'].copy()\n",
    "fadiga2[np.isnan(fadiga2)] = 9\n",
    "fadiga2 = fadiga2.to_numpy()\n",
    "\n",
    "perda_olfato2 = df_test2['PERD_OLFT'].copy()\n",
    "perda_olfato2[np.isnan(perda_olfato2)] = 9\n",
    "perda_olfato2 = perda_olfato2.to_numpy()\n",
    "\n",
    "perda_paladar2 = df_test2['PERD_PALA'].copy()\n",
    "perda_paladar2[np.isnan(perda_paladar2)] = 9\n",
    "perda_paladar2 = perda_paladar2.to_numpy()\n",
    "\n",
    "outros_sintomas2 = df_test2['OUTRO_SIN'].copy()\n",
    "outros_sintomas2[np.isnan(outros_sintomas2)] = 9\n",
    "outros_sintomas2 = outros_sintomas2.to_numpy()\n",
    "\n",
    "sintomas2 = [febre2,tosse2,garganta2,dispneia2,desc_resp2,saturacao2,diarreia2,vomito2,dor_abd2,\n",
    "               fadiga2,perda_olfato2,perda_paladar2,outros_sintomas2]\n",
    "sintomas_desc2 = [\"febre\",\"tosse\",\"garganta\",\"dispneia\",\"desc_resp\",\"saturacao\",\"diarreia\",\n",
    "                   \"vomito\",\"dor_abddominal\",\"fadiga\",\"perda_olfato\",\"perda_paladar\",\n",
    "                   \"outros_sintomas\"]\n",
    "                   \n",
    "                   \n",
    "# Características GERAIS\n",
    "idade3 = df_test3['NU_IDADE_N'].to_numpy()\n",
    "uf3 = df_test3['SG_UF'].to_numpy()\n",
    "sexo3 = df_test3['CS_SEXO'].to_numpy()\n",
    "gestante3 = df_test3['CS_GESTANT'].to_numpy()\n",
    "raca3 = df_test3['CS_RACA'] \n",
    "escolaridade3 = df_test3['CS_ESCOL_N'].copy() # campo essencial (não obrigatório)\n",
    "escolaridade3[np.isnan(escolaridade3)] = 9\n",
    "escolaridade3 = escolaridade3.to_numpy()\n",
    "zona3 = df_test3['CS_ZONA'].copy()\n",
    "zona3[np.isnan(zona3)] = 9\n",
    "zona3 = zona3.to_numpy()\n",
    "gestante3 = df_test3['CS_GESTANT'].to_numpy()\n",
    "\n",
    "#caracteristicas_gerais3 = [idade,uf,sexo,gestante,raca,escolaridade,zona]\n",
    "caracteristicas_gerais_desc3 = [\"idade\",\"uf\",\"sexo\",\"gestante\",\"raca\",\"escolaridade\",\"zona\"]\n",
    "\n",
    "# Relativos a SINTOMAS, eles são campos **ESSENCIAIS**\n",
    "febre3 = df_test3['FEBRE'].copy()\n",
    "febre3[np.isnan(febre3)] = 9\n",
    "febre3 = febre3.to_numpy()\n",
    "\n",
    "tosse3 = df_test3['TOSSE'].copy()\n",
    "tosse3[np.isnan(tosse3)] = 9\n",
    "tosse3 = tosse3.to_numpy()\n",
    "\n",
    "garganta3 = df_test3['GARGANTA'].copy()\n",
    "garganta3[np.isnan(garganta3)] = 9\n",
    "garganta3 = garganta3.to_numpy()\n",
    "\n",
    "dispneia3 = df_test3['DISPNEIA'].copy()\n",
    "dispneia3[np.isnan(dispneia3)] = 9\n",
    "dispneia3 = dispneia3.to_numpy()\n",
    "\n",
    "desc_resp3 = df_test3['DESC_RESP'].copy()\n",
    "desc_resp3[np.isnan(desc_resp3)] = 9\n",
    "desc_resp3 = desc_resp3.to_numpy()\n",
    "\n",
    "saturacao3 = df_test3['SATURACAO'].copy()\n",
    "saturacao3[np.isnan(saturacao3)] = 9\n",
    "saturacao3 = saturacao3.to_numpy()\n",
    "\n",
    "diarreia3 = df_test3['DIARREIA'].copy()\n",
    "diarreia3[np.isnan(diarreia3)] = 9\n",
    "diarreia3 = diarreia3.to_numpy()\n",
    "\n",
    "vomito3 = df_test3['VOMITO'].copy()\n",
    "vomito3[np.isnan(vomito3)] = 9\n",
    "vomito3 = vomito3.to_numpy()\n",
    "\n",
    "dor_abd3 = df_test3['DOR_ABD'].copy()\n",
    "dor_abd3[np.isnan(dor_abd3)] = 9\n",
    "dor_abd3 = dor_abd3.to_numpy()\n",
    "\n",
    "fadiga3 = df_test3['FADIGA'].copy()\n",
    "fadiga3[np.isnan(fadiga3)] = 9\n",
    "fadiga3 = fadiga3.to_numpy()\n",
    "\n",
    "perda_olfato3 = df_test3['PERD_OLFT'].copy()\n",
    "perda_olfato3[np.isnan(perda_olfato3)] = 9\n",
    "perda_olfato3 = perda_olfato3.to_numpy()\n",
    "\n",
    "perda_paladar3 = df_test3['PERD_PALA'].copy()\n",
    "perda_paladar3[np.isnan(perda_paladar3)] = 9\n",
    "perda_paladar3 = perda_paladar3.to_numpy()\n",
    "\n",
    "outros_sintomas3 = df_test3['OUTRO_SIN'].copy()\n",
    "outros_sintomas3[np.isnan(outros_sintomas3)] = 9\n",
    "outros_sintomas3 = outros_sintomas3.to_numpy()\n",
    "\n",
    "sintomas3 = [febre3,tosse3,garganta3,dispneia3,desc_resp3,saturacao3,diarreia3,vomito3,dor_abd3,\n",
    "               fadiga3,perda_olfato3,perda_paladar3,outros_sintomas3]\n",
    "sintomas_desc3 = [\"febre\",\"tosse\",\"garganta\",\"dispneia\",\"desc_resp\",\"saturacao\",\"diarreia\",\n",
    "                   \"vomito\",\"dor_abddominal\",\"fadiga\",\"perda_olfato\",\"perda_paladar\",\n",
    "                   \"outros_sintomas\"]\n",
    "for i in range(0,len(sexo1)):\n",
    "    if(sexo1[i] == 'F'):\n",
    "        sexo1[i] = 0\n",
    "    else:\n",
    "        sexo1[i] = 1\n",
    "        \n",
    "for i in range(0,len(sexo2)):\n",
    "    if(sexo2[i] == 'F'):\n",
    "        sexo2[i] = 0\n",
    "    else:\n",
    "        sexo2[i] = 1\n",
    "        \n",
    "for i in range(0,len(sexo3)):\n",
    "    if(sexo3[i] == 'F'):\n",
    "        sexo3[i] = 0\n",
    "    else:\n",
    "        sexo3[i] = 1"
   ]
  },
  {
   "cell_type": "code",
   "execution_count": null,
   "id": "63bdfea4-c08f-4a27-9f51-b5236d70e93a",
   "metadata": {
    "tags": []
   },
   "outputs": [],
   "source": [
    "# df_test.head(1)\n",
    "# import joblib\n",
    "# filename = 'modelo_teste.sav'\n",
    "# joblib.dump(clf, filename)\n"
   ]
  },
  {
   "cell_type": "code",
   "execution_count": null,
   "id": "6eadf0c0-4e86-46da-a4a6-3ac299446e2f",
   "metadata": {
    "tags": []
   },
   "outputs": [],
   "source": [
    "# Y1 = df_test_target1\n",
    "X1 = np.concatenate([saturacao1**2,perda_olfato1**0.3,perda_paladar1,\n",
    "                    sexo1,idade1**2,zona1**0.3]).reshape(len(saturacao1),6)\n",
    "\n",
    "# Y2 = df_test_target2\n",
    "X2 = np.concatenate([idade2,saturacao2**10,gestante2,sexo2,\n",
    "                    fadiga2, raca2, vomito2**0.8, dispneia2**2,\n",
    "                    perda_paladar2**6, zona2**0.15,\n",
    "                    ]).reshape(len(saturacao2),10)\n",
    "\n",
    "\n",
    "#Y3 = df_train_target3\n",
    "X3 = np.concatenate([idade3,perda_paladar3**4,fadiga3,saturacao3,\n",
    "                    febre3, perda_olfato3, sexo3, raca3**2]).reshape(len(saturacao3),8)"
   ]
  },
  {
   "cell_type": "code",
   "execution_count": null,
   "id": "966aa9d1-c615-4349-9cd7-db14d929a712",
   "metadata": {
    "tags": []
   },
   "outputs": [],
   "source": [
    "prediction_test1 = neigh1.predict(X1)\n",
    "prediction_test2 = neigh2.predict(X2)\n",
    "prediction_test3 = neigh3.predict(X3)"
   ]
  },
  {
   "cell_type": "code",
   "execution_count": null,
   "id": "d89a6a20-1817-4222-9400-a67ad6c0c6dc",
   "metadata": {
    "tags": []
   },
   "outputs": [],
   "source": [
    "# prediction_test1 = np.round(prediction_test1)\n",
    "# prediction_test2 = np.round(prediction_test2)\n",
    "# prediction_test3 = np.round(prediction_test3)\n",
    "\n",
    "# prediction_test1 = prediction_test1.astype(np.int32).reshape(1,-1)\n",
    "# prediction_test2 = prediction_test2.astype(np.int32).reshape(1,-1)\n",
    "# prediction_test3 = prediction_test3.astype(np.int32).reshape(1,-1)\n",
    "\n",
    "#prediction_test = np.concatenate((prediction_test1, prediction_test2, prediction_test3), axis=1)[0]\n",
    "prediction_test = np.concatenate((prediction_test1, prediction_test2, prediction_test3), axis=0)\n",
    "\n"
   ]
  },
  {
   "cell_type": "code",
   "execution_count": null,
   "id": "e68f85fc-98fa-40d6-abf6-649b827fa303",
   "metadata": {
    "tags": []
   },
   "outputs": [
    {
     "data": {
      "text/plain": [
       "array([4, 4, 4, ..., 5, 5, 5])"
      ]
     },
     "execution_count": 68,
     "metadata": {},
     "output_type": "execute_result"
    }
   ],
   "source": [
    "prediction_test"
   ]
  },
  {
   "cell_type": "code",
   "execution_count": null,
   "id": "3c971305-36ff-472d-865b-c64faccedeb5",
   "metadata": {
    "tags": []
   },
   "outputs": [],
   "source": [
    "submission_file = pd.read_csv('../data/sample_submission.csv')"
   ]
  },
  {
   "cell_type": "code",
   "execution_count": null,
   "id": "3a7f9875-b802-438e-bbdb-251708bf32d5",
   "metadata": {
    "tags": []
   },
   "outputs": [],
   "source": [
    "submission_file['CLASSI_FIN'] = prediction_test"
   ]
  },
  {
   "cell_type": "code",
   "execution_count": null,
   "id": "90186761-14f0-4ed3-8812-eb26c062d242",
   "metadata": {
    "tags": []
   },
   "outputs": [],
   "source": [
    "submission_file.to_csv('predicted_data.csv',index=False)"
   ]
  },
  {
   "cell_type": "code",
   "execution_count": null,
   "id": "0ef457ad-b045-41eb-b6d4-a789b779f269",
   "metadata": {},
   "outputs": [],
   "source": []
  },
  {
   "cell_type": "code",
   "execution_count": null,
   "id": "9ddd6375-d6a3-4ad6-a355-4d0725b92e21",
   "metadata": {},
   "outputs": [
    {
     "data": {
      "text/plain": [
       "1"
      ]
     },
     "execution_count": 172,
     "metadata": {},
     "output_type": "execute_result"
    }
   ],
   "source": []
  },
  {
   "cell_type": "code",
   "execution_count": null,
   "id": "36757c6c-187b-4fb3-adad-c75efa6cb84e",
   "metadata": {},
   "outputs": [],
   "source": []
  }
 ],
 "metadata": {
  "kernelspec": {
   "display_name": "base",
   "language": "python",
   "name": "python3"
  },
  "language_info": {
   "codemirror_mode": {
    "name": "ipython",
    "version": 3
   },
   "file_extension": ".py",
   "mimetype": "text/x-python",
   "name": "python",
   "nbconvert_exporter": "python",
   "pygments_lexer": "ipython3",
   "version": "3.9.13"
  },
  "vscode": {
   "interpreter": {
    "hash": "2066b1a832a0b46faad06a02eb9bdc6a649428081125bc55e18d884bc257b4e1"
   }
  }
 },
 "nbformat": 4,
 "nbformat_minor": 5
}
